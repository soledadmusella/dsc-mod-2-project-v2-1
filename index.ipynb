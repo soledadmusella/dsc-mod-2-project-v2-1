{
 "cells": [
  {
   "cell_type": "code",
   "execution_count": 1,
   "metadata": {
    "ExecuteTime": {
     "end_time": "2020-03-25T17:45:53.192373Z",
     "start_time": "2020-03-25T17:45:49.420862Z"
    }
   },
   "outputs": [],
   "source": [
    "import pandas as pd\n",
    "import numpy as np\n",
    "import matplotlib.pyplot as plt\n",
    "import seaborn as sns\n",
    "%matplotlib inline\n",
    "import statsmodels.api as sm\n",
    "from scipy import stats\n",
    "from sklearn.model_selection import train_test_split\n",
    "from sklearn.linear_model import LinearRegression\n"
   ]
  },
  {
   "cell_type": "code",
   "execution_count": 2,
   "metadata": {
    "ExecuteTime": {
     "end_time": "2020-03-25T17:45:53.383808Z",
     "start_time": "2020-03-25T17:45:53.195349Z"
    }
   },
   "outputs": [],
   "source": [
    "kc_house = pd.read_csv(\"kc_house_data.csv\")"
   ]
  },
  {
   "cell_type": "code",
   "execution_count": 3,
   "metadata": {
    "ExecuteTime": {
     "end_time": "2020-03-25T17:45:53.564829Z",
     "start_time": "2020-03-25T17:45:53.386184Z"
    }
   },
   "outputs": [
    {
     "data": {
      "text/html": [
       "<div>\n",
       "<style scoped>\n",
       "    .dataframe tbody tr th:only-of-type {\n",
       "        vertical-align: middle;\n",
       "    }\n",
       "\n",
       "    .dataframe tbody tr th {\n",
       "        vertical-align: top;\n",
       "    }\n",
       "\n",
       "    .dataframe thead th {\n",
       "        text-align: right;\n",
       "    }\n",
       "</style>\n",
       "<table border=\"1\" class=\"dataframe\">\n",
       "  <thead>\n",
       "    <tr style=\"text-align: right;\">\n",
       "      <th></th>\n",
       "      <th>id</th>\n",
       "      <th>date</th>\n",
       "      <th>price</th>\n",
       "      <th>bedrooms</th>\n",
       "      <th>bathrooms</th>\n",
       "      <th>sqft_living</th>\n",
       "      <th>sqft_lot</th>\n",
       "      <th>floors</th>\n",
       "      <th>waterfront</th>\n",
       "      <th>view</th>\n",
       "      <th>...</th>\n",
       "      <th>grade</th>\n",
       "      <th>sqft_above</th>\n",
       "      <th>sqft_basement</th>\n",
       "      <th>yr_built</th>\n",
       "      <th>yr_renovated</th>\n",
       "      <th>zipcode</th>\n",
       "      <th>lat</th>\n",
       "      <th>long</th>\n",
       "      <th>sqft_living15</th>\n",
       "      <th>sqft_lot15</th>\n",
       "    </tr>\n",
       "  </thead>\n",
       "  <tbody>\n",
       "    <tr>\n",
       "      <th>0</th>\n",
       "      <td>7129300520</td>\n",
       "      <td>10/13/2014</td>\n",
       "      <td>221900.0</td>\n",
       "      <td>3</td>\n",
       "      <td>1.00</td>\n",
       "      <td>1180</td>\n",
       "      <td>5650</td>\n",
       "      <td>1.0</td>\n",
       "      <td>NaN</td>\n",
       "      <td>0.0</td>\n",
       "      <td>...</td>\n",
       "      <td>7</td>\n",
       "      <td>1180</td>\n",
       "      <td>0.0</td>\n",
       "      <td>1955</td>\n",
       "      <td>0.0</td>\n",
       "      <td>98178</td>\n",
       "      <td>47.5112</td>\n",
       "      <td>-122.257</td>\n",
       "      <td>1340</td>\n",
       "      <td>5650</td>\n",
       "    </tr>\n",
       "    <tr>\n",
       "      <th>1</th>\n",
       "      <td>6414100192</td>\n",
       "      <td>12/9/2014</td>\n",
       "      <td>538000.0</td>\n",
       "      <td>3</td>\n",
       "      <td>2.25</td>\n",
       "      <td>2570</td>\n",
       "      <td>7242</td>\n",
       "      <td>2.0</td>\n",
       "      <td>0.0</td>\n",
       "      <td>0.0</td>\n",
       "      <td>...</td>\n",
       "      <td>7</td>\n",
       "      <td>2170</td>\n",
       "      <td>400.0</td>\n",
       "      <td>1951</td>\n",
       "      <td>1991.0</td>\n",
       "      <td>98125</td>\n",
       "      <td>47.7210</td>\n",
       "      <td>-122.319</td>\n",
       "      <td>1690</td>\n",
       "      <td>7639</td>\n",
       "    </tr>\n",
       "    <tr>\n",
       "      <th>2</th>\n",
       "      <td>5631500400</td>\n",
       "      <td>2/25/2015</td>\n",
       "      <td>180000.0</td>\n",
       "      <td>2</td>\n",
       "      <td>1.00</td>\n",
       "      <td>770</td>\n",
       "      <td>10000</td>\n",
       "      <td>1.0</td>\n",
       "      <td>0.0</td>\n",
       "      <td>0.0</td>\n",
       "      <td>...</td>\n",
       "      <td>6</td>\n",
       "      <td>770</td>\n",
       "      <td>0.0</td>\n",
       "      <td>1933</td>\n",
       "      <td>NaN</td>\n",
       "      <td>98028</td>\n",
       "      <td>47.7379</td>\n",
       "      <td>-122.233</td>\n",
       "      <td>2720</td>\n",
       "      <td>8062</td>\n",
       "    </tr>\n",
       "    <tr>\n",
       "      <th>3</th>\n",
       "      <td>2487200875</td>\n",
       "      <td>12/9/2014</td>\n",
       "      <td>604000.0</td>\n",
       "      <td>4</td>\n",
       "      <td>3.00</td>\n",
       "      <td>1960</td>\n",
       "      <td>5000</td>\n",
       "      <td>1.0</td>\n",
       "      <td>0.0</td>\n",
       "      <td>0.0</td>\n",
       "      <td>...</td>\n",
       "      <td>7</td>\n",
       "      <td>1050</td>\n",
       "      <td>910.0</td>\n",
       "      <td>1965</td>\n",
       "      <td>0.0</td>\n",
       "      <td>98136</td>\n",
       "      <td>47.5208</td>\n",
       "      <td>-122.393</td>\n",
       "      <td>1360</td>\n",
       "      <td>5000</td>\n",
       "    </tr>\n",
       "    <tr>\n",
       "      <th>4</th>\n",
       "      <td>1954400510</td>\n",
       "      <td>2/18/2015</td>\n",
       "      <td>510000.0</td>\n",
       "      <td>3</td>\n",
       "      <td>2.00</td>\n",
       "      <td>1680</td>\n",
       "      <td>8080</td>\n",
       "      <td>1.0</td>\n",
       "      <td>0.0</td>\n",
       "      <td>0.0</td>\n",
       "      <td>...</td>\n",
       "      <td>8</td>\n",
       "      <td>1680</td>\n",
       "      <td>0.0</td>\n",
       "      <td>1987</td>\n",
       "      <td>0.0</td>\n",
       "      <td>98074</td>\n",
       "      <td>47.6168</td>\n",
       "      <td>-122.045</td>\n",
       "      <td>1800</td>\n",
       "      <td>7503</td>\n",
       "    </tr>\n",
       "  </tbody>\n",
       "</table>\n",
       "<p>5 rows × 21 columns</p>\n",
       "</div>"
      ],
      "text/plain": [
       "           id        date     price  bedrooms  bathrooms  sqft_living  \\\n",
       "0  7129300520  10/13/2014  221900.0         3       1.00         1180   \n",
       "1  6414100192   12/9/2014  538000.0         3       2.25         2570   \n",
       "2  5631500400   2/25/2015  180000.0         2       1.00          770   \n",
       "3  2487200875   12/9/2014  604000.0         4       3.00         1960   \n",
       "4  1954400510   2/18/2015  510000.0         3       2.00         1680   \n",
       "\n",
       "   sqft_lot  floors  waterfront  view     ...      grade  sqft_above  \\\n",
       "0      5650     1.0         NaN   0.0     ...          7        1180   \n",
       "1      7242     2.0         0.0   0.0     ...          7        2170   \n",
       "2     10000     1.0         0.0   0.0     ...          6         770   \n",
       "3      5000     1.0         0.0   0.0     ...          7        1050   \n",
       "4      8080     1.0         0.0   0.0     ...          8        1680   \n",
       "\n",
       "   sqft_basement yr_built  yr_renovated  zipcode      lat     long  \\\n",
       "0            0.0     1955           0.0    98178  47.5112 -122.257   \n",
       "1          400.0     1951        1991.0    98125  47.7210 -122.319   \n",
       "2            0.0     1933           NaN    98028  47.7379 -122.233   \n",
       "3          910.0     1965           0.0    98136  47.5208 -122.393   \n",
       "4            0.0     1987           0.0    98074  47.6168 -122.045   \n",
       "\n",
       "   sqft_living15  sqft_lot15  \n",
       "0           1340        5650  \n",
       "1           1690        7639  \n",
       "2           2720        8062  \n",
       "3           1360        5000  \n",
       "4           1800        7503  \n",
       "\n",
       "[5 rows x 21 columns]"
      ]
     },
     "execution_count": 3,
     "metadata": {},
     "output_type": "execute_result"
    }
   ],
   "source": [
    "kc_house.head()"
   ]
  },
  {
   "cell_type": "markdown",
   "metadata": {},
   "source": [
    "DATA CLEANING AND DATA INSPECTING"
   ]
  },
  {
   "cell_type": "code",
   "execution_count": 4,
   "metadata": {
    "ExecuteTime": {
     "end_time": "2020-03-25T17:45:53.599176Z",
     "start_time": "2020-03-25T17:45:53.588695Z"
    }
   },
   "outputs": [
    {
     "data": {
      "text/plain": [
       "(21597, 21)"
      ]
     },
     "execution_count": 4,
     "metadata": {},
     "output_type": "execute_result"
    }
   ],
   "source": [
    "kc_house.shape"
   ]
  },
  {
   "cell_type": "code",
   "execution_count": 5,
   "metadata": {
    "ExecuteTime": {
     "end_time": "2020-03-25T17:45:53.618096Z",
     "start_time": "2020-03-25T17:45:53.601692Z"
    }
   },
   "outputs": [],
   "source": [
    "# as I'm doing a solo project i can ignore the following features: date, view, sqft_above,sqft_basement,yr_renovated,zipcode,lat,long,sqft_living15,sqft_lot15\n"
   ]
  },
  {
   "cell_type": "code",
   "execution_count": 6,
   "metadata": {
    "ExecuteTime": {
     "end_time": "2020-03-25T17:45:53.630777Z",
     "start_time": "2020-03-25T17:45:53.622666Z"
    }
   },
   "outputs": [],
   "source": [
    "kc_house.drop([\"date\",\"view\",\"sqft_above\",\"sqft_basement\",\"yr_renovated\",\"zipcode\",\n",
    "               \"lat\",\"long\",\"sqft_living15\",\"sqft_lot15\"],axis=1, inplace=True)\n"
   ]
  },
  {
   "cell_type": "code",
   "execution_count": 7,
   "metadata": {
    "ExecuteTime": {
     "end_time": "2020-03-25T17:45:53.756391Z",
     "start_time": "2020-03-25T17:45:53.636660Z"
    }
   },
   "outputs": [
    {
     "data": {
      "text/html": [
       "<div>\n",
       "<style scoped>\n",
       "    .dataframe tbody tr th:only-of-type {\n",
       "        vertical-align: middle;\n",
       "    }\n",
       "\n",
       "    .dataframe tbody tr th {\n",
       "        vertical-align: top;\n",
       "    }\n",
       "\n",
       "    .dataframe thead th {\n",
       "        text-align: right;\n",
       "    }\n",
       "</style>\n",
       "<table border=\"1\" class=\"dataframe\">\n",
       "  <thead>\n",
       "    <tr style=\"text-align: right;\">\n",
       "      <th></th>\n",
       "      <th>id</th>\n",
       "      <th>price</th>\n",
       "      <th>bedrooms</th>\n",
       "      <th>bathrooms</th>\n",
       "      <th>sqft_living</th>\n",
       "      <th>sqft_lot</th>\n",
       "      <th>floors</th>\n",
       "      <th>waterfront</th>\n",
       "      <th>condition</th>\n",
       "      <th>grade</th>\n",
       "      <th>yr_built</th>\n",
       "    </tr>\n",
       "  </thead>\n",
       "  <tbody>\n",
       "    <tr>\n",
       "      <th>0</th>\n",
       "      <td>7129300520</td>\n",
       "      <td>221900.0</td>\n",
       "      <td>3</td>\n",
       "      <td>1.00</td>\n",
       "      <td>1180</td>\n",
       "      <td>5650</td>\n",
       "      <td>1.0</td>\n",
       "      <td>NaN</td>\n",
       "      <td>3</td>\n",
       "      <td>7</td>\n",
       "      <td>1955</td>\n",
       "    </tr>\n",
       "    <tr>\n",
       "      <th>1</th>\n",
       "      <td>6414100192</td>\n",
       "      <td>538000.0</td>\n",
       "      <td>3</td>\n",
       "      <td>2.25</td>\n",
       "      <td>2570</td>\n",
       "      <td>7242</td>\n",
       "      <td>2.0</td>\n",
       "      <td>0.0</td>\n",
       "      <td>3</td>\n",
       "      <td>7</td>\n",
       "      <td>1951</td>\n",
       "    </tr>\n",
       "    <tr>\n",
       "      <th>2</th>\n",
       "      <td>5631500400</td>\n",
       "      <td>180000.0</td>\n",
       "      <td>2</td>\n",
       "      <td>1.00</td>\n",
       "      <td>770</td>\n",
       "      <td>10000</td>\n",
       "      <td>1.0</td>\n",
       "      <td>0.0</td>\n",
       "      <td>3</td>\n",
       "      <td>6</td>\n",
       "      <td>1933</td>\n",
       "    </tr>\n",
       "    <tr>\n",
       "      <th>3</th>\n",
       "      <td>2487200875</td>\n",
       "      <td>604000.0</td>\n",
       "      <td>4</td>\n",
       "      <td>3.00</td>\n",
       "      <td>1960</td>\n",
       "      <td>5000</td>\n",
       "      <td>1.0</td>\n",
       "      <td>0.0</td>\n",
       "      <td>5</td>\n",
       "      <td>7</td>\n",
       "      <td>1965</td>\n",
       "    </tr>\n",
       "    <tr>\n",
       "      <th>4</th>\n",
       "      <td>1954400510</td>\n",
       "      <td>510000.0</td>\n",
       "      <td>3</td>\n",
       "      <td>2.00</td>\n",
       "      <td>1680</td>\n",
       "      <td>8080</td>\n",
       "      <td>1.0</td>\n",
       "      <td>0.0</td>\n",
       "      <td>3</td>\n",
       "      <td>8</td>\n",
       "      <td>1987</td>\n",
       "    </tr>\n",
       "  </tbody>\n",
       "</table>\n",
       "</div>"
      ],
      "text/plain": [
       "           id     price  bedrooms  bathrooms  sqft_living  sqft_lot  floors  \\\n",
       "0  7129300520  221900.0         3       1.00         1180      5650     1.0   \n",
       "1  6414100192  538000.0         3       2.25         2570      7242     2.0   \n",
       "2  5631500400  180000.0         2       1.00          770     10000     1.0   \n",
       "3  2487200875  604000.0         4       3.00         1960      5000     1.0   \n",
       "4  1954400510  510000.0         3       2.00         1680      8080     1.0   \n",
       "\n",
       "   waterfront  condition  grade  yr_built  \n",
       "0         NaN          3      7      1955  \n",
       "1         0.0          3      7      1951  \n",
       "2         0.0          3      6      1933  \n",
       "3         0.0          5      7      1965  \n",
       "4         0.0          3      8      1987  "
      ]
     },
     "execution_count": 7,
     "metadata": {},
     "output_type": "execute_result"
    }
   ],
   "source": [
    "kc_house.head()"
   ]
  },
  {
   "cell_type": "code",
   "execution_count": 8,
   "metadata": {
    "ExecuteTime": {
     "end_time": "2020-03-25T17:45:53.790408Z",
     "start_time": "2020-03-25T17:45:53.769014Z"
    }
   },
   "outputs": [
    {
     "data": {
      "text/plain": [
       "(21597, 11)"
      ]
     },
     "execution_count": 8,
     "metadata": {},
     "output_type": "execute_result"
    }
   ],
   "source": [
    "kc_house.shape"
   ]
  },
  {
   "cell_type": "code",
   "execution_count": 9,
   "metadata": {
    "ExecuteTime": {
     "end_time": "2020-03-25T17:45:53.889800Z",
     "start_time": "2020-03-25T17:45:53.793027Z"
    }
   },
   "outputs": [
    {
     "name": "stdout",
     "output_type": "stream",
     "text": [
      "<class 'pandas.core.frame.DataFrame'>\n",
      "RangeIndex: 21597 entries, 0 to 21596\n",
      "Data columns (total 11 columns):\n",
      "id             21597 non-null int64\n",
      "price          21597 non-null float64\n",
      "bedrooms       21597 non-null int64\n",
      "bathrooms      21597 non-null float64\n",
      "sqft_living    21597 non-null int64\n",
      "sqft_lot       21597 non-null int64\n",
      "floors         21597 non-null float64\n",
      "waterfront     19221 non-null float64\n",
      "condition      21597 non-null int64\n",
      "grade          21597 non-null int64\n",
      "yr_built       21597 non-null int64\n",
      "dtypes: float64(4), int64(7)\n",
      "memory usage: 1.8 MB\n"
     ]
    }
   ],
   "source": [
    "kc_house.info()"
   ]
  },
  {
   "cell_type": "code",
   "execution_count": 10,
   "metadata": {
    "ExecuteTime": {
     "end_time": "2020-03-25T17:45:53.920031Z",
     "start_time": "2020-03-25T17:45:53.901405Z"
    }
   },
   "outputs": [],
   "source": [
    "#the column waterfront has null values"
   ]
  },
  {
   "cell_type": "code",
   "execution_count": 11,
   "metadata": {
    "ExecuteTime": {
     "end_time": "2020-03-25T17:45:53.936284Z",
     "start_time": "2020-03-25T17:45:53.924538Z"
    }
   },
   "outputs": [
    {
     "data": {
      "text/plain": [
       "2376"
      ]
     },
     "execution_count": 11,
     "metadata": {},
     "output_type": "execute_result"
    }
   ],
   "source": [
    "kc_house[\"waterfront\"].isna().sum()"
   ]
  },
  {
   "cell_type": "code",
   "execution_count": 12,
   "metadata": {
    "ExecuteTime": {
     "end_time": "2020-03-25T17:45:53.970181Z",
     "start_time": "2020-03-25T17:45:53.960931Z"
    }
   },
   "outputs": [
    {
     "data": {
      "text/plain": [
       "11.00152798999861"
      ]
     },
     "execution_count": 12,
     "metadata": {},
     "output_type": "execute_result"
    }
   ],
   "source": [
    "100*kc_house[\"waterfront\"].isna().sum()/len(kc_house)"
   ]
  },
  {
   "cell_type": "markdown",
   "metadata": {},
   "source": [
    "11% of the data have null value for the waterfront, this is maybe too much but I'm going to drop it. If i have time I'll fill it with the most likely value"
   ]
  },
  {
   "cell_type": "code",
   "execution_count": 13,
   "metadata": {
    "ExecuteTime": {
     "end_time": "2020-03-25T17:45:54.051510Z",
     "start_time": "2020-03-25T17:45:53.981257Z"
    }
   },
   "outputs": [],
   "source": [
    "kc_house.dropna(subset=[\"waterfront\"], inplace=True)"
   ]
  },
  {
   "cell_type": "code",
   "execution_count": 14,
   "metadata": {
    "ExecuteTime": {
     "end_time": "2020-03-25T17:45:54.085005Z",
     "start_time": "2020-03-25T17:45:54.064599Z"
    }
   },
   "outputs": [
    {
     "data": {
      "text/plain": [
       "0"
      ]
     },
     "execution_count": 14,
     "metadata": {},
     "output_type": "execute_result"
    }
   ],
   "source": [
    "kc_house[\"waterfront\"].isna().sum()"
   ]
  },
  {
   "cell_type": "code",
   "execution_count": 15,
   "metadata": {
    "ExecuteTime": {
     "end_time": "2020-03-25T17:45:54.097341Z",
     "start_time": "2020-03-25T17:45:54.088387Z"
    }
   },
   "outputs": [],
   "source": [
    "#let's analyse all the columns one by one "
   ]
  },
  {
   "cell_type": "code",
   "execution_count": 16,
   "metadata": {
    "ExecuteTime": {
     "end_time": "2020-03-25T17:45:54.558520Z",
     "start_time": "2020-03-25T17:45:54.104493Z"
    }
   },
   "outputs": [
    {
     "data": {
      "text/html": [
       "<div>\n",
       "<style scoped>\n",
       "    .dataframe tbody tr th:only-of-type {\n",
       "        vertical-align: middle;\n",
       "    }\n",
       "\n",
       "    .dataframe tbody tr th {\n",
       "        vertical-align: top;\n",
       "    }\n",
       "\n",
       "    .dataframe thead th {\n",
       "        text-align: right;\n",
       "    }\n",
       "</style>\n",
       "<table border=\"1\" class=\"dataframe\">\n",
       "  <thead>\n",
       "    <tr style=\"text-align: right;\">\n",
       "      <th></th>\n",
       "      <th>id</th>\n",
       "      <th>price</th>\n",
       "      <th>bedrooms</th>\n",
       "      <th>bathrooms</th>\n",
       "      <th>sqft_living</th>\n",
       "      <th>sqft_lot</th>\n",
       "      <th>floors</th>\n",
       "      <th>waterfront</th>\n",
       "      <th>condition</th>\n",
       "      <th>grade</th>\n",
       "      <th>yr_built</th>\n",
       "    </tr>\n",
       "  </thead>\n",
       "  <tbody>\n",
       "    <tr>\n",
       "      <th>count</th>\n",
       "      <td>1.922100e+04</td>\n",
       "      <td>1.922100e+04</td>\n",
       "      <td>19221.000000</td>\n",
       "      <td>19221.000000</td>\n",
       "      <td>19221.000000</td>\n",
       "      <td>1.922100e+04</td>\n",
       "      <td>19221.000000</td>\n",
       "      <td>19221.000000</td>\n",
       "      <td>19221.000000</td>\n",
       "      <td>19221.000000</td>\n",
       "      <td>19221.000000</td>\n",
       "    </tr>\n",
       "    <tr>\n",
       "      <th>mean</th>\n",
       "      <td>4.592301e+09</td>\n",
       "      <td>5.416398e+05</td>\n",
       "      <td>3.374642</td>\n",
       "      <td>2.117072</td>\n",
       "      <td>2082.420894</td>\n",
       "      <td>1.507376e+04</td>\n",
       "      <td>1.495031</td>\n",
       "      <td>0.007596</td>\n",
       "      <td>3.409968</td>\n",
       "      <td>7.661048</td>\n",
       "      <td>1971.039800</td>\n",
       "    </tr>\n",
       "    <tr>\n",
       "      <th>std</th>\n",
       "      <td>2.876995e+09</td>\n",
       "      <td>3.722478e+05</td>\n",
       "      <td>0.928539</td>\n",
       "      <td>0.769576</td>\n",
       "      <td>922.544859</td>\n",
       "      <td>4.081729e+04</td>\n",
       "      <td>0.540155</td>\n",
       "      <td>0.086825</td>\n",
       "      <td>0.650280</td>\n",
       "      <td>1.175998</td>\n",
       "      <td>29.384666</td>\n",
       "    </tr>\n",
       "    <tr>\n",
       "      <th>min</th>\n",
       "      <td>1.000102e+06</td>\n",
       "      <td>7.800000e+04</td>\n",
       "      <td>1.000000</td>\n",
       "      <td>0.500000</td>\n",
       "      <td>370.000000</td>\n",
       "      <td>5.200000e+02</td>\n",
       "      <td>1.000000</td>\n",
       "      <td>0.000000</td>\n",
       "      <td>1.000000</td>\n",
       "      <td>3.000000</td>\n",
       "      <td>1900.000000</td>\n",
       "    </tr>\n",
       "    <tr>\n",
       "      <th>25%</th>\n",
       "      <td>2.124049e+09</td>\n",
       "      <td>3.220000e+05</td>\n",
       "      <td>3.000000</td>\n",
       "      <td>1.750000</td>\n",
       "      <td>1430.000000</td>\n",
       "      <td>5.040000e+03</td>\n",
       "      <td>1.000000</td>\n",
       "      <td>0.000000</td>\n",
       "      <td>3.000000</td>\n",
       "      <td>7.000000</td>\n",
       "      <td>1951.000000</td>\n",
       "    </tr>\n",
       "    <tr>\n",
       "      <th>50%</th>\n",
       "      <td>3.905081e+09</td>\n",
       "      <td>4.500000e+05</td>\n",
       "      <td>3.000000</td>\n",
       "      <td>2.250000</td>\n",
       "      <td>1920.000000</td>\n",
       "      <td>7.620000e+03</td>\n",
       "      <td>1.500000</td>\n",
       "      <td>0.000000</td>\n",
       "      <td>3.000000</td>\n",
       "      <td>7.000000</td>\n",
       "      <td>1975.000000</td>\n",
       "    </tr>\n",
       "    <tr>\n",
       "      <th>75%</th>\n",
       "      <td>7.334501e+09</td>\n",
       "      <td>6.440000e+05</td>\n",
       "      <td>4.000000</td>\n",
       "      <td>2.500000</td>\n",
       "      <td>2550.000000</td>\n",
       "      <td>1.071600e+04</td>\n",
       "      <td>2.000000</td>\n",
       "      <td>0.000000</td>\n",
       "      <td>4.000000</td>\n",
       "      <td>8.000000</td>\n",
       "      <td>1997.000000</td>\n",
       "    </tr>\n",
       "    <tr>\n",
       "      <th>max</th>\n",
       "      <td>9.900000e+09</td>\n",
       "      <td>7.700000e+06</td>\n",
       "      <td>33.000000</td>\n",
       "      <td>8.000000</td>\n",
       "      <td>13540.000000</td>\n",
       "      <td>1.651359e+06</td>\n",
       "      <td>3.500000</td>\n",
       "      <td>1.000000</td>\n",
       "      <td>5.000000</td>\n",
       "      <td>13.000000</td>\n",
       "      <td>2015.000000</td>\n",
       "    </tr>\n",
       "  </tbody>\n",
       "</table>\n",
       "</div>"
      ],
      "text/plain": [
       "                 id         price      bedrooms     bathrooms   sqft_living  \\\n",
       "count  1.922100e+04  1.922100e+04  19221.000000  19221.000000  19221.000000   \n",
       "mean   4.592301e+09  5.416398e+05      3.374642      2.117072   2082.420894   \n",
       "std    2.876995e+09  3.722478e+05      0.928539      0.769576    922.544859   \n",
       "min    1.000102e+06  7.800000e+04      1.000000      0.500000    370.000000   \n",
       "25%    2.124049e+09  3.220000e+05      3.000000      1.750000   1430.000000   \n",
       "50%    3.905081e+09  4.500000e+05      3.000000      2.250000   1920.000000   \n",
       "75%    7.334501e+09  6.440000e+05      4.000000      2.500000   2550.000000   \n",
       "max    9.900000e+09  7.700000e+06     33.000000      8.000000  13540.000000   \n",
       "\n",
       "           sqft_lot        floors    waterfront     condition         grade  \\\n",
       "count  1.922100e+04  19221.000000  19221.000000  19221.000000  19221.000000   \n",
       "mean   1.507376e+04      1.495031      0.007596      3.409968      7.661048   \n",
       "std    4.081729e+04      0.540155      0.086825      0.650280      1.175998   \n",
       "min    5.200000e+02      1.000000      0.000000      1.000000      3.000000   \n",
       "25%    5.040000e+03      1.000000      0.000000      3.000000      7.000000   \n",
       "50%    7.620000e+03      1.500000      0.000000      3.000000      7.000000   \n",
       "75%    1.071600e+04      2.000000      0.000000      4.000000      8.000000   \n",
       "max    1.651359e+06      3.500000      1.000000      5.000000     13.000000   \n",
       "\n",
       "           yr_built  \n",
       "count  19221.000000  \n",
       "mean    1971.039800  \n",
       "std       29.384666  \n",
       "min     1900.000000  \n",
       "25%     1951.000000  \n",
       "50%     1975.000000  \n",
       "75%     1997.000000  \n",
       "max     2015.000000  "
      ]
     },
     "execution_count": 16,
     "metadata": {},
     "output_type": "execute_result"
    }
   ],
   "source": [
    "kc_house.describe()"
   ]
  },
  {
   "cell_type": "code",
   "execution_count": 17,
   "metadata": {
    "ExecuteTime": {
     "end_time": "2020-03-25T17:45:54.586623Z",
     "start_time": "2020-03-25T17:45:54.568362Z"
    }
   },
   "outputs": [
    {
     "data": {
      "text/plain": [
       "3     8721\n",
       "4     6149\n",
       "2     2451\n",
       "5     1441\n",
       "6      227\n",
       "1      175\n",
       "7       35\n",
       "8       11\n",
       "9        6\n",
       "10       3\n",
       "11       1\n",
       "33       1\n",
       "Name: bedrooms, dtype: int64"
      ]
     },
     "execution_count": 17,
     "metadata": {},
     "output_type": "execute_result"
    }
   ],
   "source": [
    "kc_house[\"bedrooms\"].value_counts()"
   ]
  },
  {
   "cell_type": "code",
   "execution_count": 18,
   "metadata": {
    "ExecuteTime": {
     "end_time": "2020-03-25T17:45:54.612303Z",
     "start_time": "2020-03-25T17:45:54.589353Z"
    }
   },
   "outputs": [],
   "source": [
    "#apparently there are few values that I can consider as an outliers: 1 house with 33 bedrooms,1 house with 11 bedrooms, 3 houses with 10 bedroom\n",
    "#I decided to filter the bedrooms by <= 11 to eliminate the outliers"
   ]
  },
  {
   "cell_type": "code",
   "execution_count": 19,
   "metadata": {
    "ExecuteTime": {
     "end_time": "2020-03-25T17:45:54.647784Z",
     "start_time": "2020-03-25T17:45:54.625573Z"
    },
    "scrolled": true
   },
   "outputs": [
    {
     "data": {
      "text/plain": [
       "array([ 3,  2,  4,  5,  1,  6,  7,  8,  9, 11, 10])"
      ]
     },
     "execution_count": 19,
     "metadata": {},
     "output_type": "execute_result"
    }
   ],
   "source": [
    "kc_house = kc_house[kc_house[\"bedrooms\"] <= 11].reset_index(drop=True)\n",
    "kc_house.bedrooms.unique()"
   ]
  },
  {
   "cell_type": "code",
   "execution_count": 20,
   "metadata": {
    "ExecuteTime": {
     "end_time": "2020-03-25T17:45:54.729314Z",
     "start_time": "2020-03-25T17:45:54.668884Z"
    }
   },
   "outputs": [
    {
     "data": {
      "text/plain": [
       "count    19220.000000\n",
       "mean         2.117092\n",
       "std          0.769592\n",
       "min          0.500000\n",
       "25%          1.750000\n",
       "50%          2.250000\n",
       "75%          2.500000\n",
       "max          8.000000\n",
       "Name: bathrooms, dtype: float64"
      ]
     },
     "execution_count": 20,
     "metadata": {},
     "output_type": "execute_result"
    }
   ],
   "source": [
    "kc_house[\"bathrooms\"].describe()"
   ]
  },
  {
   "cell_type": "code",
   "execution_count": 21,
   "metadata": {
    "ExecuteTime": {
     "end_time": "2020-03-25T17:45:54.770096Z",
     "start_time": "2020-03-25T17:45:54.734497Z"
    }
   },
   "outputs": [
    {
     "data": {
      "text/plain": [
       "2.50    4839\n",
       "1.00    3411\n",
       "1.75    2724\n",
       "2.25    1788\n",
       "2.00    1722\n",
       "1.50    1283\n",
       "2.75    1038\n",
       "3.00     662\n",
       "3.50     656\n",
       "3.25     521\n",
       "3.75     136\n",
       "4.00     121\n",
       "4.50      91\n",
       "4.25      73\n",
       "0.75      65\n",
       "4.75      22\n",
       "5.00      17\n",
       "5.25      11\n",
       "5.50      10\n",
       "1.25       8\n",
       "6.00       6\n",
       "0.50       4\n",
       "5.75       3\n",
       "8.00       2\n",
       "6.25       2\n",
       "6.75       2\n",
       "7.75       1\n",
       "6.50       1\n",
       "7.50       1\n",
       "Name: bathrooms, dtype: int64"
      ]
     },
     "execution_count": 21,
     "metadata": {},
     "output_type": "execute_result"
    }
   ],
   "source": [
    "kc_house[\"bathrooms\"].value_counts()"
   ]
  },
  {
   "cell_type": "code",
   "execution_count": 22,
   "metadata": {
    "ExecuteTime": {
     "end_time": "2020-03-25T17:45:54.786330Z",
     "start_time": "2020-03-25T17:45:54.782624Z"
    }
   },
   "outputs": [],
   "source": [
    "#I condider the huses with more than 6 bedrooms outliers then I drop them"
   ]
  },
  {
   "cell_type": "code",
   "execution_count": 23,
   "metadata": {
    "ExecuteTime": {
     "end_time": "2020-03-25T17:45:54.876715Z",
     "start_time": "2020-03-25T17:45:54.823068Z"
    }
   },
   "outputs": [
    {
     "data": {
      "text/plain": [
       "array([2.25, 1.  , 3.  , 2.  , 4.5 , 1.5 , 2.5 , 1.75, 2.75, 3.25, 4.  ,\n",
       "       3.5 , 0.75, 4.75, 5.  , 4.25, 3.75, 1.25, 5.25, 6.  , 0.5 , 5.5 ,\n",
       "       5.75])"
      ]
     },
     "execution_count": 23,
     "metadata": {},
     "output_type": "execute_result"
    }
   ],
   "source": [
    "kc_house = kc_house[kc_house[\"bathrooms\"] <= 6].reset_index(drop=True)\n",
    "kc_house.bathrooms.unique()"
   ]
  },
  {
   "cell_type": "code",
   "execution_count": 24,
   "metadata": {
    "ExecuteTime": {
     "end_time": "2020-03-25T17:45:54.951607Z",
     "start_time": "2020-03-25T17:45:54.905944Z"
    }
   },
   "outputs": [
    {
     "data": {
      "text/plain": [
       "1.0    9491\n",
       "2.0    7344\n",
       "1.5    1681\n",
       "3.0     545\n",
       "2.5     144\n",
       "3.5       6\n",
       "Name: floors, dtype: int64"
      ]
     },
     "execution_count": 24,
     "metadata": {},
     "output_type": "execute_result"
    }
   ],
   "source": [
    "kc_house[\"floors\"].value_counts()"
   ]
  },
  {
   "cell_type": "code",
   "execution_count": 25,
   "metadata": {
    "ExecuteTime": {
     "end_time": "2020-03-25T17:45:54.967977Z",
     "start_time": "2020-03-25T17:45:54.957381Z"
    }
   },
   "outputs": [],
   "source": [
    "#7 houses with 3.5 floors looks an outlier\n",
    "#i decided to drop them by filtering for floors<3.5"
   ]
  },
  {
   "cell_type": "code",
   "execution_count": 26,
   "metadata": {
    "ExecuteTime": {
     "end_time": "2020-03-25T17:45:54.993460Z",
     "start_time": "2020-03-25T17:45:54.970257Z"
    }
   },
   "outputs": [
    {
     "data": {
      "text/plain": [
       "array([2.25, 1.  , 3.  , 2.  , 4.5 , 1.5 , 2.5 , 1.75, 2.75, 3.25, 4.  ,\n",
       "       3.5 , 0.75, 4.75, 5.  , 4.25, 3.75, 1.25, 5.25, 6.  , 0.5 , 5.5 ,\n",
       "       5.75])"
      ]
     },
     "execution_count": 26,
     "metadata": {},
     "output_type": "execute_result"
    }
   ],
   "source": [
    "kc_house = kc_house[kc_house[\"floors\"] <= 3.5].reset_index(drop=True)\n",
    "kc_house.bathrooms.unique()"
   ]
  },
  {
   "cell_type": "markdown",
   "metadata": {},
   "source": [
    "Visualisation of the relationship between the dipendent variable Price and the other variables"
   ]
  },
  {
   "cell_type": "code",
   "execution_count": 27,
   "metadata": {
    "ExecuteTime": {
     "end_time": "2020-03-25T17:45:55.001892Z",
     "start_time": "2020-03-25T17:45:54.997338Z"
    }
   },
   "outputs": [],
   "source": [
    "cols= [\"price\",\"bedrooms\",\"bathrooms\",\"sqft_living\",\"sqft_lot\",\"floors\",\"waterfront\",\"condition\",\"grade\",\"yr_built\"]"
   ]
  },
  {
   "cell_type": "code",
   "execution_count": 28,
   "metadata": {
    "ExecuteTime": {
     "end_time": "2020-03-25T17:46:01.519930Z",
     "start_time": "2020-03-25T17:45:55.006898Z"
    }
   },
   "outputs": [
    {
     "data": {
      "image/png": "[encoded data removed]",
      "text/plain": [
       "<Figure size 1800x1800 with 10 Axes>"
      ]
     },
     "metadata": {
      "needs_background": "light"
     },
     "output_type": "display_data"
    }
   ],
   "source": [
    "plt.figure(figsize=(25,25))\n",
    "\n",
    "for i, col in enumerate(cols):\n",
    "    plt.subplot(5, 2, i+1)\n",
    "    sns.scatterplot(x=\"price\", y=col, data = kc_house)\n",
    "    plt.subplots_adjust(wspace=0.65, hspace=0.65)\n",
    "    \n"
   ]
  },
  {
   "cell_type": "code",
   "execution_count": 29,
   "metadata": {
    "ExecuteTime": {
     "end_time": "2020-03-25T17:46:01.533472Z",
     "start_time": "2020-03-25T17:46:01.525254Z"
    }
   },
   "outputs": [],
   "source": [
    "#add comments, explain some of the relationship"
   ]
  },
  {
   "cell_type": "markdown",
   "metadata": {},
   "source": [
    "Fitting the initial Model"
   ]
  },
  {
   "cell_type": "code",
   "execution_count": 30,
   "metadata": {
    "ExecuteTime": {
     "end_time": "2020-03-25T17:46:01.545551Z",
     "start_time": "2020-03-25T17:46:01.536139Z"
    }
   },
   "outputs": [],
   "source": [
    "y = kc_house.price.values\n",
    "X = kc_house.drop(\"price\", axis=1)"
   ]
  },
  {
   "cell_type": "code",
   "execution_count": 31,
   "metadata": {
    "ExecuteTime": {
     "end_time": "2020-03-25T17:46:01.582050Z",
     "start_time": "2020-03-25T17:46:01.564625Z"
    }
   },
   "outputs": [],
   "source": [
    "X_train, X_test, y_train, y_test = train_test_split(X,y,test_size=.2, random_state=42)"
   ]
  },
  {
   "cell_type": "code",
   "execution_count": 32,
   "metadata": {
    "ExecuteTime": {
     "end_time": "2020-03-25T17:46:01.592968Z",
     "start_time": "2020-03-25T17:46:01.586323Z"
    }
   },
   "outputs": [],
   "source": [
    "#I'm doing train test split for overfitting ...."
   ]
  },
  {
   "cell_type": "code",
   "execution_count": 33,
   "metadata": {
    "ExecuteTime": {
     "end_time": "2020-03-25T17:46:02.081529Z",
     "start_time": "2020-03-25T17:46:01.599414Z"
    },
    "scrolled": false
   },
   "outputs": [
    {
     "data": {
      "text/html": [
       "<table class=\"simpletable\">\n",
       "<caption>OLS Regression Results</caption>\n",
       "<tr>\n",
       "  <th>Dep. Variable:</th>            <td>y</td>        <th>  R-squared:         </th>  <td>   0.651</td>  \n",
       "</tr>\n",
       "<tr>\n",
       "  <th>Model:</th>                   <td>OLS</td>       <th>  Adj. R-squared:    </th>  <td>   0.651</td>  \n",
       "</tr>\n",
       "<tr>\n",
       "  <th>Method:</th>             <td>Least Squares</td>  <th>  F-statistic:       </th>  <td>   2865.</td>  \n",
       "</tr>\n",
       "<tr>\n",
       "  <th>Date:</th>             <td>Wed, 25 Mar 2020</td> <th>  Prob (F-statistic):</th>   <td>  0.00</td>   \n",
       "</tr>\n",
       "<tr>\n",
       "  <th>Time:</th>                 <td>17:46:02</td>     <th>  Log-Likelihood:    </th> <td>-2.1078e+05</td>\n",
       "</tr>\n",
       "<tr>\n",
       "  <th>No. Observations:</th>      <td> 15368</td>      <th>  AIC:               </th>  <td>4.216e+05</td> \n",
       "</tr>\n",
       "<tr>\n",
       "  <th>Df Residuals:</th>          <td> 15357</td>      <th>  BIC:               </th>  <td>4.217e+05</td> \n",
       "</tr>\n",
       "<tr>\n",
       "  <th>Df Model:</th>              <td>    10</td>      <th>                     </th>      <td> </td>     \n",
       "</tr>\n",
       "<tr>\n",
       "  <th>Covariance Type:</th>      <td>nonrobust</td>    <th>                     </th>      <td> </td>     \n",
       "</tr>\n",
       "</table>\n",
       "<table class=\"simpletable\">\n",
       "<tr>\n",
       "       <td></td>          <th>coef</th>     <th>std err</th>      <th>t</th>      <th>P>|t|</th>  <th>[0.025</th>    <th>0.975]</th>  \n",
       "</tr>\n",
       "<tr>\n",
       "  <th>const</th>       <td>  6.57e+06</td> <td> 1.54e+05</td> <td>   42.671</td> <td> 0.000</td> <td> 6.27e+06</td> <td> 6.87e+06</td>\n",
       "</tr>\n",
       "<tr>\n",
       "  <th>id</th>          <td>-1.394e-06</td> <td>  6.2e-07</td> <td>   -2.249</td> <td> 0.025</td> <td>-2.61e-06</td> <td>-1.79e-07</td>\n",
       "</tr>\n",
       "<tr>\n",
       "  <th>bedrooms</th>    <td> -4.68e+04</td> <td> 2553.170</td> <td>  -18.329</td> <td> 0.000</td> <td>-5.18e+04</td> <td>-4.18e+04</td>\n",
       "</tr>\n",
       "<tr>\n",
       "  <th>bathrooms</th>   <td> 5.145e+04</td> <td> 4118.725</td> <td>   12.491</td> <td> 0.000</td> <td> 4.34e+04</td> <td> 5.95e+04</td>\n",
       "</tr>\n",
       "<tr>\n",
       "  <th>sqft_living</th> <td>  178.8982</td> <td>    3.947</td> <td>   45.324</td> <td> 0.000</td> <td>  171.161</td> <td>  186.635</td>\n",
       "</tr>\n",
       "<tr>\n",
       "  <th>sqft_lot</th>    <td>   -0.2605</td> <td>    0.044</td> <td>   -5.979</td> <td> 0.000</td> <td>   -0.346</td> <td>   -0.175</td>\n",
       "</tr>\n",
       "<tr>\n",
       "  <th>floors</th>      <td> 2.297e+04</td> <td> 4105.519</td> <td>    5.595</td> <td> 0.000</td> <td> 1.49e+04</td> <td>  3.1e+04</td>\n",
       "</tr>\n",
       "<tr>\n",
       "  <th>waterfront</th>  <td> 7.661e+05</td> <td> 1.99e+04</td> <td>   38.414</td> <td> 0.000</td> <td> 7.27e+05</td> <td> 8.05e+05</td>\n",
       "</tr>\n",
       "<tr>\n",
       "  <th>condition</th>   <td> 1.764e+04</td> <td> 2963.711</td> <td>    5.951</td> <td> 0.000</td> <td> 1.18e+04</td> <td> 2.34e+04</td>\n",
       "</tr>\n",
       "<tr>\n",
       "  <th>grade</th>       <td> 1.301e+05</td> <td> 2556.089</td> <td>   50.885</td> <td> 0.000</td> <td> 1.25e+05</td> <td> 1.35e+05</td>\n",
       "</tr>\n",
       "<tr>\n",
       "  <th>yr_built</th>    <td>-3773.7579</td> <td>   79.105</td> <td>  -47.706</td> <td> 0.000</td> <td>-3928.812</td> <td>-3618.703</td>\n",
       "</tr>\n",
       "</table>\n",
       "<table class=\"simpletable\">\n",
       "<tr>\n",
       "  <th>Omnibus:</th>       <td>10083.846</td> <th>  Durbin-Watson:     </th>  <td>   2.012</td> \n",
       "</tr>\n",
       "<tr>\n",
       "  <th>Prob(Omnibus):</th>  <td> 0.000</td>   <th>  Jarque-Bera (JB):  </th> <td>406108.426</td>\n",
       "</tr>\n",
       "<tr>\n",
       "  <th>Skew:</th>           <td> 2.602</td>   <th>  Prob(JB):          </th>  <td>    0.00</td> \n",
       "</tr>\n",
       "<tr>\n",
       "  <th>Kurtosis:</th>       <td>27.640</td>   <th>  Cond. No.          </th>  <td>4.72e+11</td> \n",
       "</tr>\n",
       "</table><br/><br/>Warnings:<br/>[1] Standard Errors assume that the covariance matrix of the errors is correctly specified.<br/>[2] The condition number is large, 4.72e+11. This might indicate that there are<br/>strong multicollinearity or other numerical problems."
      ],
      "text/plain": [
       "<class 'statsmodels.iolib.summary.Summary'>\n",
       "\"\"\"\n",
       "                            OLS Regression Results                            \n",
       "==============================================================================\n",
       "Dep. Variable:                      y   R-squared:                       0.651\n",
       "Model:                            OLS   Adj. R-squared:                  0.651\n",
       "Method:                 Least Squares   F-statistic:                     2865.\n",
       "Date:                Wed, 25 Mar 2020   Prob (F-statistic):               0.00\n",
       "Time:                        17:46:02   Log-Likelihood:            -2.1078e+05\n",
       "No. Observations:               15368   AIC:                         4.216e+05\n",
       "Df Residuals:                   15357   BIC:                         4.217e+05\n",
       "Df Model:                          10                                         \n",
       "Covariance Type:            nonrobust                                         \n",
       "===============================================================================\n",
       "                  coef    std err          t      P>|t|      [0.025      0.975]\n",
       "-------------------------------------------------------------------------------\n",
       "const         6.57e+06   1.54e+05     42.671      0.000    6.27e+06    6.87e+06\n",
       "id          -1.394e-06    6.2e-07     -2.249      0.025   -2.61e-06   -1.79e-07\n",
       "bedrooms     -4.68e+04   2553.170    -18.329      0.000   -5.18e+04   -4.18e+04\n",
       "bathrooms    5.145e+04   4118.725     12.491      0.000    4.34e+04    5.95e+04\n",
       "sqft_living   178.8982      3.947     45.324      0.000     171.161     186.635\n",
       "sqft_lot       -0.2605      0.044     -5.979      0.000      -0.346      -0.175\n",
       "floors       2.297e+04   4105.519      5.595      0.000    1.49e+04     3.1e+04\n",
       "waterfront   7.661e+05   1.99e+04     38.414      0.000    7.27e+05    8.05e+05\n",
       "condition    1.764e+04   2963.711      5.951      0.000    1.18e+04    2.34e+04\n",
       "grade        1.301e+05   2556.089     50.885      0.000    1.25e+05    1.35e+05\n",
       "yr_built    -3773.7579     79.105    -47.706      0.000   -3928.812   -3618.703\n",
       "==============================================================================\n",
       "Omnibus:                    10083.846   Durbin-Watson:                   2.012\n",
       "Prob(Omnibus):                  0.000   Jarque-Bera (JB):           406108.426\n",
       "Skew:                           2.602   Prob(JB):                         0.00\n",
       "Kurtosis:                      27.640   Cond. No.                     4.72e+11\n",
       "==============================================================================\n",
       "\n",
       "Warnings:\n",
       "[1] Standard Errors assume that the covariance matrix of the errors is correctly specified.\n",
       "[2] The condition number is large, 4.72e+11. This might indicate that there are\n",
       "strong multicollinearity or other numerical problems.\n",
       "\"\"\""
      ]
     },
     "execution_count": 33,
     "metadata": {},
     "output_type": "execute_result"
    }
   ],
   "source": [
    "X_cte = sm.add_constant(X_train)\n",
    "model = sm.OLS(y_train, X_cte)\n",
    "\n",
    "results = model.fit()\n",
    "\n",
    "results.summary()\n"
   ]
  },
  {
   "cell_type": "code",
   "execution_count": 34,
   "metadata": {
    "ExecuteTime": {
     "end_time": "2020-03-25T17:46:02.168007Z",
     "start_time": "2020-03-25T17:46:02.099057Z"
    }
   },
   "outputs": [
    {
     "data": {
      "text/plain": [
       "0.6388257573518408"
      ]
     },
     "execution_count": 34,
     "metadata": {},
     "output_type": "execute_result"
    }
   ],
   "source": [
    "lin_reg = LinearRegression(fit_intercept=True)\n",
    "lin_reg.fit(X_train,y_train)\n",
    "lin_reg.score(X_test,y_test)"
   ]
  },
  {
   "cell_type": "code",
   "execution_count": 35,
   "metadata": {
    "ExecuteTime": {
     "end_time": "2020-03-25T17:46:02.195241Z",
     "start_time": "2020-03-25T17:46:02.184471Z"
    }
   },
   "outputs": [],
   "source": [
    "#with the train data we get an R2 = 0.651\n",
    "#with the test data we get an R2 = 0.639\n",
    "#the R2 for the test is little bit lower but not too much so in not overfitting"
   ]
  },
  {
   "cell_type": "code",
   "execution_count": 36,
   "metadata": {
    "ExecuteTime": {
     "end_time": "2020-03-25T17:46:02.387524Z",
     "start_time": "2020-03-25T17:46:02.209296Z"
    },
    "scrolled": false
   },
   "outputs": [
    {
     "data": {
      "text/html": [
       "<div>\n",
       "<style scoped>\n",
       "    .dataframe tbody tr th:only-of-type {\n",
       "        vertical-align: middle;\n",
       "    }\n",
       "\n",
       "    .dataframe tbody tr th {\n",
       "        vertical-align: top;\n",
       "    }\n",
       "\n",
       "    .dataframe thead th {\n",
       "        text-align: right;\n",
       "    }\n",
       "</style>\n",
       "<table border=\"1\" class=\"dataframe\">\n",
       "  <thead>\n",
       "    <tr style=\"text-align: right;\">\n",
       "      <th></th>\n",
       "      <th>id</th>\n",
       "      <th>price</th>\n",
       "      <th>bedrooms</th>\n",
       "      <th>bathrooms</th>\n",
       "      <th>sqft_living</th>\n",
       "      <th>sqft_lot</th>\n",
       "      <th>floors</th>\n",
       "      <th>waterfront</th>\n",
       "      <th>condition</th>\n",
       "      <th>grade</th>\n",
       "      <th>yr_built</th>\n",
       "    </tr>\n",
       "  </thead>\n",
       "  <tbody>\n",
       "    <tr>\n",
       "      <th>id</th>\n",
       "      <td>1.000000</td>\n",
       "      <td>-0.019099</td>\n",
       "      <td>0.005307</td>\n",
       "      <td>0.007275</td>\n",
       "      <td>-0.012163</td>\n",
       "      <td>-0.133216</td>\n",
       "      <td>0.018233</td>\n",
       "      <td>-0.003640</td>\n",
       "      <td>-0.022161</td>\n",
       "      <td>0.007510</td>\n",
       "      <td>0.023290</td>\n",
       "    </tr>\n",
       "    <tr>\n",
       "      <th>price</th>\n",
       "      <td>-0.019099</td>\n",
       "      <td>1.000000</td>\n",
       "      <td>0.316964</td>\n",
       "      <td>0.520263</td>\n",
       "      <td>0.699469</td>\n",
       "      <td>0.085693</td>\n",
       "      <td>0.260994</td>\n",
       "      <td>0.277633</td>\n",
       "      <td>0.039762</td>\n",
       "      <td>0.670370</td>\n",
       "      <td>0.054986</td>\n",
       "    </tr>\n",
       "    <tr>\n",
       "      <th>bedrooms</th>\n",
       "      <td>0.005307</td>\n",
       "      <td>0.316964</td>\n",
       "      <td>1.000000</td>\n",
       "      <td>0.528407</td>\n",
       "      <td>0.595510</td>\n",
       "      <td>0.028659</td>\n",
       "      <td>0.187893</td>\n",
       "      <td>-0.003278</td>\n",
       "      <td>0.022306</td>\n",
       "      <td>0.369080</td>\n",
       "      <td>0.163304</td>\n",
       "    </tr>\n",
       "    <tr>\n",
       "      <th>bathrooms</th>\n",
       "      <td>0.007275</td>\n",
       "      <td>0.520263</td>\n",
       "      <td>0.528407</td>\n",
       "      <td>1.000000</td>\n",
       "      <td>0.751921</td>\n",
       "      <td>0.081578</td>\n",
       "      <td>0.508158</td>\n",
       "      <td>0.064802</td>\n",
       "      <td>-0.126368</td>\n",
       "      <td>0.665580</td>\n",
       "      <td>0.511446</td>\n",
       "    </tr>\n",
       "    <tr>\n",
       "      <th>sqft_living</th>\n",
       "      <td>-0.012163</td>\n",
       "      <td>0.699469</td>\n",
       "      <td>0.595510</td>\n",
       "      <td>0.751921</td>\n",
       "      <td>1.000000</td>\n",
       "      <td>0.169693</td>\n",
       "      <td>0.358521</td>\n",
       "      <td>0.107599</td>\n",
       "      <td>-0.056937</td>\n",
       "      <td>0.764839</td>\n",
       "      <td>0.321715</td>\n",
       "    </tr>\n",
       "    <tr>\n",
       "      <th>sqft_lot</th>\n",
       "      <td>-0.133216</td>\n",
       "      <td>0.085693</td>\n",
       "      <td>0.028659</td>\n",
       "      <td>0.081578</td>\n",
       "      <td>0.169693</td>\n",
       "      <td>1.000000</td>\n",
       "      <td>-0.008590</td>\n",
       "      <td>0.023345</td>\n",
       "      <td>-0.013727</td>\n",
       "      <td>0.112616</td>\n",
       "      <td>0.055466</td>\n",
       "    </tr>\n",
       "    <tr>\n",
       "      <th>floors</th>\n",
       "      <td>0.018233</td>\n",
       "      <td>0.260994</td>\n",
       "      <td>0.187893</td>\n",
       "      <td>0.508158</td>\n",
       "      <td>0.358521</td>\n",
       "      <td>-0.008590</td>\n",
       "      <td>1.000000</td>\n",
       "      <td>0.022558</td>\n",
       "      <td>-0.263410</td>\n",
       "      <td>0.458062</td>\n",
       "      <td>0.490503</td>\n",
       "    </tr>\n",
       "    <tr>\n",
       "      <th>waterfront</th>\n",
       "      <td>-0.003640</td>\n",
       "      <td>0.277633</td>\n",
       "      <td>-0.003278</td>\n",
       "      <td>0.064802</td>\n",
       "      <td>0.107599</td>\n",
       "      <td>0.023345</td>\n",
       "      <td>0.022558</td>\n",
       "      <td>1.000000</td>\n",
       "      <td>0.018078</td>\n",
       "      <td>0.085863</td>\n",
       "      <td>-0.026412</td>\n",
       "    </tr>\n",
       "    <tr>\n",
       "      <th>condition</th>\n",
       "      <td>-0.022161</td>\n",
       "      <td>0.039762</td>\n",
       "      <td>0.022306</td>\n",
       "      <td>-0.126368</td>\n",
       "      <td>-0.056937</td>\n",
       "      <td>-0.013727</td>\n",
       "      <td>-0.263410</td>\n",
       "      <td>0.018078</td>\n",
       "      <td>1.000000</td>\n",
       "      <td>-0.144313</td>\n",
       "      <td>-0.361824</td>\n",
       "    </tr>\n",
       "    <tr>\n",
       "      <th>grade</th>\n",
       "      <td>0.007510</td>\n",
       "      <td>0.670370</td>\n",
       "      <td>0.369080</td>\n",
       "      <td>0.665580</td>\n",
       "      <td>0.764839</td>\n",
       "      <td>0.112616</td>\n",
       "      <td>0.458062</td>\n",
       "      <td>0.085863</td>\n",
       "      <td>-0.144313</td>\n",
       "      <td>1.000000</td>\n",
       "      <td>0.447544</td>\n",
       "    </tr>\n",
       "    <tr>\n",
       "      <th>yr_built</th>\n",
       "      <td>0.023290</td>\n",
       "      <td>0.054986</td>\n",
       "      <td>0.163304</td>\n",
       "      <td>0.511446</td>\n",
       "      <td>0.321715</td>\n",
       "      <td>0.055466</td>\n",
       "      <td>0.490503</td>\n",
       "      <td>-0.026412</td>\n",
       "      <td>-0.361824</td>\n",
       "      <td>0.447544</td>\n",
       "      <td>1.000000</td>\n",
       "    </tr>\n",
       "  </tbody>\n",
       "</table>\n",
       "</div>"
      ],
      "text/plain": [
       "                   id     price  bedrooms  bathrooms  sqft_living  sqft_lot  \\\n",
       "id           1.000000 -0.019099  0.005307   0.007275    -0.012163 -0.133216   \n",
       "price       -0.019099  1.000000  0.316964   0.520263     0.699469  0.085693   \n",
       "bedrooms     0.005307  0.316964  1.000000   0.528407     0.595510  0.028659   \n",
       "bathrooms    0.007275  0.520263  0.528407   1.000000     0.751921  0.081578   \n",
       "sqft_living -0.012163  0.699469  0.595510   0.751921     1.000000  0.169693   \n",
       "sqft_lot    -0.133216  0.085693  0.028659   0.081578     0.169693  1.000000   \n",
       "floors       0.018233  0.260994  0.187893   0.508158     0.358521 -0.008590   \n",
       "waterfront  -0.003640  0.277633 -0.003278   0.064802     0.107599  0.023345   \n",
       "condition   -0.022161  0.039762  0.022306  -0.126368    -0.056937 -0.013727   \n",
       "grade        0.007510  0.670370  0.369080   0.665580     0.764839  0.112616   \n",
       "yr_built     0.023290  0.054986  0.163304   0.511446     0.321715  0.055466   \n",
       "\n",
       "               floors  waterfront  condition     grade  yr_built  \n",
       "id           0.018233   -0.003640  -0.022161  0.007510  0.023290  \n",
       "price        0.260994    0.277633   0.039762  0.670370  0.054986  \n",
       "bedrooms     0.187893   -0.003278   0.022306  0.369080  0.163304  \n",
       "bathrooms    0.508158    0.064802  -0.126368  0.665580  0.511446  \n",
       "sqft_living  0.358521    0.107599  -0.056937  0.764839  0.321715  \n",
       "sqft_lot    -0.008590    0.023345  -0.013727  0.112616  0.055466  \n",
       "floors       1.000000    0.022558  -0.263410  0.458062  0.490503  \n",
       "waterfront   0.022558    1.000000   0.018078  0.085863 -0.026412  \n",
       "condition   -0.263410    0.018078   1.000000 -0.144313 -0.361824  \n",
       "grade        0.458062    0.085863  -0.144313  1.000000  0.447544  \n",
       "yr_built     0.490503   -0.026412  -0.361824  0.447544  1.000000  "
      ]
     },
     "execution_count": 36,
     "metadata": {},
     "output_type": "execute_result"
    }
   ],
   "source": [
    "corr= kc_house.corr()\n",
    "corr"
   ]
  },
  {
   "cell_type": "code",
   "execution_count": 37,
   "metadata": {
    "ExecuteTime": {
     "end_time": "2020-03-25T17:46:02.465012Z",
     "start_time": "2020-03-25T17:46:02.443898Z"
    }
   },
   "outputs": [],
   "source": [
    "#correlation table and matrix table to get an overview of the variables relationship"
   ]
  },
  {
   "cell_type": "code",
   "execution_count": 38,
   "metadata": {
    "ExecuteTime": {
     "end_time": "2020-03-25T17:46:03.973012Z",
     "start_time": "2020-03-25T17:46:02.467646Z"
    }
   },
   "outputs": [
    {
     "data": {
      "image/png": "[encoded data removed]",
      "text/plain": [
       "<Figure size 720x720 with 2 Axes>"
      ]
     },
     "metadata": {
      "needs_background": "light"
     },
     "output_type": "display_data"
    }
   ],
   "source": [
    "f, ax = plt.subplots(figsize=(10, 10))\n",
    "sns.heatmap(data = corr, annot = True, annot_kws = {\"size\": 10}, linewidth = 7, cmap=\"YlGnBu\")\n",
    "plt.show()"
   ]
  },
  {
   "cell_type": "code",
   "execution_count": 39,
   "metadata": {
    "ExecuteTime": {
     "end_time": "2020-03-25T17:46:04.002071Z",
     "start_time": "2020-03-25T17:46:03.975223Z"
    }
   },
   "outputs": [],
   "source": [
    "# This are the features with the highest correlation :\n",
    "# grade, waterfront, floors,sqft_living,bathrooms, bedrooms"
   ]
  },
  {
   "cell_type": "code",
   "execution_count": 40,
   "metadata": {
    "ExecuteTime": {
     "end_time": "2020-03-25T17:46:04.008318Z",
     "start_time": "2020-03-25T17:46:04.004568Z"
    }
   },
   "outputs": [],
   "source": [
    "#by checking the correlation matrix we see that the sqfliving has a strong collinearity bedrooms, bathrooms \n",
    "#and grade\n",
    "#I have seen aswell some multicollinearity(0,67) between grade and bathrooms"
   ]
  },
  {
   "cell_type": "code",
   "execution_count": 41,
   "metadata": {
    "ExecuteTime": {
     "end_time": "2020-03-25T17:46:04.045444Z",
     "start_time": "2020-03-25T17:46:04.023292Z"
    }
   },
   "outputs": [],
   "source": [
    "#im not going to use sqft_living becouse of the multicoliniarity "
   ]
  },
  {
   "cell_type": "code",
   "execution_count": 42,
   "metadata": {
    "ExecuteTime": {
     "end_time": "2020-03-25T17:46:04.088114Z",
     "start_time": "2020-03-25T17:46:04.068011Z"
    }
   },
   "outputs": [],
   "source": [
    "X_train2 = X_train.drop([\"sqft_living\"], axis=1)\n"
   ]
  },
  {
   "cell_type": "code",
   "execution_count": 43,
   "metadata": {
    "ExecuteTime": {
     "end_time": "2020-03-25T17:46:04.332669Z",
     "start_time": "2020-03-25T17:46:04.099242Z"
    }
   },
   "outputs": [
    {
     "data": {
      "text/html": [
       "<table class=\"simpletable\">\n",
       "<caption>OLS Regression Results</caption>\n",
       "<tr>\n",
       "  <th>Dep. Variable:</th>            <td>y</td>        <th>  R-squared:         </th>  <td>   0.604</td>  \n",
       "</tr>\n",
       "<tr>\n",
       "  <th>Model:</th>                   <td>OLS</td>       <th>  Adj. R-squared:    </th>  <td>   0.604</td>  \n",
       "</tr>\n",
       "<tr>\n",
       "  <th>Method:</th>             <td>Least Squares</td>  <th>  F-statistic:       </th>  <td>   2606.</td>  \n",
       "</tr>\n",
       "<tr>\n",
       "  <th>Date:</th>             <td>Wed, 25 Mar 2020</td> <th>  Prob (F-statistic):</th>   <td>  0.00</td>   \n",
       "</tr>\n",
       "<tr>\n",
       "  <th>Time:</th>                 <td>17:46:04</td>     <th>  Log-Likelihood:    </th> <td>-2.1174e+05</td>\n",
       "</tr>\n",
       "<tr>\n",
       "  <th>No. Observations:</th>      <td> 15368</td>      <th>  AIC:               </th>  <td>4.235e+05</td> \n",
       "</tr>\n",
       "<tr>\n",
       "  <th>Df Residuals:</th>          <td> 15358</td>      <th>  BIC:               </th>  <td>4.236e+05</td> \n",
       "</tr>\n",
       "<tr>\n",
       "  <th>Df Model:</th>              <td>     9</td>      <th>                     </th>      <td> </td>     \n",
       "</tr>\n",
       "<tr>\n",
       "  <th>Covariance Type:</th>      <td>nonrobust</td>    <th>                     </th>      <td> </td>     \n",
       "</tr>\n",
       "</table>\n",
       "<table class=\"simpletable\">\n",
       "<tr>\n",
       "       <td></td>         <th>coef</th>     <th>std err</th>      <th>t</th>      <th>P>|t|</th>  <th>[0.025</th>    <th>0.975]</th>  \n",
       "</tr>\n",
       "<tr>\n",
       "  <th>const</th>      <td> 7.225e+06</td> <td> 1.63e+05</td> <td>   44.264</td> <td> 0.000</td> <td>  6.9e+06</td> <td> 7.54e+06</td>\n",
       "</tr>\n",
       "<tr>\n",
       "  <th>id</th>         <td>-1.659e-06</td> <td>  6.6e-07</td> <td>   -2.515</td> <td> 0.012</td> <td>-2.95e-06</td> <td>-3.66e-07</td>\n",
       "</tr>\n",
       "<tr>\n",
       "  <th>bedrooms</th>   <td>-2545.1471</td> <td> 2511.868</td> <td>   -1.013</td> <td> 0.311</td> <td>-7468.707</td> <td> 2378.413</td>\n",
       "</tr>\n",
       "<tr>\n",
       "  <th>bathrooms</th>  <td> 1.287e+05</td> <td> 3991.803</td> <td>   32.252</td> <td> 0.000</td> <td> 1.21e+05</td> <td> 1.37e+05</td>\n",
       "</tr>\n",
       "<tr>\n",
       "  <th>sqft_lot</th>   <td>    0.0509</td> <td>    0.046</td> <td>    1.111</td> <td> 0.266</td> <td>   -0.039</td> <td>    0.141</td>\n",
       "</tr>\n",
       "<tr>\n",
       "  <th>floors</th>     <td> 8771.3748</td> <td> 4358.610</td> <td>    2.012</td> <td> 0.044</td> <td>  227.983</td> <td> 1.73e+04</td>\n",
       "</tr>\n",
       "<tr>\n",
       "  <th>waterfront</th> <td> 8.443e+05</td> <td> 2.12e+04</td> <td>   39.915</td> <td> 0.000</td> <td> 8.03e+05</td> <td> 8.86e+05</td>\n",
       "</tr>\n",
       "<tr>\n",
       "  <th>condition</th>  <td> 1.963e+04</td> <td> 3155.267</td> <td>    6.220</td> <td> 0.000</td> <td> 1.34e+04</td> <td> 2.58e+04</td>\n",
       "</tr>\n",
       "<tr>\n",
       "  <th>grade</th>      <td> 1.978e+05</td> <td> 2207.186</td> <td>   89.638</td> <td> 0.000</td> <td> 1.94e+05</td> <td> 2.02e+05</td>\n",
       "</tr>\n",
       "<tr>\n",
       "  <th>yr_built</th>   <td>-4333.7083</td> <td>   83.193</td> <td>  -52.092</td> <td> 0.000</td> <td>-4496.777</td> <td>-4170.640</td>\n",
       "</tr>\n",
       "</table>\n",
       "<table class=\"simpletable\">\n",
       "<tr>\n",
       "  <th>Omnibus:</th>       <td>11737.930</td> <th>  Durbin-Watson:     </th>  <td>   2.004</td> \n",
       "</tr>\n",
       "<tr>\n",
       "  <th>Prob(Omnibus):</th>  <td> 0.000</td>   <th>  Jarque-Bera (JB):  </th> <td>724107.776</td>\n",
       "</tr>\n",
       "<tr>\n",
       "  <th>Skew:</th>           <td> 3.139</td>   <th>  Prob(JB):          </th>  <td>    0.00</td> \n",
       "</tr>\n",
       "<tr>\n",
       "  <th>Kurtosis:</th>       <td>36.037</td>   <th>  Cond. No.          </th>  <td>4.70e+11</td> \n",
       "</tr>\n",
       "</table><br/><br/>Warnings:<br/>[1] Standard Errors assume that the covariance matrix of the errors is correctly specified.<br/>[2] The condition number is large, 4.7e+11. This might indicate that there are<br/>strong multicollinearity or other numerical problems."
      ],
      "text/plain": [
       "<class 'statsmodels.iolib.summary.Summary'>\n",
       "\"\"\"\n",
       "                            OLS Regression Results                            \n",
       "==============================================================================\n",
       "Dep. Variable:                      y   R-squared:                       0.604\n",
       "Model:                            OLS   Adj. R-squared:                  0.604\n",
       "Method:                 Least Squares   F-statistic:                     2606.\n",
       "Date:                Wed, 25 Mar 2020   Prob (F-statistic):               0.00\n",
       "Time:                        17:46:04   Log-Likelihood:            -2.1174e+05\n",
       "No. Observations:               15368   AIC:                         4.235e+05\n",
       "Df Residuals:                   15358   BIC:                         4.236e+05\n",
       "Df Model:                           9                                         \n",
       "Covariance Type:            nonrobust                                         \n",
       "==============================================================================\n",
       "                 coef    std err          t      P>|t|      [0.025      0.975]\n",
       "------------------------------------------------------------------------------\n",
       "const       7.225e+06   1.63e+05     44.264      0.000     6.9e+06    7.54e+06\n",
       "id         -1.659e-06    6.6e-07     -2.515      0.012   -2.95e-06   -3.66e-07\n",
       "bedrooms   -2545.1471   2511.868     -1.013      0.311   -7468.707    2378.413\n",
       "bathrooms   1.287e+05   3991.803     32.252      0.000    1.21e+05    1.37e+05\n",
       "sqft_lot       0.0509      0.046      1.111      0.266      -0.039       0.141\n",
       "floors      8771.3748   4358.610      2.012      0.044     227.983    1.73e+04\n",
       "waterfront  8.443e+05   2.12e+04     39.915      0.000    8.03e+05    8.86e+05\n",
       "condition   1.963e+04   3155.267      6.220      0.000    1.34e+04    2.58e+04\n",
       "grade       1.978e+05   2207.186     89.638      0.000    1.94e+05    2.02e+05\n",
       "yr_built   -4333.7083     83.193    -52.092      0.000   -4496.777   -4170.640\n",
       "==============================================================================\n",
       "Omnibus:                    11737.930   Durbin-Watson:                   2.004\n",
       "Prob(Omnibus):                  0.000   Jarque-Bera (JB):           724107.776\n",
       "Skew:                           3.139   Prob(JB):                         0.00\n",
       "Kurtosis:                      36.037   Cond. No.                     4.70e+11\n",
       "==============================================================================\n",
       "\n",
       "Warnings:\n",
       "[1] Standard Errors assume that the covariance matrix of the errors is correctly specified.\n",
       "[2] The condition number is large, 4.7e+11. This might indicate that there are\n",
       "strong multicollinearity or other numerical problems.\n",
       "\"\"\""
      ]
     },
     "execution_count": 43,
     "metadata": {},
     "output_type": "execute_result"
    }
   ],
   "source": [
    "X_cte2 = sm.add_constant(X_train2)\n",
    "model2 = sm.OLS(y_train, X_cte2)\n",
    "\n",
    "results2 = model2.fit()\n",
    "\n",
    "results2.summary()"
   ]
  },
  {
   "cell_type": "code",
   "execution_count": 44,
   "metadata": {
    "ExecuteTime": {
     "end_time": "2020-03-25T17:46:04.394306Z",
     "start_time": "2020-03-25T17:46:04.355068Z"
    }
   },
   "outputs": [],
   "source": [
    "X_test2 = X_test.drop([\"sqft_living\"], axis=1)"
   ]
  },
  {
   "cell_type": "code",
   "execution_count": 45,
   "metadata": {
    "ExecuteTime": {
     "end_time": "2020-03-25T17:46:04.474338Z",
     "start_time": "2020-03-25T17:46:04.413859Z"
    }
   },
   "outputs": [
    {
     "data": {
      "text/plain": [
       "0.5941867661513669"
      ]
     },
     "execution_count": 45,
     "metadata": {},
     "output_type": "execute_result"
    }
   ],
   "source": [
    "lin_reg2 = LinearRegression(fit_intercept=True)\n",
    "lin_reg2.fit(X_train2,y_train)\n",
    "lin_reg2.score(X_test2,y_test)"
   ]
  },
  {
   "cell_type": "code",
   "execution_count": 46,
   "metadata": {
    "ExecuteTime": {
     "end_time": "2020-03-25T17:46:04.489819Z",
     "start_time": "2020-03-25T17:46:04.482793Z"
    }
   },
   "outputs": [],
   "source": [
    "#is not overfitting( becouse the r train and the r test are similar)but is smaller than the r in the baseline"
   ]
  },
  {
   "cell_type": "code",
   "execution_count": 47,
   "metadata": {
    "ExecuteTime": {
     "end_time": "2020-03-25T17:46:04.505216Z",
     "start_time": "2020-03-25T17:46:04.497446Z"
    }
   },
   "outputs": [],
   "source": [
    "#becouse of mukticollinearity i'm going to try to drop grade"
   ]
  },
  {
   "cell_type": "code",
   "execution_count": 48,
   "metadata": {
    "ExecuteTime": {
     "end_time": "2020-03-25T17:46:04.528409Z",
     "start_time": "2020-03-25T17:46:04.508836Z"
    }
   },
   "outputs": [],
   "source": [
    "X_train3 = X_train.drop([\"grade\",\"sqft_living\"], axis=1)"
   ]
  },
  {
   "cell_type": "code",
   "execution_count": 49,
   "metadata": {
    "ExecuteTime": {
     "end_time": "2020-03-25T17:46:04.770337Z",
     "start_time": "2020-03-25T17:46:04.533703Z"
    }
   },
   "outputs": [
    {
     "data": {
      "text/html": [
       "<table class=\"simpletable\">\n",
       "<caption>OLS Regression Results</caption>\n",
       "<tr>\n",
       "  <th>Dep. Variable:</th>            <td>y</td>        <th>  R-squared:         </th>  <td>   0.397</td>  \n",
       "</tr>\n",
       "<tr>\n",
       "  <th>Model:</th>                   <td>OLS</td>       <th>  Adj. R-squared:    </th>  <td>   0.397</td>  \n",
       "</tr>\n",
       "<tr>\n",
       "  <th>Method:</th>             <td>Least Squares</td>  <th>  F-statistic:       </th>  <td>   1266.</td>  \n",
       "</tr>\n",
       "<tr>\n",
       "  <th>Date:</th>             <td>Wed, 25 Mar 2020</td> <th>  Prob (F-statistic):</th>   <td>  0.00</td>   \n",
       "</tr>\n",
       "<tr>\n",
       "  <th>Time:</th>                 <td>17:46:04</td>     <th>  Log-Likelihood:    </th> <td>-2.1498e+05</td>\n",
       "</tr>\n",
       "<tr>\n",
       "  <th>No. Observations:</th>      <td> 15368</td>      <th>  AIC:               </th>  <td>4.300e+05</td> \n",
       "</tr>\n",
       "<tr>\n",
       "  <th>Df Residuals:</th>          <td> 15359</td>      <th>  BIC:               </th>  <td>4.300e+05</td> \n",
       "</tr>\n",
       "<tr>\n",
       "  <th>Df Model:</th>              <td>     8</td>      <th>                     </th>      <td> </td>     \n",
       "</tr>\n",
       "<tr>\n",
       "  <th>Covariance Type:</th>      <td>nonrobust</td>    <th>                     </th>      <td> </td>     \n",
       "</tr>\n",
       "</table>\n",
       "<table class=\"simpletable\">\n",
       "<tr>\n",
       "       <td></td>         <th>coef</th>     <th>std err</th>      <th>t</th>      <th>P>|t|</th>  <th>[0.025</th>    <th>0.975]</th>  \n",
       "</tr>\n",
       "<tr>\n",
       "  <th>const</th>      <td> 6.545e+06</td> <td> 2.01e+05</td> <td>   32.529</td> <td> 0.000</td> <td> 6.15e+06</td> <td> 6.94e+06</td>\n",
       "</tr>\n",
       "<tr>\n",
       "  <th>id</th>         <td>-1.018e-06</td> <td> 8.14e-07</td> <td>   -1.250</td> <td> 0.211</td> <td>-2.61e-06</td> <td> 5.78e-07</td>\n",
       "</tr>\n",
       "<tr>\n",
       "  <th>bedrooms</th>   <td> 1.464e+04</td> <td> 3090.927</td> <td>    4.738</td> <td> 0.000</td> <td> 8585.377</td> <td> 2.07e+04</td>\n",
       "</tr>\n",
       "<tr>\n",
       "  <th>bathrooms</th>  <td>   2.8e+05</td> <td> 4464.410</td> <td>   62.725</td> <td> 0.000</td> <td> 2.71e+05</td> <td> 2.89e+05</td>\n",
       "</tr>\n",
       "<tr>\n",
       "  <th>sqft_lot</th>   <td>    0.3970</td> <td>    0.056</td> <td>    7.046</td> <td> 0.000</td> <td>    0.287</td> <td>    0.507</td>\n",
       "</tr>\n",
       "<tr>\n",
       "  <th>floors</th>     <td> 6.838e+04</td> <td> 5316.129</td> <td>   12.862</td> <td> 0.000</td> <td>  5.8e+04</td> <td> 7.88e+04</td>\n",
       "</tr>\n",
       "<tr>\n",
       "  <th>waterfront</th> <td> 9.892e+05</td> <td>  2.6e+04</td> <td>   38.002</td> <td> 0.000</td> <td> 9.38e+05</td> <td> 1.04e+06</td>\n",
       "</tr>\n",
       "<tr>\n",
       "  <th>condition</th>  <td> 1.804e+04</td> <td> 3893.949</td> <td>    4.632</td> <td> 0.000</td> <td> 1.04e+04</td> <td> 2.57e+04</td>\n",
       "</tr>\n",
       "<tr>\n",
       "  <th>yr_built</th>   <td>-3458.8203</td> <td>  101.962</td> <td>  -33.923</td> <td> 0.000</td> <td>-3658.678</td> <td>-3258.962</td>\n",
       "</tr>\n",
       "</table>\n",
       "<table class=\"simpletable\">\n",
       "<tr>\n",
       "  <th>Omnibus:</th>       <td>10316.081</td> <th>  Durbin-Watson:     </th>  <td>   2.022</td> \n",
       "</tr>\n",
       "<tr>\n",
       "  <th>Prob(Omnibus):</th>  <td> 0.000</td>   <th>  Jarque-Bera (JB):  </th> <td>347108.270</td>\n",
       "</tr>\n",
       "<tr>\n",
       "  <th>Skew:</th>           <td> 2.758</td>   <th>  Prob(JB):          </th>  <td>    0.00</td> \n",
       "</tr>\n",
       "<tr>\n",
       "  <th>Kurtosis:</th>       <td>25.620</td>   <th>  Cond. No.          </th>  <td>4.70e+11</td> \n",
       "</tr>\n",
       "</table><br/><br/>Warnings:<br/>[1] Standard Errors assume that the covariance matrix of the errors is correctly specified.<br/>[2] The condition number is large, 4.7e+11. This might indicate that there are<br/>strong multicollinearity or other numerical problems."
      ],
      "text/plain": [
       "<class 'statsmodels.iolib.summary.Summary'>\n",
       "\"\"\"\n",
       "                            OLS Regression Results                            \n",
       "==============================================================================\n",
       "Dep. Variable:                      y   R-squared:                       0.397\n",
       "Model:                            OLS   Adj. R-squared:                  0.397\n",
       "Method:                 Least Squares   F-statistic:                     1266.\n",
       "Date:                Wed, 25 Mar 2020   Prob (F-statistic):               0.00\n",
       "Time:                        17:46:04   Log-Likelihood:            -2.1498e+05\n",
       "No. Observations:               15368   AIC:                         4.300e+05\n",
       "Df Residuals:                   15359   BIC:                         4.300e+05\n",
       "Df Model:                           8                                         \n",
       "Covariance Type:            nonrobust                                         \n",
       "==============================================================================\n",
       "                 coef    std err          t      P>|t|      [0.025      0.975]\n",
       "------------------------------------------------------------------------------\n",
       "const       6.545e+06   2.01e+05     32.529      0.000    6.15e+06    6.94e+06\n",
       "id         -1.018e-06   8.14e-07     -1.250      0.211   -2.61e-06    5.78e-07\n",
       "bedrooms    1.464e+04   3090.927      4.738      0.000    8585.377    2.07e+04\n",
       "bathrooms     2.8e+05   4464.410     62.725      0.000    2.71e+05    2.89e+05\n",
       "sqft_lot       0.3970      0.056      7.046      0.000       0.287       0.507\n",
       "floors      6.838e+04   5316.129     12.862      0.000     5.8e+04    7.88e+04\n",
       "waterfront  9.892e+05    2.6e+04     38.002      0.000    9.38e+05    1.04e+06\n",
       "condition   1.804e+04   3893.949      4.632      0.000    1.04e+04    2.57e+04\n",
       "yr_built   -3458.8203    101.962    -33.923      0.000   -3658.678   -3258.962\n",
       "==============================================================================\n",
       "Omnibus:                    10316.081   Durbin-Watson:                   2.022\n",
       "Prob(Omnibus):                  0.000   Jarque-Bera (JB):           347108.270\n",
       "Skew:                           2.758   Prob(JB):                         0.00\n",
       "Kurtosis:                      25.620   Cond. No.                     4.70e+11\n",
       "==============================================================================\n",
       "\n",
       "Warnings:\n",
       "[1] Standard Errors assume that the covariance matrix of the errors is correctly specified.\n",
       "[2] The condition number is large, 4.7e+11. This might indicate that there are\n",
       "strong multicollinearity or other numerical problems.\n",
       "\"\"\""
      ]
     },
     "execution_count": 49,
     "metadata": {},
     "output_type": "execute_result"
    }
   ],
   "source": [
    "X_cte3 = sm.add_constant(X_train3)\n",
    "model3 = sm.OLS(y_train, X_cte3)\n",
    "\n",
    "results3 = model3.fit()\n",
    "\n",
    "results3.summary()"
   ]
  },
  {
   "cell_type": "code",
   "execution_count": 50,
   "metadata": {
    "ExecuteTime": {
     "end_time": "2020-03-25T17:46:04.807294Z",
     "start_time": "2020-03-25T17:46:04.775766Z"
    }
   },
   "outputs": [],
   "source": [
    "X_test3 = X_test.drop([\"grade\",\"sqft_living\"], axis=1)"
   ]
  },
  {
   "cell_type": "code",
   "execution_count": 51,
   "metadata": {
    "ExecuteTime": {
     "end_time": "2020-03-25T17:46:04.948016Z",
     "start_time": "2020-03-25T17:46:04.853182Z"
    }
   },
   "outputs": [
    {
     "data": {
      "text/plain": [
       "0.3691832712879076"
      ]
     },
     "execution_count": 51,
     "metadata": {},
     "output_type": "execute_result"
    }
   ],
   "source": [
    "lin_reg3 = LinearRegression(fit_intercept=True)\n",
    "lin_reg3.fit(X_train3,y_train)\n",
    "lin_reg3.score(X_test3,y_test)"
   ]
  },
  {
   "cell_type": "markdown",
   "metadata": {},
   "source": [
    "# question 1 : as grade and bathrooms show multicoll. which is the most significant variable in predicting the price?"
   ]
  },
  {
   "cell_type": "code",
   "execution_count": null,
   "metadata": {},
   "outputs": [],
   "source": []
  },
  {
   "cell_type": "code",
   "execution_count": 52,
   "metadata": {
    "ExecuteTime": {
     "end_time": "2020-03-25T17:46:04.972846Z",
     "start_time": "2020-03-25T17:46:04.968036Z"
    }
   },
   "outputs": [],
   "source": [
    "#create a 4th model dropping bathrooms and talk about the huge different of the R suqred\n",
    "#business question. For the price of the house is more important bathrooms or grade?"
   ]
  },
  {
   "cell_type": "code",
   "execution_count": 53,
   "metadata": {
    "ExecuteTime": {
     "end_time": "2020-03-25T17:46:04.999853Z",
     "start_time": "2020-03-25T17:46:04.979122Z"
    }
   },
   "outputs": [],
   "source": [
    "X_train4 = X_train.drop([\"bathrooms\",\"sqft_living\"], axis=1)"
   ]
  },
  {
   "cell_type": "code",
   "execution_count": 54,
   "metadata": {
    "ExecuteTime": {
     "end_time": "2020-03-25T17:46:05.205106Z",
     "start_time": "2020-03-25T17:46:05.034189Z"
    }
   },
   "outputs": [
    {
     "data": {
      "text/html": [
       "<table class=\"simpletable\">\n",
       "<caption>OLS Regression Results</caption>\n",
       "<tr>\n",
       "  <th>Dep. Variable:</th>            <td>y</td>        <th>  R-squared:         </th>  <td>   0.578</td>  \n",
       "</tr>\n",
       "<tr>\n",
       "  <th>Model:</th>                   <td>OLS</td>       <th>  Adj. R-squared:    </th>  <td>   0.577</td>  \n",
       "</tr>\n",
       "<tr>\n",
       "  <th>Method:</th>             <td>Least Squares</td>  <th>  F-statistic:       </th>  <td>   2625.</td>  \n",
       "</tr>\n",
       "<tr>\n",
       "  <th>Date:</th>             <td>Wed, 25 Mar 2020</td> <th>  Prob (F-statistic):</th>   <td>  0.00</td>   \n",
       "</tr>\n",
       "<tr>\n",
       "  <th>Time:</th>                 <td>17:46:05</td>     <th>  Log-Likelihood:    </th> <td>-2.1225e+05</td>\n",
       "</tr>\n",
       "<tr>\n",
       "  <th>No. Observations:</th>      <td> 15368</td>      <th>  AIC:               </th>  <td>4.245e+05</td> \n",
       "</tr>\n",
       "<tr>\n",
       "  <th>Df Residuals:</th>          <td> 15359</td>      <th>  BIC:               </th>  <td>4.246e+05</td> \n",
       "</tr>\n",
       "<tr>\n",
       "  <th>Df Model:</th>              <td>     8</td>      <th>                     </th>      <td> </td>     \n",
       "</tr>\n",
       "<tr>\n",
       "  <th>Covariance Type:</th>      <td>nonrobust</td>    <th>                     </th>      <td> </td>     \n",
       "</tr>\n",
       "</table>\n",
       "<table class=\"simpletable\">\n",
       "<tr>\n",
       "       <td></td>         <th>coef</th>     <th>std err</th>      <th>t</th>      <th>P>|t|</th>  <th>[0.025</th>    <th>0.975]</th>  \n",
       "</tr>\n",
       "<tr>\n",
       "  <th>const</th>      <td> 5.593e+06</td> <td>  1.6e+05</td> <td>   34.882</td> <td> 0.000</td> <td> 5.28e+06</td> <td> 5.91e+06</td>\n",
       "</tr>\n",
       "<tr>\n",
       "  <th>id</th>         <td>-1.604e-06</td> <td> 6.82e-07</td> <td>   -2.352</td> <td> 0.019</td> <td>-2.94e-06</td> <td>-2.67e-07</td>\n",
       "</tr>\n",
       "<tr>\n",
       "  <th>bedrooms</th>   <td> 3.242e+04</td> <td> 2341.333</td> <td>   13.845</td> <td> 0.000</td> <td> 2.78e+04</td> <td>  3.7e+04</td>\n",
       "</tr>\n",
       "<tr>\n",
       "  <th>sqft_lot</th>   <td>    0.1079</td> <td>    0.047</td> <td>    2.281</td> <td> 0.023</td> <td>    0.015</td> <td>    0.201</td>\n",
       "</tr>\n",
       "<tr>\n",
       "  <th>floors</th>     <td> 4.256e+04</td> <td> 4371.629</td> <td>    9.735</td> <td> 0.000</td> <td>  3.4e+04</td> <td> 5.11e+04</td>\n",
       "</tr>\n",
       "<tr>\n",
       "  <th>waterfront</th> <td> 8.849e+05</td> <td> 2.18e+04</td> <td>   40.555</td> <td> 0.000</td> <td> 8.42e+05</td> <td> 9.28e+05</td>\n",
       "</tr>\n",
       "<tr>\n",
       "  <th>condition</th>  <td> 2.713e+04</td> <td> 3251.387</td> <td>    8.345</td> <td> 0.000</td> <td> 2.08e+04</td> <td> 3.35e+04</td>\n",
       "</tr>\n",
       "<tr>\n",
       "  <th>grade</th>      <td> 2.279e+05</td> <td> 2066.759</td> <td>  110.291</td> <td> 0.000</td> <td> 2.24e+05</td> <td> 2.32e+05</td>\n",
       "</tr>\n",
       "<tr>\n",
       "  <th>yr_built</th>   <td>-3584.0658</td> <td>   82.539</td> <td>  -43.423</td> <td> 0.000</td> <td>-3745.851</td> <td>-3422.280</td>\n",
       "</tr>\n",
       "</table>\n",
       "<table class=\"simpletable\">\n",
       "<tr>\n",
       "  <th>Omnibus:</th>       <td>12074.499</td> <th>  Durbin-Watson:     </th>  <td>   1.996</td> \n",
       "</tr>\n",
       "<tr>\n",
       "  <th>Prob(Omnibus):</th>  <td> 0.000</td>   <th>  Jarque-Bera (JB):  </th> <td>764451.860</td>\n",
       "</tr>\n",
       "<tr>\n",
       "  <th>Skew:</th>           <td> 3.278</td>   <th>  Prob(JB):          </th>  <td>    0.00</td> \n",
       "</tr>\n",
       "<tr>\n",
       "  <th>Kurtosis:</th>       <td>36.924</td>   <th>  Cond. No.          </th>  <td>4.47e+11</td> \n",
       "</tr>\n",
       "</table><br/><br/>Warnings:<br/>[1] Standard Errors assume that the covariance matrix of the errors is correctly specified.<br/>[2] The condition number is large, 4.47e+11. This might indicate that there are<br/>strong multicollinearity or other numerical problems."
      ],
      "text/plain": [
       "<class 'statsmodels.iolib.summary.Summary'>\n",
       "\"\"\"\n",
       "                            OLS Regression Results                            \n",
       "==============================================================================\n",
       "Dep. Variable:                      y   R-squared:                       0.578\n",
       "Model:                            OLS   Adj. R-squared:                  0.577\n",
       "Method:                 Least Squares   F-statistic:                     2625.\n",
       "Date:                Wed, 25 Mar 2020   Prob (F-statistic):               0.00\n",
       "Time:                        17:46:05   Log-Likelihood:            -2.1225e+05\n",
       "No. Observations:               15368   AIC:                         4.245e+05\n",
       "Df Residuals:                   15359   BIC:                         4.246e+05\n",
       "Df Model:                           8                                         \n",
       "Covariance Type:            nonrobust                                         \n",
       "==============================================================================\n",
       "                 coef    std err          t      P>|t|      [0.025      0.975]\n",
       "------------------------------------------------------------------------------\n",
       "const       5.593e+06    1.6e+05     34.882      0.000    5.28e+06    5.91e+06\n",
       "id         -1.604e-06   6.82e-07     -2.352      0.019   -2.94e-06   -2.67e-07\n",
       "bedrooms    3.242e+04   2341.333     13.845      0.000    2.78e+04     3.7e+04\n",
       "sqft_lot       0.1079      0.047      2.281      0.023       0.015       0.201\n",
       "floors      4.256e+04   4371.629      9.735      0.000     3.4e+04    5.11e+04\n",
       "waterfront  8.849e+05   2.18e+04     40.555      0.000    8.42e+05    9.28e+05\n",
       "condition   2.713e+04   3251.387      8.345      0.000    2.08e+04    3.35e+04\n",
       "grade       2.279e+05   2066.759    110.291      0.000    2.24e+05    2.32e+05\n",
       "yr_built   -3584.0658     82.539    -43.423      0.000   -3745.851   -3422.280\n",
       "==============================================================================\n",
       "Omnibus:                    12074.499   Durbin-Watson:                   1.996\n",
       "Prob(Omnibus):                  0.000   Jarque-Bera (JB):           764451.860\n",
       "Skew:                           3.278   Prob(JB):                         0.00\n",
       "Kurtosis:                      36.924   Cond. No.                     4.47e+11\n",
       "==============================================================================\n",
       "\n",
       "Warnings:\n",
       "[1] Standard Errors assume that the covariance matrix of the errors is correctly specified.\n",
       "[2] The condition number is large, 4.47e+11. This might indicate that there are\n",
       "strong multicollinearity or other numerical problems.\n",
       "\"\"\""
      ]
     },
     "execution_count": 54,
     "metadata": {},
     "output_type": "execute_result"
    }
   ],
   "source": [
    "X_cte4 = sm.add_constant(X_train4)\n",
    "model4 = sm.OLS(y_train, X_cte4)\n",
    "\n",
    "results4 = model4.fit()\n",
    "\n",
    "results4.summary()"
   ]
  },
  {
   "cell_type": "code",
   "execution_count": 55,
   "metadata": {
    "ExecuteTime": {
     "end_time": "2020-03-25T17:46:05.231830Z",
     "start_time": "2020-03-25T17:46:05.212518Z"
    }
   },
   "outputs": [],
   "source": [
    "X_test4 = X_test.drop([\"bathrooms\",\"sqft_living\"], axis=1)"
   ]
  },
  {
   "cell_type": "code",
   "execution_count": 56,
   "metadata": {
    "ExecuteTime": {
     "end_time": "2020-03-25T17:46:05.267601Z",
     "start_time": "2020-03-25T17:46:05.235259Z"
    }
   },
   "outputs": [
    {
     "data": {
      "text/plain": [
       "0.5703402881579495"
      ]
     },
     "execution_count": 56,
     "metadata": {},
     "output_type": "execute_result"
    }
   ],
   "source": [
    "lin_reg4 = LinearRegression(fit_intercept=True)\n",
    "lin_reg4.fit(X_train4, y_train)\n",
    "lin_reg4.score(X_test4, y_test)"
   ]
  },
  {
   "cell_type": "code",
   "execution_count": 57,
   "metadata": {
    "ExecuteTime": {
     "end_time": "2020-03-25T17:46:05.276716Z",
     "start_time": "2020-03-25T17:46:05.270820Z"
    }
   },
   "outputs": [],
   "source": [
    "#answer at the quetion : grade does have a more significant impact on the price than the bathrooms"
   ]
  },
  {
   "cell_type": "markdown",
   "metadata": {},
   "source": [
    "question 2 : does having a waterfront in the house impacts the price?"
   ]
  },
  {
   "cell_type": "code",
   "execution_count": 58,
   "metadata": {
    "ExecuteTime": {
     "end_time": "2020-03-25T17:46:05.296492Z",
     "start_time": "2020-03-25T17:46:05.281829Z"
    }
   },
   "outputs": [
    {
     "data": {
      "text/plain": [
       "0.0    19066\n",
       "1.0      145\n",
       "Name: waterfront, dtype: int64"
      ]
     },
     "execution_count": 58,
     "metadata": {},
     "output_type": "execute_result"
    }
   ],
   "source": [
    "kc_house[\"waterfront\"].value_counts()"
   ]
  },
  {
   "cell_type": "code",
   "execution_count": 59,
   "metadata": {
    "ExecuteTime": {
     "end_time": "2020-03-25T17:46:05.308714Z",
     "start_time": "2020-03-25T17:46:05.300534Z"
    }
   },
   "outputs": [],
   "source": [
    "water_1 = kc_house[kc_house[\"waterfront\"] == 1]\n"
   ]
  },
  {
   "cell_type": "code",
   "execution_count": 60,
   "metadata": {
    "ExecuteTime": {
     "end_time": "2020-03-25T17:46:05.468341Z",
     "start_time": "2020-03-25T17:46:05.312989Z"
    }
   },
   "outputs": [
    {
     "data": {
      "text/html": [
       "<div>\n",
       "<style scoped>\n",
       "    .dataframe tbody tr th:only-of-type {\n",
       "        vertical-align: middle;\n",
       "    }\n",
       "\n",
       "    .dataframe tbody tr th {\n",
       "        vertical-align: top;\n",
       "    }\n",
       "\n",
       "    .dataframe thead th {\n",
       "        text-align: right;\n",
       "    }\n",
       "</style>\n",
       "<table border=\"1\" class=\"dataframe\">\n",
       "  <thead>\n",
       "    <tr style=\"text-align: right;\">\n",
       "      <th></th>\n",
       "      <th>id</th>\n",
       "      <th>price</th>\n",
       "      <th>bedrooms</th>\n",
       "      <th>bathrooms</th>\n",
       "      <th>sqft_living</th>\n",
       "      <th>sqft_lot</th>\n",
       "      <th>floors</th>\n",
       "      <th>waterfront</th>\n",
       "      <th>condition</th>\n",
       "      <th>grade</th>\n",
       "      <th>yr_built</th>\n",
       "    </tr>\n",
       "  </thead>\n",
       "  <tbody>\n",
       "    <tr>\n",
       "      <th>45</th>\n",
       "      <td>822039084</td>\n",
       "      <td>1350000.0</td>\n",
       "      <td>3</td>\n",
       "      <td>2.50</td>\n",
       "      <td>2753</td>\n",
       "      <td>65005</td>\n",
       "      <td>1.0</td>\n",
       "      <td>1.0</td>\n",
       "      <td>5</td>\n",
       "      <td>9</td>\n",
       "      <td>1953</td>\n",
       "    </tr>\n",
       "    <tr>\n",
       "      <th>205</th>\n",
       "      <td>8096000060</td>\n",
       "      <td>655000.0</td>\n",
       "      <td>2</td>\n",
       "      <td>1.75</td>\n",
       "      <td>1450</td>\n",
       "      <td>15798</td>\n",
       "      <td>2.0</td>\n",
       "      <td>1.0</td>\n",
       "      <td>3</td>\n",
       "      <td>7</td>\n",
       "      <td>1915</td>\n",
       "    </tr>\n",
       "    <tr>\n",
       "      <th>221</th>\n",
       "      <td>2025069065</td>\n",
       "      <td>2400000.0</td>\n",
       "      <td>4</td>\n",
       "      <td>2.50</td>\n",
       "      <td>3650</td>\n",
       "      <td>8354</td>\n",
       "      <td>1.0</td>\n",
       "      <td>1.0</td>\n",
       "      <td>3</td>\n",
       "      <td>9</td>\n",
       "      <td>2000</td>\n",
       "    </tr>\n",
       "    <tr>\n",
       "      <th>238</th>\n",
       "      <td>2123039032</td>\n",
       "      <td>369900.0</td>\n",
       "      <td>1</td>\n",
       "      <td>0.75</td>\n",
       "      <td>760</td>\n",
       "      <td>10079</td>\n",
       "      <td>1.0</td>\n",
       "      <td>1.0</td>\n",
       "      <td>5</td>\n",
       "      <td>5</td>\n",
       "      <td>1936</td>\n",
       "    </tr>\n",
       "    <tr>\n",
       "      <th>268</th>\n",
       "      <td>3225069065</td>\n",
       "      <td>3080000.0</td>\n",
       "      <td>4</td>\n",
       "      <td>5.00</td>\n",
       "      <td>4550</td>\n",
       "      <td>18641</td>\n",
       "      <td>1.0</td>\n",
       "      <td>1.0</td>\n",
       "      <td>3</td>\n",
       "      <td>10</td>\n",
       "      <td>2002</td>\n",
       "    </tr>\n",
       "  </tbody>\n",
       "</table>\n",
       "</div>"
      ],
      "text/plain": [
       "             id      price  bedrooms  bathrooms  sqft_living  sqft_lot  \\\n",
       "45    822039084  1350000.0         3       2.50         2753     65005   \n",
       "205  8096000060   655000.0         2       1.75         1450     15798   \n",
       "221  2025069065  2400000.0         4       2.50         3650      8354   \n",
       "238  2123039032   369900.0         1       0.75          760     10079   \n",
       "268  3225069065  3080000.0         4       5.00         4550     18641   \n",
       "\n",
       "     floors  waterfront  condition  grade  yr_built  \n",
       "45      1.0         1.0          5      9      1953  \n",
       "205     2.0         1.0          3      7      1915  \n",
       "221     1.0         1.0          3      9      2000  \n",
       "238     1.0         1.0          5      5      1936  \n",
       "268     1.0         1.0          3     10      2002  "
      ]
     },
     "execution_count": 60,
     "metadata": {},
     "output_type": "execute_result"
    }
   ],
   "source": [
    "water_1.head()"
   ]
  },
  {
   "cell_type": "code",
   "execution_count": 63,
   "metadata": {
    "ExecuteTime": {
     "end_time": "2020-03-25T17:46:55.891596Z",
     "start_time": "2020-03-25T17:46:55.866321Z"
    }
   },
   "outputs": [],
   "source": [
    "water_0 = kc_house[kc_house[\"waterfront\"] == 0]"
   ]
  },
  {
   "cell_type": "code",
   "execution_count": 64,
   "metadata": {
    "ExecuteTime": {
     "end_time": "2020-03-25T17:47:09.736991Z",
     "start_time": "2020-03-25T17:47:09.663554Z"
    }
   },
   "outputs": [
    {
     "data": {
      "text/html": [
       "<div>\n",
       "<style scoped>\n",
       "    .dataframe tbody tr th:only-of-type {\n",
       "        vertical-align: middle;\n",
       "    }\n",
       "\n",
       "    .dataframe tbody tr th {\n",
       "        vertical-align: top;\n",
       "    }\n",
       "\n",
       "    .dataframe thead th {\n",
       "        text-align: right;\n",
       "    }\n",
       "</style>\n",
       "<table border=\"1\" class=\"dataframe\">\n",
       "  <thead>\n",
       "    <tr style=\"text-align: right;\">\n",
       "      <th></th>\n",
       "      <th>id</th>\n",
       "      <th>price</th>\n",
       "      <th>bedrooms</th>\n",
       "      <th>bathrooms</th>\n",
       "      <th>sqft_living</th>\n",
       "      <th>sqft_lot</th>\n",
       "      <th>floors</th>\n",
       "      <th>waterfront</th>\n",
       "      <th>condition</th>\n",
       "      <th>grade</th>\n",
       "      <th>yr_built</th>\n",
       "    </tr>\n",
       "  </thead>\n",
       "  <tbody>\n",
       "    <tr>\n",
       "      <th>0</th>\n",
       "      <td>6414100192</td>\n",
       "      <td>538000.0</td>\n",
       "      <td>3</td>\n",
       "      <td>2.25</td>\n",
       "      <td>2570</td>\n",
       "      <td>7242</td>\n",
       "      <td>2.0</td>\n",
       "      <td>0.0</td>\n",
       "      <td>3</td>\n",
       "      <td>7</td>\n",
       "      <td>1951</td>\n",
       "    </tr>\n",
       "    <tr>\n",
       "      <th>1</th>\n",
       "      <td>5631500400</td>\n",
       "      <td>180000.0</td>\n",
       "      <td>2</td>\n",
       "      <td>1.00</td>\n",
       "      <td>770</td>\n",
       "      <td>10000</td>\n",
       "      <td>1.0</td>\n",
       "      <td>0.0</td>\n",
       "      <td>3</td>\n",
       "      <td>6</td>\n",
       "      <td>1933</td>\n",
       "    </tr>\n",
       "    <tr>\n",
       "      <th>2</th>\n",
       "      <td>2487200875</td>\n",
       "      <td>604000.0</td>\n",
       "      <td>4</td>\n",
       "      <td>3.00</td>\n",
       "      <td>1960</td>\n",
       "      <td>5000</td>\n",
       "      <td>1.0</td>\n",
       "      <td>0.0</td>\n",
       "      <td>5</td>\n",
       "      <td>7</td>\n",
       "      <td>1965</td>\n",
       "    </tr>\n",
       "    <tr>\n",
       "      <th>3</th>\n",
       "      <td>1954400510</td>\n",
       "      <td>510000.0</td>\n",
       "      <td>3</td>\n",
       "      <td>2.00</td>\n",
       "      <td>1680</td>\n",
       "      <td>8080</td>\n",
       "      <td>1.0</td>\n",
       "      <td>0.0</td>\n",
       "      <td>3</td>\n",
       "      <td>8</td>\n",
       "      <td>1987</td>\n",
       "    </tr>\n",
       "    <tr>\n",
       "      <th>4</th>\n",
       "      <td>7237550310</td>\n",
       "      <td>1230000.0</td>\n",
       "      <td>4</td>\n",
       "      <td>4.50</td>\n",
       "      <td>5420</td>\n",
       "      <td>101930</td>\n",
       "      <td>1.0</td>\n",
       "      <td>0.0</td>\n",
       "      <td>3</td>\n",
       "      <td>11</td>\n",
       "      <td>2001</td>\n",
       "    </tr>\n",
       "  </tbody>\n",
       "</table>\n",
       "</div>"
      ],
      "text/plain": [
       "           id      price  bedrooms  bathrooms  sqft_living  sqft_lot  floors  \\\n",
       "0  6414100192   538000.0         3       2.25         2570      7242     2.0   \n",
       "1  5631500400   180000.0         2       1.00          770     10000     1.0   \n",
       "2  2487200875   604000.0         4       3.00         1960      5000     1.0   \n",
       "3  1954400510   510000.0         3       2.00         1680      8080     1.0   \n",
       "4  7237550310  1230000.0         4       4.50         5420    101930     1.0   \n",
       "\n",
       "   waterfront  condition  grade  yr_built  \n",
       "0         0.0          3      7      1951  \n",
       "1         0.0          3      6      1933  \n",
       "2         0.0          5      7      1965  \n",
       "3         0.0          3      8      1987  \n",
       "4         0.0          3     11      2001  "
      ]
     },
     "execution_count": 64,
     "metadata": {},
     "output_type": "execute_result"
    }
   ],
   "source": [
    "water_0.head()"
   ]
  },
  {
   "cell_type": "code",
   "execution_count": 67,
   "metadata": {
    "ExecuteTime": {
     "end_time": "2020-03-25T17:51:57.633369Z",
     "start_time": "2020-03-25T17:51:56.653114Z"
    }
   },
   "outputs": [
    {
     "name": "stderr",
     "output_type": "stream",
     "text": [
      "/opt/anaconda3/envs/learn-env/lib/python3.6/site-packages/scipy/stats/stats.py:1713: FutureWarning: Using a non-tuple sequence for multidimensional indexing is deprecated; use `arr[tuple(seq)]` instead of `arr[seq]`. In the future this will be interpreted as an array index, `arr[np.array(seq)]`, which will result either in an error or a different result.\n",
      "  return np.add.reduce(sorted[indexer] * weights, axis=axis) / sumval\n"
     ]
    },
    {
     "data": {
      "image/png": "[encoded data removed]",
      "text/plain": [
       "<Figure size 1152x864 with 1 Axes>"
      ]
     },
     "metadata": {
      "needs_background": "light"
     },
     "output_type": "display_data"
    }
   ],
   "source": [
    "plt.figure(figsize=(16,12))\n",
    "sns.distplot(water_1[\"price\"], label=\"waterfront\")\n",
    "sns.distplot(water_0[\"price\"], label=\"no waterfront\")\n",
    "plt.legend()\n",
    "plt.show()\n"
   ]
  },
  {
   "cell_type": "code",
   "execution_count": 71,
   "metadata": {
    "ExecuteTime": {
     "end_time": "2020-03-25T18:00:16.778917Z",
     "start_time": "2020-03-25T18:00:16.767487Z"
    }
   },
   "outputs": [],
   "source": [
    "#is pretty clear the the houses with waterfront are more to the right, this means that they have a positive impact to the price"
   ]
  },
  {
   "cell_type": "code",
   "execution_count": null,
   "metadata": {
    "ExecuteTime": {
     "end_time": "2020-03-25T17:57:09.885335Z",
     "start_time": "2020-03-25T17:57:09.033640Z"
    }
   },
   "outputs": [],
   "source": []
  },
  {
   "cell_type": "code",
   "execution_count": null,
   "metadata": {},
   "outputs": [],
   "source": []
  }
 ],
 "metadata": {
  "kernelspec": {
   "display_name": "Python [conda env:learn-env] *",
   "language": "python",
   "name": "conda-env-learn-env-py"
  },
  "language_info": {
   "codemirror_mode": {
    "name": "ipython",
    "version": 3
   },
   "file_extension": ".py",
   "mimetype": "text/x-python",
   "name": "python",
   "nbconvert_exporter": "python",
   "pygments_lexer": "ipython3",
   "version": "3.6.6"
  }
 },
 "nbformat": 4,
 "nbformat_minor": 2
}
