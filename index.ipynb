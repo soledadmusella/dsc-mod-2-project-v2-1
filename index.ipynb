{
 "cells": [
  {
   "cell_type": "markdown",
   "metadata": {},
   "source": [
    "# Module 2 Final Project "
   ]
  },
  {
   "cell_type": "code",
   "execution_count": 101,
   "metadata": {
    "ExecuteTime": {
     "end_time": "2020-03-26T16:31:33.201166Z",
     "start_time": "2020-03-26T16:31:33.195280Z"
    }
   },
   "outputs": [],
   "source": [
    "import pandas as pd\n",
    "import numpy as np\n",
    "import matplotlib.pyplot as plt\n",
    "import seaborn as sns\n",
    "%matplotlib inline\n",
    "import statsmodels.api as sm\n",
    "from scipy import stats\n",
    "from sklearn.model_selection import train_test_split\n",
    "from statsmodels.stats import weightstats as stests\n",
    "from sklearn.linear_model import LinearRegression\n"
   ]
  },
  {
   "cell_type": "code",
   "execution_count": 102,
   "metadata": {
    "ExecuteTime": {
     "end_time": "2020-03-26T16:31:35.178614Z",
     "start_time": "2020-03-26T16:31:35.082681Z"
    }
   },
   "outputs": [],
   "source": [
    "kc_house = pd.read_csv(\"kc_house_data.csv\")"
   ]
  },
  {
   "cell_type": "code",
   "execution_count": 103,
   "metadata": {
    "ExecuteTime": {
     "end_time": "2020-03-26T16:31:35.626133Z",
     "start_time": "2020-03-26T16:31:35.590984Z"
    }
   },
   "outputs": [
    {
     "data": {
      "text/html": [
       "<div>\n",
       "<style scoped>\n",
       "    .dataframe tbody tr th:only-of-type {\n",
       "        vertical-align: middle;\n",
       "    }\n",
       "\n",
       "    .dataframe tbody tr th {\n",
       "        vertical-align: top;\n",
       "    }\n",
       "\n",
       "    .dataframe thead th {\n",
       "        text-align: right;\n",
       "    }\n",
       "</style>\n",
       "<table border=\"1\" class=\"dataframe\">\n",
       "  <thead>\n",
       "    <tr style=\"text-align: right;\">\n",
       "      <th></th>\n",
       "      <th>id</th>\n",
       "      <th>date</th>\n",
       "      <th>price</th>\n",
       "      <th>bedrooms</th>\n",
       "      <th>bathrooms</th>\n",
       "      <th>sqft_living</th>\n",
       "      <th>sqft_lot</th>\n",
       "      <th>floors</th>\n",
       "      <th>waterfront</th>\n",
       "      <th>view</th>\n",
       "      <th>...</th>\n",
       "      <th>grade</th>\n",
       "      <th>sqft_above</th>\n",
       "      <th>sqft_basement</th>\n",
       "      <th>yr_built</th>\n",
       "      <th>yr_renovated</th>\n",
       "      <th>zipcode</th>\n",
       "      <th>lat</th>\n",
       "      <th>long</th>\n",
       "      <th>sqft_living15</th>\n",
       "      <th>sqft_lot15</th>\n",
       "    </tr>\n",
       "  </thead>\n",
       "  <tbody>\n",
       "    <tr>\n",
       "      <th>0</th>\n",
       "      <td>7129300520</td>\n",
       "      <td>10/13/2014</td>\n",
       "      <td>221900.0</td>\n",
       "      <td>3</td>\n",
       "      <td>1.00</td>\n",
       "      <td>1180</td>\n",
       "      <td>5650</td>\n",
       "      <td>1.0</td>\n",
       "      <td>NaN</td>\n",
       "      <td>0.0</td>\n",
       "      <td>...</td>\n",
       "      <td>7</td>\n",
       "      <td>1180</td>\n",
       "      <td>0.0</td>\n",
       "      <td>1955</td>\n",
       "      <td>0.0</td>\n",
       "      <td>98178</td>\n",
       "      <td>47.5112</td>\n",
       "      <td>-122.257</td>\n",
       "      <td>1340</td>\n",
       "      <td>5650</td>\n",
       "    </tr>\n",
       "    <tr>\n",
       "      <th>1</th>\n",
       "      <td>6414100192</td>\n",
       "      <td>12/9/2014</td>\n",
       "      <td>538000.0</td>\n",
       "      <td>3</td>\n",
       "      <td>2.25</td>\n",
       "      <td>2570</td>\n",
       "      <td>7242</td>\n",
       "      <td>2.0</td>\n",
       "      <td>0.0</td>\n",
       "      <td>0.0</td>\n",
       "      <td>...</td>\n",
       "      <td>7</td>\n",
       "      <td>2170</td>\n",
       "      <td>400.0</td>\n",
       "      <td>1951</td>\n",
       "      <td>1991.0</td>\n",
       "      <td>98125</td>\n",
       "      <td>47.7210</td>\n",
       "      <td>-122.319</td>\n",
       "      <td>1690</td>\n",
       "      <td>7639</td>\n",
       "    </tr>\n",
       "    <tr>\n",
       "      <th>2</th>\n",
       "      <td>5631500400</td>\n",
       "      <td>2/25/2015</td>\n",
       "      <td>180000.0</td>\n",
       "      <td>2</td>\n",
       "      <td>1.00</td>\n",
       "      <td>770</td>\n",
       "      <td>10000</td>\n",
       "      <td>1.0</td>\n",
       "      <td>0.0</td>\n",
       "      <td>0.0</td>\n",
       "      <td>...</td>\n",
       "      <td>6</td>\n",
       "      <td>770</td>\n",
       "      <td>0.0</td>\n",
       "      <td>1933</td>\n",
       "      <td>NaN</td>\n",
       "      <td>98028</td>\n",
       "      <td>47.7379</td>\n",
       "      <td>-122.233</td>\n",
       "      <td>2720</td>\n",
       "      <td>8062</td>\n",
       "    </tr>\n",
       "    <tr>\n",
       "      <th>3</th>\n",
       "      <td>2487200875</td>\n",
       "      <td>12/9/2014</td>\n",
       "      <td>604000.0</td>\n",
       "      <td>4</td>\n",
       "      <td>3.00</td>\n",
       "      <td>1960</td>\n",
       "      <td>5000</td>\n",
       "      <td>1.0</td>\n",
       "      <td>0.0</td>\n",
       "      <td>0.0</td>\n",
       "      <td>...</td>\n",
       "      <td>7</td>\n",
       "      <td>1050</td>\n",
       "      <td>910.0</td>\n",
       "      <td>1965</td>\n",
       "      <td>0.0</td>\n",
       "      <td>98136</td>\n",
       "      <td>47.5208</td>\n",
       "      <td>-122.393</td>\n",
       "      <td>1360</td>\n",
       "      <td>5000</td>\n",
       "    </tr>\n",
       "    <tr>\n",
       "      <th>4</th>\n",
       "      <td>1954400510</td>\n",
       "      <td>2/18/2015</td>\n",
       "      <td>510000.0</td>\n",
       "      <td>3</td>\n",
       "      <td>2.00</td>\n",
       "      <td>1680</td>\n",
       "      <td>8080</td>\n",
       "      <td>1.0</td>\n",
       "      <td>0.0</td>\n",
       "      <td>0.0</td>\n",
       "      <td>...</td>\n",
       "      <td>8</td>\n",
       "      <td>1680</td>\n",
       "      <td>0.0</td>\n",
       "      <td>1987</td>\n",
       "      <td>0.0</td>\n",
       "      <td>98074</td>\n",
       "      <td>47.6168</td>\n",
       "      <td>-122.045</td>\n",
       "      <td>1800</td>\n",
       "      <td>7503</td>\n",
       "    </tr>\n",
       "  </tbody>\n",
       "</table>\n",
       "<p>5 rows × 21 columns</p>\n",
       "</div>"
      ],
      "text/plain": [
       "           id        date     price  bedrooms  bathrooms  sqft_living  \\\n",
       "0  7129300520  10/13/2014  221900.0         3       1.00         1180   \n",
       "1  6414100192   12/9/2014  538000.0         3       2.25         2570   \n",
       "2  5631500400   2/25/2015  180000.0         2       1.00          770   \n",
       "3  2487200875   12/9/2014  604000.0         4       3.00         1960   \n",
       "4  1954400510   2/18/2015  510000.0         3       2.00         1680   \n",
       "\n",
       "   sqft_lot  floors  waterfront  view     ...      grade  sqft_above  \\\n",
       "0      5650     1.0         NaN   0.0     ...          7        1180   \n",
       "1      7242     2.0         0.0   0.0     ...          7        2170   \n",
       "2     10000     1.0         0.0   0.0     ...          6         770   \n",
       "3      5000     1.0         0.0   0.0     ...          7        1050   \n",
       "4      8080     1.0         0.0   0.0     ...          8        1680   \n",
       "\n",
       "   sqft_basement yr_built  yr_renovated  zipcode      lat     long  \\\n",
       "0            0.0     1955           0.0    98178  47.5112 -122.257   \n",
       "1          400.0     1951        1991.0    98125  47.7210 -122.319   \n",
       "2            0.0     1933           NaN    98028  47.7379 -122.233   \n",
       "3          910.0     1965           0.0    98136  47.5208 -122.393   \n",
       "4            0.0     1987           0.0    98074  47.6168 -122.045   \n",
       "\n",
       "   sqft_living15  sqft_lot15  \n",
       "0           1340        5650  \n",
       "1           1690        7639  \n",
       "2           2720        8062  \n",
       "3           1360        5000  \n",
       "4           1800        7503  \n",
       "\n",
       "[5 rows x 21 columns]"
      ]
     },
     "execution_count": 103,
     "metadata": {},
     "output_type": "execute_result"
    }
   ],
   "source": [
    "kc_house.head()"
   ]
  },
  {
   "cell_type": "markdown",
   "metadata": {},
   "source": [
    " # DATA CLEANING AND DATA INSPECTING"
   ]
  },
  {
   "cell_type": "code",
   "execution_count": 104,
   "metadata": {
    "ExecuteTime": {
     "end_time": "2020-03-26T16:32:08.746729Z",
     "start_time": "2020-03-26T16:32:08.739841Z"
    }
   },
   "outputs": [
    {
     "data": {
      "text/plain": [
       "(21597, 21)"
      ]
     },
     "execution_count": 104,
     "metadata": {},
     "output_type": "execute_result"
    }
   ],
   "source": [
    "kc_house.shape"
   ]
  },
  {
   "cell_type": "code",
   "execution_count": 105,
   "metadata": {
    "ExecuteTime": {
     "end_time": "2020-03-26T16:32:09.317695Z",
     "start_time": "2020-03-26T16:32:09.314442Z"
    }
   },
   "outputs": [],
   "source": [
    "# as I'm doing a solo project i can ignore the following features: date, view, \n",
    "# sqft_above,sqft_basement,yr_renovated,zipcode,lat,long,sqft_living15,sqft_lot15\n"
   ]
  },
  {
   "cell_type": "code",
   "execution_count": 106,
   "metadata": {
    "ExecuteTime": {
     "end_time": "2020-03-26T16:32:13.728521Z",
     "start_time": "2020-03-26T16:32:13.722082Z"
    }
   },
   "outputs": [],
   "source": [
    "kc_house.drop([\"date\",\"view\",\"sqft_above\",\"sqft_basement\",\"yr_renovated\",\"zipcode\",\n",
    "               \"lat\",\"long\",\"sqft_living15\",\"sqft_lot15\"],axis=1, inplace=True)\n"
   ]
  },
  {
   "cell_type": "code",
   "execution_count": 107,
   "metadata": {
    "ExecuteTime": {
     "end_time": "2020-03-26T16:32:14.877789Z",
     "start_time": "2020-03-26T16:32:14.859951Z"
    }
   },
   "outputs": [
    {
     "data": {
      "text/html": [
       "<div>\n",
       "<style scoped>\n",
       "    .dataframe tbody tr th:only-of-type {\n",
       "        vertical-align: middle;\n",
       "    }\n",
       "\n",
       "    .dataframe tbody tr th {\n",
       "        vertical-align: top;\n",
       "    }\n",
       "\n",
       "    .dataframe thead th {\n",
       "        text-align: right;\n",
       "    }\n",
       "</style>\n",
       "<table border=\"1\" class=\"dataframe\">\n",
       "  <thead>\n",
       "    <tr style=\"text-align: right;\">\n",
       "      <th></th>\n",
       "      <th>id</th>\n",
       "      <th>price</th>\n",
       "      <th>bedrooms</th>\n",
       "      <th>bathrooms</th>\n",
       "      <th>sqft_living</th>\n",
       "      <th>sqft_lot</th>\n",
       "      <th>floors</th>\n",
       "      <th>waterfront</th>\n",
       "      <th>condition</th>\n",
       "      <th>grade</th>\n",
       "      <th>yr_built</th>\n",
       "    </tr>\n",
       "  </thead>\n",
       "  <tbody>\n",
       "    <tr>\n",
       "      <th>0</th>\n",
       "      <td>7129300520</td>\n",
       "      <td>221900.0</td>\n",
       "      <td>3</td>\n",
       "      <td>1.00</td>\n",
       "      <td>1180</td>\n",
       "      <td>5650</td>\n",
       "      <td>1.0</td>\n",
       "      <td>NaN</td>\n",
       "      <td>3</td>\n",
       "      <td>7</td>\n",
       "      <td>1955</td>\n",
       "    </tr>\n",
       "    <tr>\n",
       "      <th>1</th>\n",
       "      <td>6414100192</td>\n",
       "      <td>538000.0</td>\n",
       "      <td>3</td>\n",
       "      <td>2.25</td>\n",
       "      <td>2570</td>\n",
       "      <td>7242</td>\n",
       "      <td>2.0</td>\n",
       "      <td>0.0</td>\n",
       "      <td>3</td>\n",
       "      <td>7</td>\n",
       "      <td>1951</td>\n",
       "    </tr>\n",
       "    <tr>\n",
       "      <th>2</th>\n",
       "      <td>5631500400</td>\n",
       "      <td>180000.0</td>\n",
       "      <td>2</td>\n",
       "      <td>1.00</td>\n",
       "      <td>770</td>\n",
       "      <td>10000</td>\n",
       "      <td>1.0</td>\n",
       "      <td>0.0</td>\n",
       "      <td>3</td>\n",
       "      <td>6</td>\n",
       "      <td>1933</td>\n",
       "    </tr>\n",
       "    <tr>\n",
       "      <th>3</th>\n",
       "      <td>2487200875</td>\n",
       "      <td>604000.0</td>\n",
       "      <td>4</td>\n",
       "      <td>3.00</td>\n",
       "      <td>1960</td>\n",
       "      <td>5000</td>\n",
       "      <td>1.0</td>\n",
       "      <td>0.0</td>\n",
       "      <td>5</td>\n",
       "      <td>7</td>\n",
       "      <td>1965</td>\n",
       "    </tr>\n",
       "    <tr>\n",
       "      <th>4</th>\n",
       "      <td>1954400510</td>\n",
       "      <td>510000.0</td>\n",
       "      <td>3</td>\n",
       "      <td>2.00</td>\n",
       "      <td>1680</td>\n",
       "      <td>8080</td>\n",
       "      <td>1.0</td>\n",
       "      <td>0.0</td>\n",
       "      <td>3</td>\n",
       "      <td>8</td>\n",
       "      <td>1987</td>\n",
       "    </tr>\n",
       "  </tbody>\n",
       "</table>\n",
       "</div>"
      ],
      "text/plain": [
       "           id     price  bedrooms  bathrooms  sqft_living  sqft_lot  floors  \\\n",
       "0  7129300520  221900.0         3       1.00         1180      5650     1.0   \n",
       "1  6414100192  538000.0         3       2.25         2570      7242     2.0   \n",
       "2  5631500400  180000.0         2       1.00          770     10000     1.0   \n",
       "3  2487200875  604000.0         4       3.00         1960      5000     1.0   \n",
       "4  1954400510  510000.0         3       2.00         1680      8080     1.0   \n",
       "\n",
       "   waterfront  condition  grade  yr_built  \n",
       "0         NaN          3      7      1955  \n",
       "1         0.0          3      7      1951  \n",
       "2         0.0          3      6      1933  \n",
       "3         0.0          5      7      1965  \n",
       "4         0.0          3      8      1987  "
      ]
     },
     "execution_count": 107,
     "metadata": {},
     "output_type": "execute_result"
    }
   ],
   "source": [
    "kc_house.head()"
   ]
  },
  {
   "cell_type": "code",
   "execution_count": 108,
   "metadata": {
    "ExecuteTime": {
     "end_time": "2020-03-26T16:32:23.047689Z",
     "start_time": "2020-03-26T16:32:23.040043Z"
    }
   },
   "outputs": [
    {
     "data": {
      "text/plain": [
       "(21597, 11)"
      ]
     },
     "execution_count": 108,
     "metadata": {},
     "output_type": "execute_result"
    }
   ],
   "source": [
    "kc_house.shape"
   ]
  },
  {
   "cell_type": "code",
   "execution_count": 9,
   "metadata": {
    "ExecuteTime": {
     "end_time": "2020-03-26T16:11:41.588948Z",
     "start_time": "2020-03-26T16:11:41.572220Z"
    }
   },
   "outputs": [
    {
     "name": "stdout",
     "output_type": "stream",
     "text": [
      "<class 'pandas.core.frame.DataFrame'>\n",
      "RangeIndex: 21597 entries, 0 to 21596\n",
      "Data columns (total 11 columns):\n",
      "id             21597 non-null int64\n",
      "price          21597 non-null float64\n",
      "bedrooms       21597 non-null int64\n",
      "bathrooms      21597 non-null float64\n",
      "sqft_living    21597 non-null int64\n",
      "sqft_lot       21597 non-null int64\n",
      "floors         21597 non-null float64\n",
      "waterfront     19221 non-null float64\n",
      "condition      21597 non-null int64\n",
      "grade          21597 non-null int64\n",
      "yr_built       21597 non-null int64\n",
      "dtypes: float64(4), int64(7)\n",
      "memory usage: 1.8 MB\n"
     ]
    }
   ],
   "source": [
    "kc_house.info()"
   ]
  },
  {
   "cell_type": "markdown",
   "metadata": {
    "ExecuteTime": {
     "end_time": "2020-03-26T16:35:13.667897Z",
     "start_time": "2020-03-26T16:35:13.664109Z"
    }
   },
   "source": [
    "1. The variable waterfront has null values"
   ]
  },
  {
   "cell_type": "code",
   "execution_count": 11,
   "metadata": {
    "ExecuteTime": {
     "end_time": "2020-03-26T16:11:41.633191Z",
     "start_time": "2020-03-26T16:11:41.601169Z"
    }
   },
   "outputs": [
    {
     "data": {
      "text/plain": [
       "2376"
      ]
     },
     "execution_count": 11,
     "metadata": {},
     "output_type": "execute_result"
    }
   ],
   "source": [
    "kc_house[\"waterfront\"].isna().sum()"
   ]
  },
  {
   "cell_type": "code",
   "execution_count": 12,
   "metadata": {
    "ExecuteTime": {
     "end_time": "2020-03-26T16:11:41.645835Z",
     "start_time": "2020-03-26T16:11:41.636691Z"
    }
   },
   "outputs": [
    {
     "data": {
      "text/plain": [
       "11.00152798999861"
      ]
     },
     "execution_count": 12,
     "metadata": {},
     "output_type": "execute_result"
    }
   ],
   "source": [
    "100*kc_house[\"waterfront\"].isna().sum()/len(kc_house)"
   ]
  },
  {
   "cell_type": "markdown",
   "metadata": {},
   "source": [
    "As the 11% of the data have null value for the variable waterfront, I decide to drop then. Even if this percentage could not be low, I prefer to perform my analysis without this null values. "
   ]
  },
  {
   "cell_type": "code",
   "execution_count": 110,
   "metadata": {
    "ExecuteTime": {
     "end_time": "2020-03-26T16:40:06.134390Z",
     "start_time": "2020-03-26T16:40:06.125097Z"
    }
   },
   "outputs": [],
   "source": [
    "kc_house.dropna(subset=[\"waterfront\"], inplace=True)"
   ]
  },
  {
   "cell_type": "code",
   "execution_count": 111,
   "metadata": {
    "ExecuteTime": {
     "end_time": "2020-03-26T16:40:06.639758Z",
     "start_time": "2020-03-26T16:40:06.630150Z"
    }
   },
   "outputs": [
    {
     "data": {
      "text/plain": [
       "0"
      ]
     },
     "execution_count": 111,
     "metadata": {},
     "output_type": "execute_result"
    }
   ],
   "source": [
    "kc_house[\"waterfront\"].isna().sum()"
   ]
  },
  {
   "cell_type": "markdown",
   "metadata": {
    "ExecuteTime": {
     "end_time": "2020-03-26T16:41:47.717577Z",
     "start_time": "2020-03-26T16:41:47.713158Z"
    }
   },
   "source": [
    "## Inspection of the variables "
   ]
  },
  {
   "cell_type": "code",
   "execution_count": 16,
   "metadata": {
    "ExecuteTime": {
     "end_time": "2020-03-26T16:11:41.819317Z",
     "start_time": "2020-03-26T16:11:41.684150Z"
    }
   },
   "outputs": [
    {
     "data": {
      "text/html": [
       "<div>\n",
       "<style scoped>\n",
       "    .dataframe tbody tr th:only-of-type {\n",
       "        vertical-align: middle;\n",
       "    }\n",
       "\n",
       "    .dataframe tbody tr th {\n",
       "        vertical-align: top;\n",
       "    }\n",
       "\n",
       "    .dataframe thead th {\n",
       "        text-align: right;\n",
       "    }\n",
       "</style>\n",
       "<table border=\"1\" class=\"dataframe\">\n",
       "  <thead>\n",
       "    <tr style=\"text-align: right;\">\n",
       "      <th></th>\n",
       "      <th>id</th>\n",
       "      <th>price</th>\n",
       "      <th>bedrooms</th>\n",
       "      <th>bathrooms</th>\n",
       "      <th>sqft_living</th>\n",
       "      <th>sqft_lot</th>\n",
       "      <th>floors</th>\n",
       "      <th>waterfront</th>\n",
       "      <th>condition</th>\n",
       "      <th>grade</th>\n",
       "      <th>yr_built</th>\n",
       "    </tr>\n",
       "  </thead>\n",
       "  <tbody>\n",
       "    <tr>\n",
       "      <th>count</th>\n",
       "      <td>1.922100e+04</td>\n",
       "      <td>1.922100e+04</td>\n",
       "      <td>19221.000000</td>\n",
       "      <td>19221.000000</td>\n",
       "      <td>19221.000000</td>\n",
       "      <td>1.922100e+04</td>\n",
       "      <td>19221.000000</td>\n",
       "      <td>19221.000000</td>\n",
       "      <td>19221.000000</td>\n",
       "      <td>19221.000000</td>\n",
       "      <td>19221.000000</td>\n",
       "    </tr>\n",
       "    <tr>\n",
       "      <th>mean</th>\n",
       "      <td>4.592301e+09</td>\n",
       "      <td>5.416398e+05</td>\n",
       "      <td>3.374642</td>\n",
       "      <td>2.117072</td>\n",
       "      <td>2082.420894</td>\n",
       "      <td>1.507376e+04</td>\n",
       "      <td>1.495031</td>\n",
       "      <td>0.007596</td>\n",
       "      <td>3.409968</td>\n",
       "      <td>7.661048</td>\n",
       "      <td>1971.039800</td>\n",
       "    </tr>\n",
       "    <tr>\n",
       "      <th>std</th>\n",
       "      <td>2.876995e+09</td>\n",
       "      <td>3.722478e+05</td>\n",
       "      <td>0.928539</td>\n",
       "      <td>0.769576</td>\n",
       "      <td>922.544859</td>\n",
       "      <td>4.081729e+04</td>\n",
       "      <td>0.540155</td>\n",
       "      <td>0.086825</td>\n",
       "      <td>0.650280</td>\n",
       "      <td>1.175998</td>\n",
       "      <td>29.384666</td>\n",
       "    </tr>\n",
       "    <tr>\n",
       "      <th>min</th>\n",
       "      <td>1.000102e+06</td>\n",
       "      <td>7.800000e+04</td>\n",
       "      <td>1.000000</td>\n",
       "      <td>0.500000</td>\n",
       "      <td>370.000000</td>\n",
       "      <td>5.200000e+02</td>\n",
       "      <td>1.000000</td>\n",
       "      <td>0.000000</td>\n",
       "      <td>1.000000</td>\n",
       "      <td>3.000000</td>\n",
       "      <td>1900.000000</td>\n",
       "    </tr>\n",
       "    <tr>\n",
       "      <th>25%</th>\n",
       "      <td>2.124049e+09</td>\n",
       "      <td>3.220000e+05</td>\n",
       "      <td>3.000000</td>\n",
       "      <td>1.750000</td>\n",
       "      <td>1430.000000</td>\n",
       "      <td>5.040000e+03</td>\n",
       "      <td>1.000000</td>\n",
       "      <td>0.000000</td>\n",
       "      <td>3.000000</td>\n",
       "      <td>7.000000</td>\n",
       "      <td>1951.000000</td>\n",
       "    </tr>\n",
       "    <tr>\n",
       "      <th>50%</th>\n",
       "      <td>3.905081e+09</td>\n",
       "      <td>4.500000e+05</td>\n",
       "      <td>3.000000</td>\n",
       "      <td>2.250000</td>\n",
       "      <td>1920.000000</td>\n",
       "      <td>7.620000e+03</td>\n",
       "      <td>1.500000</td>\n",
       "      <td>0.000000</td>\n",
       "      <td>3.000000</td>\n",
       "      <td>7.000000</td>\n",
       "      <td>1975.000000</td>\n",
       "    </tr>\n",
       "    <tr>\n",
       "      <th>75%</th>\n",
       "      <td>7.334501e+09</td>\n",
       "      <td>6.440000e+05</td>\n",
       "      <td>4.000000</td>\n",
       "      <td>2.500000</td>\n",
       "      <td>2550.000000</td>\n",
       "      <td>1.071600e+04</td>\n",
       "      <td>2.000000</td>\n",
       "      <td>0.000000</td>\n",
       "      <td>4.000000</td>\n",
       "      <td>8.000000</td>\n",
       "      <td>1997.000000</td>\n",
       "    </tr>\n",
       "    <tr>\n",
       "      <th>max</th>\n",
       "      <td>9.900000e+09</td>\n",
       "      <td>7.700000e+06</td>\n",
       "      <td>33.000000</td>\n",
       "      <td>8.000000</td>\n",
       "      <td>13540.000000</td>\n",
       "      <td>1.651359e+06</td>\n",
       "      <td>3.500000</td>\n",
       "      <td>1.000000</td>\n",
       "      <td>5.000000</td>\n",
       "      <td>13.000000</td>\n",
       "      <td>2015.000000</td>\n",
       "    </tr>\n",
       "  </tbody>\n",
       "</table>\n",
       "</div>"
      ],
      "text/plain": [
       "                 id         price      bedrooms     bathrooms   sqft_living  \\\n",
       "count  1.922100e+04  1.922100e+04  19221.000000  19221.000000  19221.000000   \n",
       "mean   4.592301e+09  5.416398e+05      3.374642      2.117072   2082.420894   \n",
       "std    2.876995e+09  3.722478e+05      0.928539      0.769576    922.544859   \n",
       "min    1.000102e+06  7.800000e+04      1.000000      0.500000    370.000000   \n",
       "25%    2.124049e+09  3.220000e+05      3.000000      1.750000   1430.000000   \n",
       "50%    3.905081e+09  4.500000e+05      3.000000      2.250000   1920.000000   \n",
       "75%    7.334501e+09  6.440000e+05      4.000000      2.500000   2550.000000   \n",
       "max    9.900000e+09  7.700000e+06     33.000000      8.000000  13540.000000   \n",
       "\n",
       "           sqft_lot        floors    waterfront     condition         grade  \\\n",
       "count  1.922100e+04  19221.000000  19221.000000  19221.000000  19221.000000   \n",
       "mean   1.507376e+04      1.495031      0.007596      3.409968      7.661048   \n",
       "std    4.081729e+04      0.540155      0.086825      0.650280      1.175998   \n",
       "min    5.200000e+02      1.000000      0.000000      1.000000      3.000000   \n",
       "25%    5.040000e+03      1.000000      0.000000      3.000000      7.000000   \n",
       "50%    7.620000e+03      1.500000      0.000000      3.000000      7.000000   \n",
       "75%    1.071600e+04      2.000000      0.000000      4.000000      8.000000   \n",
       "max    1.651359e+06      3.500000      1.000000      5.000000     13.000000   \n",
       "\n",
       "           yr_built  \n",
       "count  19221.000000  \n",
       "mean    1971.039800  \n",
       "std       29.384666  \n",
       "min     1900.000000  \n",
       "25%     1951.000000  \n",
       "50%     1975.000000  \n",
       "75%     1997.000000  \n",
       "max     2015.000000  "
      ]
     },
     "execution_count": 16,
     "metadata": {},
     "output_type": "execute_result"
    }
   ],
   "source": [
    "kc_house.describe()"
   ]
  },
  {
   "cell_type": "markdown",
   "metadata": {},
   "source": [
    "My approach will be to eliminate the outliers from my analysys so I'll check each variable in order to find possible outliers and drop them"
   ]
  },
  {
   "cell_type": "code",
   "execution_count": 17,
   "metadata": {
    "ExecuteTime": {
     "end_time": "2020-03-26T16:11:41.833095Z",
     "start_time": "2020-03-26T16:11:41.823710Z"
    }
   },
   "outputs": [
    {
     "data": {
      "text/plain": [
       "3     8721\n",
       "4     6149\n",
       "2     2451\n",
       "5     1441\n",
       "6      227\n",
       "1      175\n",
       "7       35\n",
       "8       11\n",
       "9        6\n",
       "10       3\n",
       "11       1\n",
       "33       1\n",
       "Name: bedrooms, dtype: int64"
      ]
     },
     "execution_count": 17,
     "metadata": {},
     "output_type": "execute_result"
    }
   ],
   "source": [
    "kc_house[\"bedrooms\"].value_counts()"
   ]
  },
  {
   "cell_type": "markdown",
   "metadata": {
    "ExecuteTime": {
     "end_time": "2020-03-26T16:11:41.841486Z",
     "start_time": "2020-03-26T16:11:41.835880Z"
    }
   },
   "source": [
    "Apparently there are few values that I can consider as an outliers: 1 house with 33 bedrooms,1 house with 11 bedrooms, 3 houses with 10 bedrooms.\n",
    "I decide to filter the bedrooms by <= 11 in order to eliminate the outliers"
   ]
  },
  {
   "cell_type": "code",
   "execution_count": 114,
   "metadata": {
    "ExecuteTime": {
     "end_time": "2020-03-26T16:43:28.654786Z",
     "start_time": "2020-03-26T16:43:28.643465Z"
    },
    "scrolled": true
   },
   "outputs": [
    {
     "data": {
      "text/plain": [
       "array([ 3,  2,  4,  5,  1,  6,  7,  8,  9, 11, 10])"
      ]
     },
     "execution_count": 114,
     "metadata": {},
     "output_type": "execute_result"
    }
   ],
   "source": [
    "kc_house = kc_house[kc_house[\"bedrooms\"] <= 11].reset_index(drop=True)\n",
    "kc_house.bedrooms.unique()"
   ]
  },
  {
   "cell_type": "code",
   "execution_count": 115,
   "metadata": {
    "ExecuteTime": {
     "end_time": "2020-03-26T16:43:29.299938Z",
     "start_time": "2020-03-26T16:43:29.288136Z"
    }
   },
   "outputs": [
    {
     "data": {
      "text/plain": [
       "count    19220.000000\n",
       "mean         2.117092\n",
       "std          0.769592\n",
       "min          0.500000\n",
       "25%          1.750000\n",
       "50%          2.250000\n",
       "75%          2.500000\n",
       "max          8.000000\n",
       "Name: bathrooms, dtype: float64"
      ]
     },
     "execution_count": 115,
     "metadata": {},
     "output_type": "execute_result"
    }
   ],
   "source": [
    "kc_house[\"bathrooms\"].describe()"
   ]
  },
  {
   "cell_type": "code",
   "execution_count": 116,
   "metadata": {
    "ExecuteTime": {
     "end_time": "2020-03-26T16:43:32.556825Z",
     "start_time": "2020-03-26T16:43:32.547308Z"
    }
   },
   "outputs": [
    {
     "data": {
      "text/plain": [
       "2.50    4839\n",
       "1.00    3411\n",
       "1.75    2724\n",
       "2.25    1788\n",
       "2.00    1722\n",
       "1.50    1283\n",
       "2.75    1038\n",
       "3.00     662\n",
       "3.50     656\n",
       "3.25     521\n",
       "3.75     136\n",
       "4.00     121\n",
       "4.50      91\n",
       "4.25      73\n",
       "0.75      65\n",
       "4.75      22\n",
       "5.00      17\n",
       "5.25      11\n",
       "5.50      10\n",
       "1.25       8\n",
       "6.00       6\n",
       "0.50       4\n",
       "5.75       3\n",
       "8.00       2\n",
       "6.25       2\n",
       "6.75       2\n",
       "7.75       1\n",
       "6.50       1\n",
       "7.50       1\n",
       "Name: bathrooms, dtype: int64"
      ]
     },
     "execution_count": 116,
     "metadata": {},
     "output_type": "execute_result"
    }
   ],
   "source": [
    "kc_house[\"bathrooms\"].value_counts()"
   ]
  },
  {
   "cell_type": "markdown",
   "metadata": {
    "ExecuteTime": {
     "end_time": "2020-03-26T16:43:33.320495Z",
     "start_time": "2020-03-26T16:43:33.316089Z"
    }
   },
   "source": [
    "I consider the houses with more than 6 bedrooms outliers, so then I decide to drop them"
   ]
  },
  {
   "cell_type": "code",
   "execution_count": 23,
   "metadata": {
    "ExecuteTime": {
     "end_time": "2020-03-26T16:11:41.937125Z",
     "start_time": "2020-03-26T16:11:41.925919Z"
    }
   },
   "outputs": [
    {
     "data": {
      "text/plain": [
       "array([2.25, 1.  , 3.  , 2.  , 4.5 , 1.5 , 2.5 , 1.75, 2.75, 3.25, 4.  ,\n",
       "       3.5 , 0.75, 4.75, 5.  , 4.25, 3.75, 1.25, 5.25, 6.  , 0.5 , 5.5 ,\n",
       "       5.75])"
      ]
     },
     "execution_count": 23,
     "metadata": {},
     "output_type": "execute_result"
    }
   ],
   "source": [
    "kc_house = kc_house[kc_house[\"bathrooms\"] <= 6].reset_index(drop=True)\n",
    "kc_house.bathrooms.unique()"
   ]
  },
  {
   "cell_type": "code",
   "execution_count": 24,
   "metadata": {
    "ExecuteTime": {
     "end_time": "2020-03-26T16:11:41.973209Z",
     "start_time": "2020-03-26T16:11:41.942871Z"
    }
   },
   "outputs": [
    {
     "data": {
      "text/plain": [
       "1.0    9491\n",
       "2.0    7344\n",
       "1.5    1681\n",
       "3.0     545\n",
       "2.5     144\n",
       "3.5       6\n",
       "Name: floors, dtype: int64"
      ]
     },
     "execution_count": 24,
     "metadata": {},
     "output_type": "execute_result"
    }
   ],
   "source": [
    "kc_house[\"floors\"].value_counts()"
   ]
  },
  {
   "cell_type": "markdown",
   "metadata": {
    "ExecuteTime": {
     "end_time": "2020-03-26T16:11:41.982777Z",
     "start_time": "2020-03-26T16:11:41.978301Z"
    }
   },
   "source": [
    "The number of 7 houses with 3.5 floors looks an outlier so I drop them by filtering for floors<3.5"
   ]
  },
  {
   "cell_type": "code",
   "execution_count": 26,
   "metadata": {
    "ExecuteTime": {
     "end_time": "2020-03-26T16:11:42.001646Z",
     "start_time": "2020-03-26T16:11:41.989335Z"
    }
   },
   "outputs": [
    {
     "data": {
      "text/plain": [
       "array([2.25, 1.  , 3.  , 2.  , 4.5 , 1.5 , 2.5 , 1.75, 2.75, 3.25, 4.  ,\n",
       "       3.5 , 0.75, 4.75, 5.  , 4.25, 3.75, 1.25, 5.25, 6.  , 0.5 , 5.5 ,\n",
       "       5.75])"
      ]
     },
     "execution_count": 26,
     "metadata": {},
     "output_type": "execute_result"
    }
   ],
   "source": [
    "kc_house = kc_house[kc_house[\"floors\"] <= 3.5].reset_index(drop=True)\n",
    "kc_house.bathrooms.unique()"
   ]
  },
  {
   "cell_type": "markdown",
   "metadata": {},
   "source": [
    "## Visualisation of the relationship between the dipendent variable \"Price\" and the other variables"
   ]
  },
  {
   "cell_type": "code",
   "execution_count": 27,
   "metadata": {
    "ExecuteTime": {
     "end_time": "2020-03-26T16:11:42.011778Z",
     "start_time": "2020-03-26T16:11:42.006754Z"
    }
   },
   "outputs": [],
   "source": [
    "cols= [\"price\",\"bedrooms\",\"bathrooms\",\"sqft_living\",\"sqft_lot\",\"floors\",\"waterfront\",\"condition\",\"grade\",\"yr_built\"]"
   ]
  },
  {
   "cell_type": "code",
   "execution_count": 28,
   "metadata": {
    "ExecuteTime": {
     "end_time": "2020-03-26T16:11:46.196473Z",
     "start_time": "2020-03-26T16:11:42.015613Z"
    }
   },
   "outputs": [
    {
     "data": {
      "image/png": "[encoded data removed]",
      "text/plain": [
       "<Figure size 1800x1800 with 10 Axes>"
      ]
     },
     "metadata": {
      "needs_background": "light"
     },
     "output_type": "display_data"
    }
   ],
   "source": [
    "plt.figure(figsize=(25,25))\n",
    "\n",
    "for i, col in enumerate(cols):\n",
    "    plt.subplot(5, 2, i+1)\n",
    "    sns.scatterplot(x=\"price\", y=col, data = kc_house)\n",
    "    plt.subplots_adjust(wspace=0.65, hspace=0.65)\n",
    "    \n"
   ]
  },
  {
   "cell_type": "markdown",
   "metadata": {
    "ExecuteTime": {
     "end_time": "2020-03-26T16:51:38.588754Z",
     "start_time": "2020-03-26T16:51:38.582784Z"
    }
   },
   "source": [
    "## Initial observations"
   ]
  },
  {
   "cell_type": "markdown",
   "metadata": {},
   "source": [
    "- From the scatterplot is easy to see that some of the variables show some sort of correlation upon the price:\n",
    "-sqft_living\n",
    "-sqft_lot\n",
    "-bedrooms\n",
    "-bathrooms\n",
    "-floors\n",
    "-grade.\n",
    "In order to understand if this correlation is concrete is necessary to continue with the analysis.\n"
   ]
  },
  {
   "cell_type": "markdown",
   "metadata": {},
   "source": [
    "# Fitting the initial Model"
   ]
  },
  {
   "cell_type": "markdown",
   "metadata": {
    "ExecuteTime": {
     "end_time": "2020-03-26T17:19:12.843561Z",
     "start_time": "2020-03-26T17:19:12.837812Z"
    }
   },
   "source": [
    "In order to get a good sense on how well the model that I'm bulding will work I'm going to use the \" train-test-split\""
   ]
  },
  {
   "cell_type": "code",
   "execution_count": 124,
   "metadata": {
    "ExecuteTime": {
     "end_time": "2020-03-26T17:21:20.257818Z",
     "start_time": "2020-03-26T17:21:20.253039Z"
    }
   },
   "outputs": [],
   "source": [
    "y = kc_house.price.values\n",
    "X = kc_house.drop(\"price\", axis=1)"
   ]
  },
  {
   "cell_type": "code",
   "execution_count": 125,
   "metadata": {
    "ExecuteTime": {
     "end_time": "2020-03-26T17:21:20.774086Z",
     "start_time": "2020-03-26T17:21:20.765369Z"
    }
   },
   "outputs": [],
   "source": [
    "X_train, X_test, y_train, y_test = train_test_split(X,y,test_size=.2, random_state=42)"
   ]
  },
  {
   "cell_type": "code",
   "execution_count": 126,
   "metadata": {
    "ExecuteTime": {
     "end_time": "2020-03-26T17:21:23.509722Z",
     "start_time": "2020-03-26T17:21:23.455995Z"
    },
    "scrolled": false
   },
   "outputs": [
    {
     "data": {
      "text/html": [
       "<table class=\"simpletable\">\n",
       "<caption>OLS Regression Results</caption>\n",
       "<tr>\n",
       "  <th>Dep. Variable:</th>            <td>y</td>        <th>  R-squared:         </th>  <td>   0.653</td>  \n",
       "</tr>\n",
       "<tr>\n",
       "  <th>Model:</th>                   <td>OLS</td>       <th>  Adj. R-squared:    </th>  <td>   0.653</td>  \n",
       "</tr>\n",
       "<tr>\n",
       "  <th>Method:</th>             <td>Least Squares</td>  <th>  F-statistic:       </th>  <td>   2891.</td>  \n",
       "</tr>\n",
       "<tr>\n",
       "  <th>Date:</th>             <td>Thu, 26 Mar 2020</td> <th>  Prob (F-statistic):</th>   <td>  0.00</td>   \n",
       "</tr>\n",
       "<tr>\n",
       "  <th>Time:</th>                 <td>17:21:23</td>     <th>  Log-Likelihood:    </th> <td>-2.1092e+05</td>\n",
       "</tr>\n",
       "<tr>\n",
       "  <th>No. Observations:</th>      <td> 15376</td>      <th>  AIC:               </th>  <td>4.219e+05</td> \n",
       "</tr>\n",
       "<tr>\n",
       "  <th>Df Residuals:</th>          <td> 15365</td>      <th>  BIC:               </th>  <td>4.220e+05</td> \n",
       "</tr>\n",
       "<tr>\n",
       "  <th>Df Model:</th>              <td>    10</td>      <th>                     </th>      <td> </td>     \n",
       "</tr>\n",
       "<tr>\n",
       "  <th>Covariance Type:</th>      <td>nonrobust</td>    <th>                     </th>      <td> </td>     \n",
       "</tr>\n",
       "</table>\n",
       "<table class=\"simpletable\">\n",
       "<tr>\n",
       "       <td></td>          <th>coef</th>     <th>std err</th>      <th>t</th>      <th>P>|t|</th>  <th>[0.025</th>    <th>0.975]</th>  \n",
       "</tr>\n",
       "<tr>\n",
       "  <th>const</th>       <td> 6.588e+06</td> <td> 1.55e+05</td> <td>   42.485</td> <td> 0.000</td> <td> 6.28e+06</td> <td> 6.89e+06</td>\n",
       "</tr>\n",
       "<tr>\n",
       "  <th>id</th>          <td>-8.343e-07</td> <td> 6.21e-07</td> <td>   -1.343</td> <td> 0.179</td> <td>-2.05e-06</td> <td> 3.83e-07</td>\n",
       "</tr>\n",
       "<tr>\n",
       "  <th>bedrooms</th>    <td> -4.57e+04</td> <td> 2537.317</td> <td>  -18.011</td> <td> 0.000</td> <td>-5.07e+04</td> <td>-4.07e+04</td>\n",
       "</tr>\n",
       "<tr>\n",
       "  <th>bathrooms</th>   <td>  4.93e+04</td> <td> 4133.449</td> <td>   11.928</td> <td> 0.000</td> <td> 4.12e+04</td> <td> 5.74e+04</td>\n",
       "</tr>\n",
       "<tr>\n",
       "  <th>sqft_living</th> <td>  182.2361</td> <td>    3.913</td> <td>   46.577</td> <td> 0.000</td> <td>  174.567</td> <td>  189.905</td>\n",
       "</tr>\n",
       "<tr>\n",
       "  <th>sqft_lot</th>    <td>   -0.2650</td> <td>    0.043</td> <td>   -6.122</td> <td> 0.000</td> <td>   -0.350</td> <td>   -0.180</td>\n",
       "</tr>\n",
       "<tr>\n",
       "  <th>floors</th>      <td> 2.179e+04</td> <td> 4119.369</td> <td>    5.290</td> <td> 0.000</td> <td> 1.37e+04</td> <td> 2.99e+04</td>\n",
       "</tr>\n",
       "<tr>\n",
       "  <th>waterfront</th>  <td> 8.285e+05</td> <td> 2.09e+04</td> <td>   39.609</td> <td> 0.000</td> <td> 7.88e+05</td> <td>  8.7e+05</td>\n",
       "</tr>\n",
       "<tr>\n",
       "  <th>condition</th>   <td> 1.871e+04</td> <td> 2960.239</td> <td>    6.320</td> <td> 0.000</td> <td> 1.29e+04</td> <td> 2.45e+04</td>\n",
       "</tr>\n",
       "<tr>\n",
       "  <th>grade</th>       <td> 1.273e+05</td> <td> 2559.968</td> <td>   49.726</td> <td> 0.000</td> <td> 1.22e+05</td> <td> 1.32e+05</td>\n",
       "</tr>\n",
       "<tr>\n",
       "  <th>yr_built</th>    <td>-3777.6405</td> <td>   79.675</td> <td>  -47.413</td> <td> 0.000</td> <td>-3933.813</td> <td>-3621.468</td>\n",
       "</tr>\n",
       "</table>\n",
       "<table class=\"simpletable\">\n",
       "<tr>\n",
       "  <th>Omnibus:</th>       <td>11002.095</td> <th>  Durbin-Watson:     </th>  <td>   2.000</td> \n",
       "</tr>\n",
       "<tr>\n",
       "  <th>Prob(Omnibus):</th>  <td> 0.000</td>   <th>  Jarque-Bera (JB):  </th> <td>631917.849</td>\n",
       "</tr>\n",
       "<tr>\n",
       "  <th>Skew:</th>           <td> 2.850</td>   <th>  Prob(JB):          </th>  <td>    0.00</td> \n",
       "</tr>\n",
       "<tr>\n",
       "  <th>Kurtosis:</th>       <td>33.885</td>   <th>  Cond. No.          </th>  <td>4.75e+11</td> \n",
       "</tr>\n",
       "</table><br/><br/>Warnings:<br/>[1] Standard Errors assume that the covariance matrix of the errors is correctly specified.<br/>[2] The condition number is large, 4.75e+11. This might indicate that there are<br/>strong multicollinearity or other numerical problems."
      ],
      "text/plain": [
       "<class 'statsmodels.iolib.summary.Summary'>\n",
       "\"\"\"\n",
       "                            OLS Regression Results                            \n",
       "==============================================================================\n",
       "Dep. Variable:                      y   R-squared:                       0.653\n",
       "Model:                            OLS   Adj. R-squared:                  0.653\n",
       "Method:                 Least Squares   F-statistic:                     2891.\n",
       "Date:                Thu, 26 Mar 2020   Prob (F-statistic):               0.00\n",
       "Time:                        17:21:23   Log-Likelihood:            -2.1092e+05\n",
       "No. Observations:               15376   AIC:                         4.219e+05\n",
       "Df Residuals:                   15365   BIC:                         4.220e+05\n",
       "Df Model:                          10                                         \n",
       "Covariance Type:            nonrobust                                         \n",
       "===============================================================================\n",
       "                  coef    std err          t      P>|t|      [0.025      0.975]\n",
       "-------------------------------------------------------------------------------\n",
       "const        6.588e+06   1.55e+05     42.485      0.000    6.28e+06    6.89e+06\n",
       "id          -8.343e-07   6.21e-07     -1.343      0.179   -2.05e-06    3.83e-07\n",
       "bedrooms     -4.57e+04   2537.317    -18.011      0.000   -5.07e+04   -4.07e+04\n",
       "bathrooms     4.93e+04   4133.449     11.928      0.000    4.12e+04    5.74e+04\n",
       "sqft_living   182.2361      3.913     46.577      0.000     174.567     189.905\n",
       "sqft_lot       -0.2650      0.043     -6.122      0.000      -0.350      -0.180\n",
       "floors       2.179e+04   4119.369      5.290      0.000    1.37e+04    2.99e+04\n",
       "waterfront   8.285e+05   2.09e+04     39.609      0.000    7.88e+05     8.7e+05\n",
       "condition    1.871e+04   2960.239      6.320      0.000    1.29e+04    2.45e+04\n",
       "grade        1.273e+05   2559.968     49.726      0.000    1.22e+05    1.32e+05\n",
       "yr_built    -3777.6405     79.675    -47.413      0.000   -3933.813   -3621.468\n",
       "==============================================================================\n",
       "Omnibus:                    11002.095   Durbin-Watson:                   2.000\n",
       "Prob(Omnibus):                  0.000   Jarque-Bera (JB):           631917.849\n",
       "Skew:                           2.850   Prob(JB):                         0.00\n",
       "Kurtosis:                      33.885   Cond. No.                     4.75e+11\n",
       "==============================================================================\n",
       "\n",
       "Warnings:\n",
       "[1] Standard Errors assume that the covariance matrix of the errors is correctly specified.\n",
       "[2] The condition number is large, 4.75e+11. This might indicate that there are\n",
       "strong multicollinearity or other numerical problems.\n",
       "\"\"\""
      ]
     },
     "execution_count": 126,
     "metadata": {},
     "output_type": "execute_result"
    }
   ],
   "source": [
    "X_cte = sm.add_constant(X_train)\n",
    "model = sm.OLS(y_train, X_cte)\n",
    "\n",
    "results = model.fit()\n",
    "\n",
    "results.summary()\n"
   ]
  },
  {
   "cell_type": "code",
   "execution_count": 127,
   "metadata": {
    "ExecuteTime": {
     "end_time": "2020-03-26T17:21:31.432378Z",
     "start_time": "2020-03-26T17:21:31.418105Z"
    }
   },
   "outputs": [
    {
     "data": {
      "text/plain": [
       "0.637797170883557"
      ]
     },
     "execution_count": 127,
     "metadata": {},
     "output_type": "execute_result"
    }
   ],
   "source": [
    "lin_reg = LinearRegression(fit_intercept=True)\n",
    "lin_reg.fit(X_train,y_train)\n",
    "lin_reg.score(X_test,y_test)"
   ]
  },
  {
   "cell_type": "markdown",
   "metadata": {
    "ExecuteTime": {
     "end_time": "2020-03-26T17:21:32.223509Z",
     "start_time": "2020-03-26T17:21:32.220516Z"
    }
   },
   "source": [
    "From the train-test-split I can see that: "
   ]
  },
  {
   "cell_type": "markdown",
   "metadata": {},
   "source": [
    "- with the train data I get an R2 = 0.651. \n"
   ]
  },
  {
   "cell_type": "markdown",
   "metadata": {},
   "source": [
    "- with the test data I get an R2 = 0.639"
   ]
  },
  {
   "cell_type": "markdown",
   "metadata": {},
   "source": [
    "The R2 for the test is little bit lower but not too much so I can say that the model is not overfitting"
   ]
  },
  {
   "cell_type": "markdown",
   "metadata": {
    "ExecuteTime": {
     "end_time": "2020-03-26T17:32:08.186657Z",
     "start_time": "2020-03-26T17:32:08.181736Z"
    }
   },
   "source": [
    "## Let's check the correlation between the variables to get an overview about their relationship"
   ]
  },
  {
   "cell_type": "code",
   "execution_count": 36,
   "metadata": {
    "ExecuteTime": {
     "end_time": "2020-03-26T16:11:46.486274Z",
     "start_time": "2020-03-26T16:11:46.428630Z"
    },
    "scrolled": false
   },
   "outputs": [
    {
     "data": {
      "text/html": [
       "<div>\n",
       "<style scoped>\n",
       "    .dataframe tbody tr th:only-of-type {\n",
       "        vertical-align: middle;\n",
       "    }\n",
       "\n",
       "    .dataframe tbody tr th {\n",
       "        vertical-align: top;\n",
       "    }\n",
       "\n",
       "    .dataframe thead th {\n",
       "        text-align: right;\n",
       "    }\n",
       "</style>\n",
       "<table border=\"1\" class=\"dataframe\">\n",
       "  <thead>\n",
       "    <tr style=\"text-align: right;\">\n",
       "      <th></th>\n",
       "      <th>id</th>\n",
       "      <th>price</th>\n",
       "      <th>bedrooms</th>\n",
       "      <th>bathrooms</th>\n",
       "      <th>sqft_living</th>\n",
       "      <th>sqft_lot</th>\n",
       "      <th>floors</th>\n",
       "      <th>waterfront</th>\n",
       "      <th>condition</th>\n",
       "      <th>grade</th>\n",
       "      <th>yr_built</th>\n",
       "    </tr>\n",
       "  </thead>\n",
       "  <tbody>\n",
       "    <tr>\n",
       "      <th>id</th>\n",
       "      <td>1.000000</td>\n",
       "      <td>-0.019099</td>\n",
       "      <td>0.005307</td>\n",
       "      <td>0.007275</td>\n",
       "      <td>-0.012163</td>\n",
       "      <td>-0.133216</td>\n",
       "      <td>0.018233</td>\n",
       "      <td>-0.003640</td>\n",
       "      <td>-0.022161</td>\n",
       "      <td>0.007510</td>\n",
       "      <td>0.023290</td>\n",
       "    </tr>\n",
       "    <tr>\n",
       "      <th>price</th>\n",
       "      <td>-0.019099</td>\n",
       "      <td>1.000000</td>\n",
       "      <td>0.316964</td>\n",
       "      <td>0.520263</td>\n",
       "      <td>0.699469</td>\n",
       "      <td>0.085693</td>\n",
       "      <td>0.260994</td>\n",
       "      <td>0.277633</td>\n",
       "      <td>0.039762</td>\n",
       "      <td>0.670370</td>\n",
       "      <td>0.054986</td>\n",
       "    </tr>\n",
       "    <tr>\n",
       "      <th>bedrooms</th>\n",
       "      <td>0.005307</td>\n",
       "      <td>0.316964</td>\n",
       "      <td>1.000000</td>\n",
       "      <td>0.528407</td>\n",
       "      <td>0.595510</td>\n",
       "      <td>0.028659</td>\n",
       "      <td>0.187893</td>\n",
       "      <td>-0.003278</td>\n",
       "      <td>0.022306</td>\n",
       "      <td>0.369080</td>\n",
       "      <td>0.163304</td>\n",
       "    </tr>\n",
       "    <tr>\n",
       "      <th>bathrooms</th>\n",
       "      <td>0.007275</td>\n",
       "      <td>0.520263</td>\n",
       "      <td>0.528407</td>\n",
       "      <td>1.000000</td>\n",
       "      <td>0.751921</td>\n",
       "      <td>0.081578</td>\n",
       "      <td>0.508158</td>\n",
       "      <td>0.064802</td>\n",
       "      <td>-0.126368</td>\n",
       "      <td>0.665580</td>\n",
       "      <td>0.511446</td>\n",
       "    </tr>\n",
       "    <tr>\n",
       "      <th>sqft_living</th>\n",
       "      <td>-0.012163</td>\n",
       "      <td>0.699469</td>\n",
       "      <td>0.595510</td>\n",
       "      <td>0.751921</td>\n",
       "      <td>1.000000</td>\n",
       "      <td>0.169693</td>\n",
       "      <td>0.358521</td>\n",
       "      <td>0.107599</td>\n",
       "      <td>-0.056937</td>\n",
       "      <td>0.764839</td>\n",
       "      <td>0.321715</td>\n",
       "    </tr>\n",
       "    <tr>\n",
       "      <th>sqft_lot</th>\n",
       "      <td>-0.133216</td>\n",
       "      <td>0.085693</td>\n",
       "      <td>0.028659</td>\n",
       "      <td>0.081578</td>\n",
       "      <td>0.169693</td>\n",
       "      <td>1.000000</td>\n",
       "      <td>-0.008590</td>\n",
       "      <td>0.023345</td>\n",
       "      <td>-0.013727</td>\n",
       "      <td>0.112616</td>\n",
       "      <td>0.055466</td>\n",
       "    </tr>\n",
       "    <tr>\n",
       "      <th>floors</th>\n",
       "      <td>0.018233</td>\n",
       "      <td>0.260994</td>\n",
       "      <td>0.187893</td>\n",
       "      <td>0.508158</td>\n",
       "      <td>0.358521</td>\n",
       "      <td>-0.008590</td>\n",
       "      <td>1.000000</td>\n",
       "      <td>0.022558</td>\n",
       "      <td>-0.263410</td>\n",
       "      <td>0.458062</td>\n",
       "      <td>0.490503</td>\n",
       "    </tr>\n",
       "    <tr>\n",
       "      <th>waterfront</th>\n",
       "      <td>-0.003640</td>\n",
       "      <td>0.277633</td>\n",
       "      <td>-0.003278</td>\n",
       "      <td>0.064802</td>\n",
       "      <td>0.107599</td>\n",
       "      <td>0.023345</td>\n",
       "      <td>0.022558</td>\n",
       "      <td>1.000000</td>\n",
       "      <td>0.018078</td>\n",
       "      <td>0.085863</td>\n",
       "      <td>-0.026412</td>\n",
       "    </tr>\n",
       "    <tr>\n",
       "      <th>condition</th>\n",
       "      <td>-0.022161</td>\n",
       "      <td>0.039762</td>\n",
       "      <td>0.022306</td>\n",
       "      <td>-0.126368</td>\n",
       "      <td>-0.056937</td>\n",
       "      <td>-0.013727</td>\n",
       "      <td>-0.263410</td>\n",
       "      <td>0.018078</td>\n",
       "      <td>1.000000</td>\n",
       "      <td>-0.144313</td>\n",
       "      <td>-0.361824</td>\n",
       "    </tr>\n",
       "    <tr>\n",
       "      <th>grade</th>\n",
       "      <td>0.007510</td>\n",
       "      <td>0.670370</td>\n",
       "      <td>0.369080</td>\n",
       "      <td>0.665580</td>\n",
       "      <td>0.764839</td>\n",
       "      <td>0.112616</td>\n",
       "      <td>0.458062</td>\n",
       "      <td>0.085863</td>\n",
       "      <td>-0.144313</td>\n",
       "      <td>1.000000</td>\n",
       "      <td>0.447544</td>\n",
       "    </tr>\n",
       "    <tr>\n",
       "      <th>yr_built</th>\n",
       "      <td>0.023290</td>\n",
       "      <td>0.054986</td>\n",
       "      <td>0.163304</td>\n",
       "      <td>0.511446</td>\n",
       "      <td>0.321715</td>\n",
       "      <td>0.055466</td>\n",
       "      <td>0.490503</td>\n",
       "      <td>-0.026412</td>\n",
       "      <td>-0.361824</td>\n",
       "      <td>0.447544</td>\n",
       "      <td>1.000000</td>\n",
       "    </tr>\n",
       "  </tbody>\n",
       "</table>\n",
       "</div>"
      ],
      "text/plain": [
       "                   id     price  bedrooms  bathrooms  sqft_living  sqft_lot  \\\n",
       "id           1.000000 -0.019099  0.005307   0.007275    -0.012163 -0.133216   \n",
       "price       -0.019099  1.000000  0.316964   0.520263     0.699469  0.085693   \n",
       "bedrooms     0.005307  0.316964  1.000000   0.528407     0.595510  0.028659   \n",
       "bathrooms    0.007275  0.520263  0.528407   1.000000     0.751921  0.081578   \n",
       "sqft_living -0.012163  0.699469  0.595510   0.751921     1.000000  0.169693   \n",
       "sqft_lot    -0.133216  0.085693  0.028659   0.081578     0.169693  1.000000   \n",
       "floors       0.018233  0.260994  0.187893   0.508158     0.358521 -0.008590   \n",
       "waterfront  -0.003640  0.277633 -0.003278   0.064802     0.107599  0.023345   \n",
       "condition   -0.022161  0.039762  0.022306  -0.126368    -0.056937 -0.013727   \n",
       "grade        0.007510  0.670370  0.369080   0.665580     0.764839  0.112616   \n",
       "yr_built     0.023290  0.054986  0.163304   0.511446     0.321715  0.055466   \n",
       "\n",
       "               floors  waterfront  condition     grade  yr_built  \n",
       "id           0.018233   -0.003640  -0.022161  0.007510  0.023290  \n",
       "price        0.260994    0.277633   0.039762  0.670370  0.054986  \n",
       "bedrooms     0.187893   -0.003278   0.022306  0.369080  0.163304  \n",
       "bathrooms    0.508158    0.064802  -0.126368  0.665580  0.511446  \n",
       "sqft_living  0.358521    0.107599  -0.056937  0.764839  0.321715  \n",
       "sqft_lot    -0.008590    0.023345  -0.013727  0.112616  0.055466  \n",
       "floors       1.000000    0.022558  -0.263410  0.458062  0.490503  \n",
       "waterfront   0.022558    1.000000   0.018078  0.085863 -0.026412  \n",
       "condition   -0.263410    0.018078   1.000000 -0.144313 -0.361824  \n",
       "grade        0.458062    0.085863  -0.144313  1.000000  0.447544  \n",
       "yr_built     0.490503   -0.026412  -0.361824  0.447544  1.000000  "
      ]
     },
     "execution_count": 36,
     "metadata": {},
     "output_type": "execute_result"
    }
   ],
   "source": [
    "corr= kc_house.corr()\n",
    "corr"
   ]
  },
  {
   "cell_type": "code",
   "execution_count": 38,
   "metadata": {
    "ExecuteTime": {
     "end_time": "2020-03-26T16:11:47.223173Z",
     "start_time": "2020-03-26T16:11:46.499329Z"
    }
   },
   "outputs": [
    {
     "data": {
      "image/png": "[encoded data removed]",
      "text/plain": [
       "<Figure size 720x720 with 2 Axes>"
      ]
     },
     "metadata": {
      "needs_background": "light"
     },
     "output_type": "display_data"
    }
   ],
   "source": [
    "f, ax = plt.subplots(figsize=(10, 10))\n",
    "sns.heatmap(data = corr, annot = True, annot_kws = {\"size\": 10}, linewidth = 7, cmap=\"YlGnBu\")\n",
    "plt.show()"
   ]
  },
  {
   "cell_type": "markdown",
   "metadata": {
    "ExecuteTime": {
     "end_time": "2020-03-26T16:11:47.233071Z",
     "start_time": "2020-03-26T16:11:47.228292Z"
    }
   },
   "source": [
    "From the heatmap above I can see that this are the features with the highest correlation : grade, waterfront, floors,sqft_living,bathrooms, bedrooms"
   ]
  },
  {
   "cell_type": "markdown",
   "metadata": {},
   "source": [
    "By checking the correlation matrix I see that the sqfliving has a strong collinearity with bedrooms, bathrooms \n",
    "and grade"
   ]
  },
  {
   "cell_type": "markdown",
   "metadata": {
    "ExecuteTime": {
     "end_time": "2020-03-26T16:11:47.242338Z",
     "start_time": "2020-03-26T16:11:47.237154Z"
    }
   },
   "source": [
    "I can seen aswell some multicollinearity(0,67) between grade and bathrooms"
   ]
  },
  {
   "cell_type": "markdown",
   "metadata": {
    "ExecuteTime": {
     "end_time": "2020-03-26T17:39:21.184830Z",
     "start_time": "2020-03-26T17:39:21.180300Z"
    }
   },
   "source": [
    "## Due to this multicoliniarity i' m not going to include the variable sqft_living in my next model"
   ]
  },
  {
   "cell_type": "code",
   "execution_count": 134,
   "metadata": {
    "ExecuteTime": {
     "end_time": "2020-03-26T17:40:34.922771Z",
     "start_time": "2020-03-26T17:40:34.917598Z"
    }
   },
   "outputs": [],
   "source": [
    "X_train2 = X_train.drop([\"sqft_living\"], axis=1)\n"
   ]
  },
  {
   "cell_type": "code",
   "execution_count": 135,
   "metadata": {
    "ExecuteTime": {
     "end_time": "2020-03-26T17:40:35.261501Z",
     "start_time": "2020-03-26T17:40:35.219721Z"
    },
    "scrolled": true
   },
   "outputs": [
    {
     "data": {
      "text/html": [
       "<table class=\"simpletable\">\n",
       "<caption>OLS Regression Results</caption>\n",
       "<tr>\n",
       "  <th>Dep. Variable:</th>            <td>y</td>        <th>  R-squared:         </th>  <td>   0.604</td>  \n",
       "</tr>\n",
       "<tr>\n",
       "  <th>Model:</th>                   <td>OLS</td>       <th>  Adj. R-squared:    </th>  <td>   0.604</td>  \n",
       "</tr>\n",
       "<tr>\n",
       "  <th>Method:</th>             <td>Least Squares</td>  <th>  F-statistic:       </th>  <td>   2603.</td>  \n",
       "</tr>\n",
       "<tr>\n",
       "  <th>Date:</th>             <td>Thu, 26 Mar 2020</td> <th>  Prob (F-statistic):</th>   <td>  0.00</td>   \n",
       "</tr>\n",
       "<tr>\n",
       "  <th>Time:</th>                 <td>17:40:35</td>     <th>  Log-Likelihood:    </th> <td>-2.1194e+05</td>\n",
       "</tr>\n",
       "<tr>\n",
       "  <th>No. Observations:</th>      <td> 15376</td>      <th>  AIC:               </th>  <td>4.239e+05</td> \n",
       "</tr>\n",
       "<tr>\n",
       "  <th>Df Residuals:</th>          <td> 15366</td>      <th>  BIC:               </th>  <td>4.240e+05</td> \n",
       "</tr>\n",
       "<tr>\n",
       "  <th>Df Model:</th>              <td>     9</td>      <th>                     </th>      <td> </td>     \n",
       "</tr>\n",
       "<tr>\n",
       "  <th>Covariance Type:</th>      <td>nonrobust</td>    <th>                     </th>      <td> </td>     \n",
       "</tr>\n",
       "</table>\n",
       "<table class=\"simpletable\">\n",
       "<tr>\n",
       "       <td></td>         <th>coef</th>     <th>std err</th>      <th>t</th>      <th>P>|t|</th>  <th>[0.025</th>    <th>0.975]</th>  \n",
       "</tr>\n",
       "<tr>\n",
       "  <th>const</th>      <td>   7.3e+06</td> <td> 1.65e+05</td> <td>   44.290</td> <td> 0.000</td> <td> 6.98e+06</td> <td> 7.62e+06</td>\n",
       "</tr>\n",
       "<tr>\n",
       "  <th>id</th>         <td>-1.059e-06</td> <td> 6.64e-07</td> <td>   -1.596</td> <td> 0.111</td> <td>-2.36e-06</td> <td> 2.42e-07</td>\n",
       "</tr>\n",
       "<tr>\n",
       "  <th>bedrooms</th>   <td>-1483.7095</td> <td> 2513.604</td> <td>   -0.590</td> <td> 0.555</td> <td>-6410.670</td> <td> 3443.251</td>\n",
       "</tr>\n",
       "<tr>\n",
       "  <th>bathrooms</th>  <td> 1.315e+05</td> <td> 3993.200</td> <td>   32.922</td> <td> 0.000</td> <td> 1.24e+05</td> <td> 1.39e+05</td>\n",
       "</tr>\n",
       "<tr>\n",
       "  <th>sqft_lot</th>   <td>    0.0682</td> <td>    0.046</td> <td>    1.496</td> <td> 0.135</td> <td>   -0.021</td> <td>    0.158</td>\n",
       "</tr>\n",
       "<tr>\n",
       "  <th>floors</th>     <td> 7730.4589</td> <td> 4388.608</td> <td>    1.761</td> <td> 0.078</td> <td> -871.733</td> <td> 1.63e+04</td>\n",
       "</tr>\n",
       "<tr>\n",
       "  <th>waterfront</th> <td> 9.043e+05</td> <td> 2.23e+04</td> <td>   40.594</td> <td> 0.000</td> <td> 8.61e+05</td> <td> 9.48e+05</td>\n",
       "</tr>\n",
       "<tr>\n",
       "  <th>condition</th>  <td> 2.036e+04</td> <td> 3161.996</td> <td>    6.438</td> <td> 0.000</td> <td> 1.42e+04</td> <td> 2.66e+04</td>\n",
       "</tr>\n",
       "<tr>\n",
       "  <th>grade</th>      <td> 1.963e+05</td> <td> 2230.268</td> <td>   88.014</td> <td> 0.000</td> <td> 1.92e+05</td> <td> 2.01e+05</td>\n",
       "</tr>\n",
       "<tr>\n",
       "  <th>yr_built</th>   <td>-4373.1041</td> <td>   84.009</td> <td>  -52.055</td> <td> 0.000</td> <td>-4537.771</td> <td>-4208.437</td>\n",
       "</tr>\n",
       "</table>\n",
       "<table class=\"simpletable\">\n",
       "<tr>\n",
       "  <th>Omnibus:</th>       <td>12648.550</td> <th>  Durbin-Watson:     </th>  <td>   2.000</td>  \n",
       "</tr>\n",
       "<tr>\n",
       "  <th>Prob(Omnibus):</th>  <td> 0.000</td>   <th>  Jarque-Bera (JB):  </th> <td>1062057.455</td>\n",
       "</tr>\n",
       "<tr>\n",
       "  <th>Skew:</th>           <td> 3.431</td>   <th>  Prob(JB):          </th>  <td>    0.00</td>  \n",
       "</tr>\n",
       "<tr>\n",
       "  <th>Kurtosis:</th>       <td>43.133</td>   <th>  Cond. No.          </th>  <td>4.73e+11</td>  \n",
       "</tr>\n",
       "</table><br/><br/>Warnings:<br/>[1] Standard Errors assume that the covariance matrix of the errors is correctly specified.<br/>[2] The condition number is large, 4.73e+11. This might indicate that there are<br/>strong multicollinearity or other numerical problems."
      ],
      "text/plain": [
       "<class 'statsmodels.iolib.summary.Summary'>\n",
       "\"\"\"\n",
       "                            OLS Regression Results                            \n",
       "==============================================================================\n",
       "Dep. Variable:                      y   R-squared:                       0.604\n",
       "Model:                            OLS   Adj. R-squared:                  0.604\n",
       "Method:                 Least Squares   F-statistic:                     2603.\n",
       "Date:                Thu, 26 Mar 2020   Prob (F-statistic):               0.00\n",
       "Time:                        17:40:35   Log-Likelihood:            -2.1194e+05\n",
       "No. Observations:               15376   AIC:                         4.239e+05\n",
       "Df Residuals:                   15366   BIC:                         4.240e+05\n",
       "Df Model:                           9                                         \n",
       "Covariance Type:            nonrobust                                         \n",
       "==============================================================================\n",
       "                 coef    std err          t      P>|t|      [0.025      0.975]\n",
       "------------------------------------------------------------------------------\n",
       "const         7.3e+06   1.65e+05     44.290      0.000    6.98e+06    7.62e+06\n",
       "id         -1.059e-06   6.64e-07     -1.596      0.111   -2.36e-06    2.42e-07\n",
       "bedrooms   -1483.7095   2513.604     -0.590      0.555   -6410.670    3443.251\n",
       "bathrooms   1.315e+05   3993.200     32.922      0.000    1.24e+05    1.39e+05\n",
       "sqft_lot       0.0682      0.046      1.496      0.135      -0.021       0.158\n",
       "floors      7730.4589   4388.608      1.761      0.078    -871.733    1.63e+04\n",
       "waterfront  9.043e+05   2.23e+04     40.594      0.000    8.61e+05    9.48e+05\n",
       "condition   2.036e+04   3161.996      6.438      0.000    1.42e+04    2.66e+04\n",
       "grade       1.963e+05   2230.268     88.014      0.000    1.92e+05    2.01e+05\n",
       "yr_built   -4373.1041     84.009    -52.055      0.000   -4537.771   -4208.437\n",
       "==============================================================================\n",
       "Omnibus:                    12648.550   Durbin-Watson:                   2.000\n",
       "Prob(Omnibus):                  0.000   Jarque-Bera (JB):          1062057.455\n",
       "Skew:                           3.431   Prob(JB):                         0.00\n",
       "Kurtosis:                      43.133   Cond. No.                     4.73e+11\n",
       "==============================================================================\n",
       "\n",
       "Warnings:\n",
       "[1] Standard Errors assume that the covariance matrix of the errors is correctly specified.\n",
       "[2] The condition number is large, 4.73e+11. This might indicate that there are\n",
       "strong multicollinearity or other numerical problems.\n",
       "\"\"\""
      ]
     },
     "execution_count": 135,
     "metadata": {},
     "output_type": "execute_result"
    }
   ],
   "source": [
    "X_cte2 = sm.add_constant(X_train2)\n",
    "model2 = sm.OLS(y_train, X_cte2)\n",
    "\n",
    "results2 = model2.fit()\n",
    "\n",
    "results2.summary()"
   ]
  },
  {
   "cell_type": "code",
   "execution_count": 136,
   "metadata": {
    "ExecuteTime": {
     "end_time": "2020-03-26T17:40:38.046937Z",
     "start_time": "2020-03-26T17:40:38.042644Z"
    }
   },
   "outputs": [],
   "source": [
    "X_test2 = X_test.drop([\"sqft_living\"], axis=1)"
   ]
  },
  {
   "cell_type": "code",
   "execution_count": 137,
   "metadata": {
    "ExecuteTime": {
     "end_time": "2020-03-26T17:40:38.824311Z",
     "start_time": "2020-03-26T17:40:38.806194Z"
    }
   },
   "outputs": [
    {
     "data": {
      "text/plain": [
       "0.5851972870092542"
      ]
     },
     "execution_count": 137,
     "metadata": {},
     "output_type": "execute_result"
    }
   ],
   "source": [
    "lin_reg2 = LinearRegression(fit_intercept=True)\n",
    "lin_reg2.fit(X_train2,y_train)\n",
    "lin_reg2.score(X_test2,y_test)"
   ]
  },
  {
   "cell_type": "markdown",
   "metadata": {},
   "source": [
    "From the train-test-split I can see that:"
   ]
  },
  {
   "cell_type": "markdown",
   "metadata": {
    "ExecuteTime": {
     "end_time": "2020-03-26T16:11:47.387481Z",
     "start_time": "2020-03-26T16:11:47.381418Z"
    }
   },
   "source": [
    "the model is not overfitting becouse the R2 train and the R2 test are similar "
   ]
  },
  {
   "cell_type": "markdown",
   "metadata": {},
   "source": [
    "## Check for the Normality Assumption"
   ]
  },
  {
   "cell_type": "code",
   "execution_count": 95,
   "metadata": {
    "ExecuteTime": {
     "end_time": "2020-03-26T16:24:57.170395Z",
     "start_time": "2020-03-26T16:24:56.904418Z"
    }
   },
   "outputs": [
    {
     "data": {
      "image/png": "[encoded data removed]",
      "text/plain": [
       "<Figure size 432x288 with 1 Axes>"
      ]
     },
     "metadata": {
      "needs_background": "light"
     },
     "output_type": "display_data"
    }
   ],
   "source": [
    "fig = sm.graphics.qqplot(results2.resid, dist=stats.norm, line='45', fit=True)"
   ]
  },
  {
   "cell_type": "markdown",
   "metadata": {},
   "source": [
    "In the above Q-Q plot I can see that the assumption of normality is not accomplished becouse as is clearly shown in the plot, the residuals aren't normally distributed "
   ]
  },
  {
   "cell_type": "markdown",
   "metadata": {},
   "source": [
    "This means that the model mast be improved "
   ]
  },
  {
   "cell_type": "markdown",
   "metadata": {},
   "source": [
    "## Check the Homoscedasticity Assumption"
   ]
  },
  {
   "cell_type": "code",
   "execution_count": 138,
   "metadata": {
    "ExecuteTime": {
     "end_time": "2020-03-26T20:02:26.358597Z",
     "start_time": "2020-03-26T20:02:25.938689Z"
    },
    "scrolled": true
   },
   "outputs": [
    {
     "data": {
      "text/plain": [
       "[<matplotlib.lines.Line2D at 0x1c23332c18>]"
      ]
     },
     "execution_count": 138,
     "metadata": {},
     "output_type": "execute_result"
    },
    {
     "data": {
      "image/png": "[encoded data removed]",
      "text/plain": [
       "<Figure size 432x288 with 1 Axes>"
      ]
     },
     "metadata": {
      "needs_background": "light"
     },
     "output_type": "display_data"
    }
   ],
   "source": [
    "plt.scatter(results2.predict(X_cte2), results2.resid)\n",
    "plt.plot(results2.predict(X_cte2), [0 for i in range(len(X_cte2))])"
   ]
  },
  {
   "cell_type": "markdown",
   "metadata": {},
   "source": [
    "From the graph above seems that the assumption of Homoscedasticity is not fulfilled becouse of the funnel shape"
   ]
  },
  {
   "cell_type": "markdown",
   "metadata": {
    "ExecuteTime": {
     "end_time": "2020-03-26T16:26:28.260986Z",
     "start_time": "2020-03-26T16:26:28.257961Z"
    }
   },
   "source": [
    "## Becouse of multicollinearity I'm going to try to drop grade and sqft_living in my next model"
   ]
  },
  {
   "cell_type": "code",
   "execution_count": 97,
   "metadata": {
    "ExecuteTime": {
     "end_time": "2020-03-26T16:26:14.047775Z",
     "start_time": "2020-03-26T16:26:14.039937Z"
    }
   },
   "outputs": [],
   "source": [
    "X_train3 = X_train.drop([\"grade\",\"sqft_living\"], axis=1)"
   ]
  },
  {
   "cell_type": "code",
   "execution_count": 98,
   "metadata": {
    "ExecuteTime": {
     "end_time": "2020-03-26T16:26:14.118098Z",
     "start_time": "2020-03-26T16:26:14.051829Z"
    },
    "scrolled": true
   },
   "outputs": [
    {
     "data": {
      "text/html": [
       "<table class=\"simpletable\">\n",
       "<caption>OLS Regression Results</caption>\n",
       "<tr>\n",
       "  <th>Dep. Variable:</th>            <td>y</td>        <th>  R-squared:         </th>  <td>   0.397</td>  \n",
       "</tr>\n",
       "<tr>\n",
       "  <th>Model:</th>                   <td>OLS</td>       <th>  Adj. R-squared:    </th>  <td>   0.397</td>  \n",
       "</tr>\n",
       "<tr>\n",
       "  <th>Method:</th>             <td>Least Squares</td>  <th>  F-statistic:       </th>  <td>   1266.</td>  \n",
       "</tr>\n",
       "<tr>\n",
       "  <th>Date:</th>             <td>Thu, 26 Mar 2020</td> <th>  Prob (F-statistic):</th>   <td>  0.00</td>   \n",
       "</tr>\n",
       "<tr>\n",
       "  <th>Time:</th>                 <td>16:26:14</td>     <th>  Log-Likelihood:    </th> <td>-2.1498e+05</td>\n",
       "</tr>\n",
       "<tr>\n",
       "  <th>No. Observations:</th>      <td> 15368</td>      <th>  AIC:               </th>  <td>4.300e+05</td> \n",
       "</tr>\n",
       "<tr>\n",
       "  <th>Df Residuals:</th>          <td> 15359</td>      <th>  BIC:               </th>  <td>4.300e+05</td> \n",
       "</tr>\n",
       "<tr>\n",
       "  <th>Df Model:</th>              <td>     8</td>      <th>                     </th>      <td> </td>     \n",
       "</tr>\n",
       "<tr>\n",
       "  <th>Covariance Type:</th>      <td>nonrobust</td>    <th>                     </th>      <td> </td>     \n",
       "</tr>\n",
       "</table>\n",
       "<table class=\"simpletable\">\n",
       "<tr>\n",
       "       <td></td>         <th>coef</th>     <th>std err</th>      <th>t</th>      <th>P>|t|</th>  <th>[0.025</th>    <th>0.975]</th>  \n",
       "</tr>\n",
       "<tr>\n",
       "  <th>const</th>      <td> 6.545e+06</td> <td> 2.01e+05</td> <td>   32.529</td> <td> 0.000</td> <td> 6.15e+06</td> <td> 6.94e+06</td>\n",
       "</tr>\n",
       "<tr>\n",
       "  <th>id</th>         <td>-1.018e-06</td> <td> 8.14e-07</td> <td>   -1.250</td> <td> 0.211</td> <td>-2.61e-06</td> <td> 5.78e-07</td>\n",
       "</tr>\n",
       "<tr>\n",
       "  <th>bedrooms</th>   <td> 1.464e+04</td> <td> 3090.927</td> <td>    4.738</td> <td> 0.000</td> <td> 8585.377</td> <td> 2.07e+04</td>\n",
       "</tr>\n",
       "<tr>\n",
       "  <th>bathrooms</th>  <td>   2.8e+05</td> <td> 4464.410</td> <td>   62.725</td> <td> 0.000</td> <td> 2.71e+05</td> <td> 2.89e+05</td>\n",
       "</tr>\n",
       "<tr>\n",
       "  <th>sqft_lot</th>   <td>    0.3970</td> <td>    0.056</td> <td>    7.046</td> <td> 0.000</td> <td>    0.287</td> <td>    0.507</td>\n",
       "</tr>\n",
       "<tr>\n",
       "  <th>floors</th>     <td> 6.838e+04</td> <td> 5316.129</td> <td>   12.862</td> <td> 0.000</td> <td>  5.8e+04</td> <td> 7.88e+04</td>\n",
       "</tr>\n",
       "<tr>\n",
       "  <th>waterfront</th> <td> 9.892e+05</td> <td>  2.6e+04</td> <td>   38.002</td> <td> 0.000</td> <td> 9.38e+05</td> <td> 1.04e+06</td>\n",
       "</tr>\n",
       "<tr>\n",
       "  <th>condition</th>  <td> 1.804e+04</td> <td> 3893.949</td> <td>    4.632</td> <td> 0.000</td> <td> 1.04e+04</td> <td> 2.57e+04</td>\n",
       "</tr>\n",
       "<tr>\n",
       "  <th>yr_built</th>   <td>-3458.8203</td> <td>  101.962</td> <td>  -33.923</td> <td> 0.000</td> <td>-3658.678</td> <td>-3258.962</td>\n",
       "</tr>\n",
       "</table>\n",
       "<table class=\"simpletable\">\n",
       "<tr>\n",
       "  <th>Omnibus:</th>       <td>10316.081</td> <th>  Durbin-Watson:     </th>  <td>   2.022</td> \n",
       "</tr>\n",
       "<tr>\n",
       "  <th>Prob(Omnibus):</th>  <td> 0.000</td>   <th>  Jarque-Bera (JB):  </th> <td>347108.270</td>\n",
       "</tr>\n",
       "<tr>\n",
       "  <th>Skew:</th>           <td> 2.758</td>   <th>  Prob(JB):          </th>  <td>    0.00</td> \n",
       "</tr>\n",
       "<tr>\n",
       "  <th>Kurtosis:</th>       <td>25.620</td>   <th>  Cond. No.          </th>  <td>4.70e+11</td> \n",
       "</tr>\n",
       "</table><br/><br/>Warnings:<br/>[1] Standard Errors assume that the covariance matrix of the errors is correctly specified.<br/>[2] The condition number is large, 4.7e+11. This might indicate that there are<br/>strong multicollinearity or other numerical problems."
      ],
      "text/plain": [
       "<class 'statsmodels.iolib.summary.Summary'>\n",
       "\"\"\"\n",
       "                            OLS Regression Results                            \n",
       "==============================================================================\n",
       "Dep. Variable:                      y   R-squared:                       0.397\n",
       "Model:                            OLS   Adj. R-squared:                  0.397\n",
       "Method:                 Least Squares   F-statistic:                     1266.\n",
       "Date:                Thu, 26 Mar 2020   Prob (F-statistic):               0.00\n",
       "Time:                        16:26:14   Log-Likelihood:            -2.1498e+05\n",
       "No. Observations:               15368   AIC:                         4.300e+05\n",
       "Df Residuals:                   15359   BIC:                         4.300e+05\n",
       "Df Model:                           8                                         \n",
       "Covariance Type:            nonrobust                                         \n",
       "==============================================================================\n",
       "                 coef    std err          t      P>|t|      [0.025      0.975]\n",
       "------------------------------------------------------------------------------\n",
       "const       6.545e+06   2.01e+05     32.529      0.000    6.15e+06    6.94e+06\n",
       "id         -1.018e-06   8.14e-07     -1.250      0.211   -2.61e-06    5.78e-07\n",
       "bedrooms    1.464e+04   3090.927      4.738      0.000    8585.377    2.07e+04\n",
       "bathrooms     2.8e+05   4464.410     62.725      0.000    2.71e+05    2.89e+05\n",
       "sqft_lot       0.3970      0.056      7.046      0.000       0.287       0.507\n",
       "floors      6.838e+04   5316.129     12.862      0.000     5.8e+04    7.88e+04\n",
       "waterfront  9.892e+05    2.6e+04     38.002      0.000    9.38e+05    1.04e+06\n",
       "condition   1.804e+04   3893.949      4.632      0.000    1.04e+04    2.57e+04\n",
       "yr_built   -3458.8203    101.962    -33.923      0.000   -3658.678   -3258.962\n",
       "==============================================================================\n",
       "Omnibus:                    10316.081   Durbin-Watson:                   2.022\n",
       "Prob(Omnibus):                  0.000   Jarque-Bera (JB):           347108.270\n",
       "Skew:                           2.758   Prob(JB):                         0.00\n",
       "Kurtosis:                      25.620   Cond. No.                     4.70e+11\n",
       "==============================================================================\n",
       "\n",
       "Warnings:\n",
       "[1] Standard Errors assume that the covariance matrix of the errors is correctly specified.\n",
       "[2] The condition number is large, 4.7e+11. This might indicate that there are\n",
       "strong multicollinearity or other numerical problems.\n",
       "\"\"\""
      ]
     },
     "execution_count": 98,
     "metadata": {},
     "output_type": "execute_result"
    }
   ],
   "source": [
    "X_cte3 = sm.add_constant(X_train3)\n",
    "model3 = sm.OLS(y_train, X_cte3)\n",
    "\n",
    "results3 = model3.fit()\n",
    "\n",
    "results3.summary()"
   ]
  },
  {
   "cell_type": "code",
   "execution_count": 89,
   "metadata": {
    "ExecuteTime": {
     "end_time": "2020-03-26T16:20:22.435904Z",
     "start_time": "2020-03-26T16:20:22.430024Z"
    }
   },
   "outputs": [],
   "source": [
    "X_test3 = X_test.drop([\"grade\",\"sqft_living\"], axis=1)"
   ]
  },
  {
   "cell_type": "code",
   "execution_count": 90,
   "metadata": {
    "ExecuteTime": {
     "end_time": "2020-03-26T16:20:22.752762Z",
     "start_time": "2020-03-26T16:20:22.736278Z"
    }
   },
   "outputs": [
    {
     "data": {
      "text/plain": [
       "0.3691832712879076"
      ]
     },
     "execution_count": 90,
     "metadata": {},
     "output_type": "execute_result"
    }
   ],
   "source": [
    "lin_reg3 = LinearRegression(fit_intercept=True)\n",
    "lin_reg3.fit(X_train3,y_train)\n",
    "lin_reg3.score(X_test3,y_test)"
   ]
  },
  {
   "cell_type": "markdown",
   "metadata": {
    "ExecuteTime": {
     "end_time": "2020-03-26T20:05:23.069023Z",
     "start_time": "2020-03-26T20:05:22.781508Z"
    }
   },
   "source": [
    "From the train-test-split I can see that:"
   ]
  },
  {
   "cell_type": "markdown",
   "metadata": {
    "ExecuteTime": {
     "end_time": "2020-03-26T20:05:25.131678Z",
     "start_time": "2020-03-26T20:05:25.128434Z"
    }
   },
   "source": [
    "the model is not overfitting becouse the R2 train and the R2 test are similar "
   ]
  },
  {
   "cell_type": "markdown",
   "metadata": {
    "ExecuteTime": {
     "end_time": "2020-03-26T20:08:03.939592Z",
     "start_time": "2020-03-26T20:08:03.935316Z"
    }
   },
   "source": [
    "# Business Questions:"
   ]
  },
  {
   "cell_type": "markdown",
   "metadata": {},
   "source": [
    "## 1 - As grade and bathrooms show multicollinearity, which is the most significant variable in predicting the price?"
   ]
  },
  {
   "cell_type": "markdown",
   "metadata": {
    "ExecuteTime": {
     "end_time": "2020-03-26T20:10:11.321796Z",
     "start_time": "2020-03-26T20:10:11.313841Z"
    }
   },
   "source": [
    "I create a 4th model dropping bathrooms and the sqft_living\n"
   ]
  },
  {
   "cell_type": "code",
   "execution_count": 144,
   "metadata": {
    "ExecuteTime": {
     "end_time": "2020-03-26T20:11:48.914072Z",
     "start_time": "2020-03-26T20:11:48.909181Z"
    }
   },
   "outputs": [],
   "source": [
    "X_train4 = X_train.drop([\"bathrooms\",\"sqft_living\"], axis=1)"
   ]
  },
  {
   "cell_type": "code",
   "execution_count": 145,
   "metadata": {
    "ExecuteTime": {
     "end_time": "2020-03-26T20:11:50.665258Z",
     "start_time": "2020-03-26T20:11:50.615558Z"
    },
    "scrolled": true
   },
   "outputs": [
    {
     "data": {
      "text/html": [
       "<table class=\"simpletable\">\n",
       "<caption>OLS Regression Results</caption>\n",
       "<tr>\n",
       "  <th>Dep. Variable:</th>            <td>y</td>        <th>  R-squared:         </th>  <td>   0.576</td>  \n",
       "</tr>\n",
       "<tr>\n",
       "  <th>Model:</th>                   <td>OLS</td>       <th>  Adj. R-squared:    </th>  <td>   0.576</td>  \n",
       "</tr>\n",
       "<tr>\n",
       "  <th>Method:</th>             <td>Least Squares</td>  <th>  F-statistic:       </th>  <td>   2609.</td>  \n",
       "</tr>\n",
       "<tr>\n",
       "  <th>Date:</th>             <td>Thu, 26 Mar 2020</td> <th>  Prob (F-statistic):</th>   <td>  0.00</td>   \n",
       "</tr>\n",
       "<tr>\n",
       "  <th>Time:</th>                 <td>20:11:50</td>     <th>  Log-Likelihood:    </th> <td>-2.1246e+05</td>\n",
       "</tr>\n",
       "<tr>\n",
       "  <th>No. Observations:</th>      <td> 15376</td>      <th>  AIC:               </th>  <td>4.249e+05</td> \n",
       "</tr>\n",
       "<tr>\n",
       "  <th>Df Residuals:</th>          <td> 15367</td>      <th>  BIC:               </th>  <td>4.250e+05</td> \n",
       "</tr>\n",
       "<tr>\n",
       "  <th>Df Model:</th>              <td>     8</td>      <th>                     </th>      <td> </td>     \n",
       "</tr>\n",
       "<tr>\n",
       "  <th>Covariance Type:</th>      <td>nonrobust</td>    <th>                     </th>      <td> </td>     \n",
       "</tr>\n",
       "</table>\n",
       "<table class=\"simpletable\">\n",
       "<tr>\n",
       "       <td></td>         <th>coef</th>     <th>std err</th>      <th>t</th>      <th>P>|t|</th>  <th>[0.025</th>    <th>0.975]</th>  \n",
       "</tr>\n",
       "<tr>\n",
       "  <th>const</th>      <td> 5.625e+06</td> <td> 1.62e+05</td> <td>   34.676</td> <td> 0.000</td> <td> 5.31e+06</td> <td> 5.94e+06</td>\n",
       "</tr>\n",
       "<tr>\n",
       "  <th>id</th>         <td>-9.808e-07</td> <td> 6.87e-07</td> <td>   -1.428</td> <td> 0.153</td> <td>-2.33e-06</td> <td> 3.65e-07</td>\n",
       "</tr>\n",
       "<tr>\n",
       "  <th>bedrooms</th>   <td>  3.42e+04</td> <td> 2346.516</td> <td>   14.573</td> <td> 0.000</td> <td> 2.96e+04</td> <td> 3.88e+04</td>\n",
       "</tr>\n",
       "<tr>\n",
       "  <th>sqft_lot</th>   <td>    0.1256</td> <td>    0.047</td> <td>    2.663</td> <td> 0.008</td> <td>    0.033</td> <td>    0.218</td>\n",
       "</tr>\n",
       "<tr>\n",
       "  <th>floors</th>     <td> 4.118e+04</td> <td> 4417.212</td> <td>    9.324</td> <td> 0.000</td> <td> 3.25e+04</td> <td> 4.98e+04</td>\n",
       "</tr>\n",
       "<tr>\n",
       "  <th>waterfront</th> <td> 9.494e+05</td> <td>  2.3e+04</td> <td>   41.268</td> <td> 0.000</td> <td> 9.04e+05</td> <td> 9.94e+05</td>\n",
       "</tr>\n",
       "<tr>\n",
       "  <th>condition</th>  <td> 2.818e+04</td> <td> 3262.248</td> <td>    8.640</td> <td> 0.000</td> <td> 2.18e+04</td> <td> 3.46e+04</td>\n",
       "</tr>\n",
       "<tr>\n",
       "  <th>grade</th>      <td> 2.278e+05</td> <td> 2084.657</td> <td>  109.263</td> <td> 0.000</td> <td> 2.24e+05</td> <td> 2.32e+05</td>\n",
       "</tr>\n",
       "<tr>\n",
       "  <th>yr_built</th>   <td>-3605.1794</td> <td>   83.501</td> <td>  -43.175</td> <td> 0.000</td> <td>-3768.851</td> <td>-3441.508</td>\n",
       "</tr>\n",
       "</table>\n",
       "<table class=\"simpletable\">\n",
       "<tr>\n",
       "  <th>Omnibus:</th>       <td>13335.023</td> <th>  Durbin-Watson:     </th>  <td>   1.998</td>  \n",
       "</tr>\n",
       "<tr>\n",
       "  <th>Prob(Omnibus):</th>  <td> 0.000</td>   <th>  Jarque-Bera (JB):  </th> <td>1291581.971</td>\n",
       "</tr>\n",
       "<tr>\n",
       "  <th>Skew:</th>           <td> 3.698</td>   <th>  Prob(JB):          </th>  <td>    0.00</td>  \n",
       "</tr>\n",
       "<tr>\n",
       "  <th>Kurtosis:</th>       <td>47.286</td>   <th>  Cond. No.          </th>  <td>4.49e+11</td>  \n",
       "</tr>\n",
       "</table><br/><br/>Warnings:<br/>[1] Standard Errors assume that the covariance matrix of the errors is correctly specified.<br/>[2] The condition number is large, 4.49e+11. This might indicate that there are<br/>strong multicollinearity or other numerical problems."
      ],
      "text/plain": [
       "<class 'statsmodels.iolib.summary.Summary'>\n",
       "\"\"\"\n",
       "                            OLS Regression Results                            \n",
       "==============================================================================\n",
       "Dep. Variable:                      y   R-squared:                       0.576\n",
       "Model:                            OLS   Adj. R-squared:                  0.576\n",
       "Method:                 Least Squares   F-statistic:                     2609.\n",
       "Date:                Thu, 26 Mar 2020   Prob (F-statistic):               0.00\n",
       "Time:                        20:11:50   Log-Likelihood:            -2.1246e+05\n",
       "No. Observations:               15376   AIC:                         4.249e+05\n",
       "Df Residuals:                   15367   BIC:                         4.250e+05\n",
       "Df Model:                           8                                         \n",
       "Covariance Type:            nonrobust                                         \n",
       "==============================================================================\n",
       "                 coef    std err          t      P>|t|      [0.025      0.975]\n",
       "------------------------------------------------------------------------------\n",
       "const       5.625e+06   1.62e+05     34.676      0.000    5.31e+06    5.94e+06\n",
       "id         -9.808e-07   6.87e-07     -1.428      0.153   -2.33e-06    3.65e-07\n",
       "bedrooms     3.42e+04   2346.516     14.573      0.000    2.96e+04    3.88e+04\n",
       "sqft_lot       0.1256      0.047      2.663      0.008       0.033       0.218\n",
       "floors      4.118e+04   4417.212      9.324      0.000    3.25e+04    4.98e+04\n",
       "waterfront  9.494e+05    2.3e+04     41.268      0.000    9.04e+05    9.94e+05\n",
       "condition   2.818e+04   3262.248      8.640      0.000    2.18e+04    3.46e+04\n",
       "grade       2.278e+05   2084.657    109.263      0.000    2.24e+05    2.32e+05\n",
       "yr_built   -3605.1794     83.501    -43.175      0.000   -3768.851   -3441.508\n",
       "==============================================================================\n",
       "Omnibus:                    13335.023   Durbin-Watson:                   1.998\n",
       "Prob(Omnibus):                  0.000   Jarque-Bera (JB):          1291581.971\n",
       "Skew:                           3.698   Prob(JB):                         0.00\n",
       "Kurtosis:                      47.286   Cond. No.                     4.49e+11\n",
       "==============================================================================\n",
       "\n",
       "Warnings:\n",
       "[1] Standard Errors assume that the covariance matrix of the errors is correctly specified.\n",
       "[2] The condition number is large, 4.49e+11. This might indicate that there are\n",
       "strong multicollinearity or other numerical problems.\n",
       "\"\"\""
      ]
     },
     "execution_count": 145,
     "metadata": {},
     "output_type": "execute_result"
    }
   ],
   "source": [
    "X_cte4 = sm.add_constant(X_train4)\n",
    "model4 = sm.OLS(y_train, X_cte4)\n",
    "\n",
    "results4 = model4.fit()\n",
    "\n",
    "results4.summary()"
   ]
  },
  {
   "cell_type": "code",
   "execution_count": 84,
   "metadata": {
    "ExecuteTime": {
     "end_time": "2020-03-26T16:14:51.925034Z",
     "start_time": "2020-03-26T16:14:51.501432Z"
    }
   },
   "outputs": [
    {
     "data": {
      "text/plain": [
       "[<matplotlib.lines.Line2D at 0x1c20cf75f8>]"
      ]
     },
     "execution_count": 84,
     "metadata": {},
     "output_type": "execute_result"
    },
    {
     "data": {
      "image/png": "[encoded data removed]",
      "text/plain": [
       "<Figure size 432x288 with 1 Axes>"
      ]
     },
     "metadata": {
      "needs_background": "light"
     },
     "output_type": "display_data"
    }
   ],
   "source": [
    "plt.scatter(results3.predict(X_cte4), results3.resid)\n",
    "plt.plot(results3.predict(X_cte4), [0 for i in range(len(X_cte4))])"
   ]
  },
  {
   "cell_type": "code",
   "execution_count": 56,
   "metadata": {
    "ExecuteTime": {
     "end_time": "2020-03-26T16:11:47.929535Z",
     "start_time": "2020-03-26T16:11:47.921188Z"
    }
   },
   "outputs": [],
   "source": [
    "X_test4 = X_test.drop([\"bathrooms\",\"sqft_living\"], axis=1)"
   ]
  },
  {
   "cell_type": "code",
   "execution_count": 57,
   "metadata": {
    "ExecuteTime": {
     "end_time": "2020-03-26T16:11:47.948171Z",
     "start_time": "2020-03-26T16:11:47.932163Z"
    }
   },
   "outputs": [
    {
     "data": {
      "text/plain": [
       "0.5703402881579495"
      ]
     },
     "execution_count": 57,
     "metadata": {},
     "output_type": "execute_result"
    }
   ],
   "source": [
    "lin_reg4 = LinearRegression(fit_intercept=True)\n",
    "lin_reg4.fit(X_train4, y_train)\n",
    "lin_reg4.score(X_test4, y_test)"
   ]
  },
  {
   "cell_type": "markdown",
   "metadata": {
    "ExecuteTime": {
     "end_time": "2020-03-26T20:17:18.358715Z",
     "start_time": "2020-03-26T20:17:18.355229Z"
    }
   },
   "source": [
    "- Answer: Grade does have a more significant impact on the price than the Bathrooms becouse by dropping from the model the variable Bathroom the R2 is bigger(0,57) then dropping from the model the variable Grade ( R2 = 0, 369)"
   ]
  },
  {
   "cell_type": "markdown",
   "metadata": {
    "ExecuteTime": {
     "end_time": "2020-03-26T20:18:47.178339Z",
     "start_time": "2020-03-26T20:18:47.174088Z"
    }
   },
   "source": [
    " - This means that the most accurate model for predicting the price is the one that drops the variable Bathrooms and not the variable Grade "
   ]
  },
  {
   "cell_type": "markdown",
   "metadata": {},
   "source": [
    "## 2 - Does having a waterfront in the house has a positive impact in the price?"
   ]
  },
  {
   "cell_type": "code",
   "execution_count": 63,
   "metadata": {
    "ExecuteTime": {
     "end_time": "2020-03-26T16:11:48.843689Z",
     "start_time": "2020-03-26T16:11:48.832700Z"
    }
   },
   "outputs": [
    {
     "data": {
      "text/plain": [
       "0.0    19066\n",
       "1.0      145\n",
       "Name: waterfront, dtype: int64"
      ]
     },
     "execution_count": 63,
     "metadata": {},
     "output_type": "execute_result"
    }
   ],
   "source": [
    "kc_house[\"waterfront\"].value_counts()"
   ]
  },
  {
   "cell_type": "code",
   "execution_count": 160,
   "metadata": {
    "ExecuteTime": {
     "end_time": "2020-03-26T20:40:31.795348Z",
     "start_time": "2020-03-26T20:40:31.790680Z"
    }
   },
   "outputs": [],
   "source": [
    "water_1 = kc_house[kc_house[\"waterfront\"] == 1]\n"
   ]
  },
  {
   "cell_type": "code",
   "execution_count": 161,
   "metadata": {
    "ExecuteTime": {
     "end_time": "2020-03-26T20:40:32.092435Z",
     "start_time": "2020-03-26T20:40:32.066551Z"
    }
   },
   "outputs": [
    {
     "data": {
      "text/html": [
       "<div>\n",
       "<style scoped>\n",
       "    .dataframe tbody tr th:only-of-type {\n",
       "        vertical-align: middle;\n",
       "    }\n",
       "\n",
       "    .dataframe tbody tr th {\n",
       "        vertical-align: top;\n",
       "    }\n",
       "\n",
       "    .dataframe thead th {\n",
       "        text-align: right;\n",
       "    }\n",
       "</style>\n",
       "<table border=\"1\" class=\"dataframe\">\n",
       "  <thead>\n",
       "    <tr style=\"text-align: right;\">\n",
       "      <th></th>\n",
       "      <th>id</th>\n",
       "      <th>price</th>\n",
       "      <th>bedrooms</th>\n",
       "      <th>bathrooms</th>\n",
       "      <th>sqft_living</th>\n",
       "      <th>sqft_lot</th>\n",
       "      <th>floors</th>\n",
       "      <th>waterfront</th>\n",
       "      <th>condition</th>\n",
       "      <th>grade</th>\n",
       "      <th>yr_built</th>\n",
       "    </tr>\n",
       "  </thead>\n",
       "  <tbody>\n",
       "    <tr>\n",
       "      <th>45</th>\n",
       "      <td>822039084</td>\n",
       "      <td>1350000.0</td>\n",
       "      <td>3</td>\n",
       "      <td>2.50</td>\n",
       "      <td>2753</td>\n",
       "      <td>65005</td>\n",
       "      <td>1.0</td>\n",
       "      <td>1.0</td>\n",
       "      <td>5</td>\n",
       "      <td>9</td>\n",
       "      <td>1953</td>\n",
       "    </tr>\n",
       "    <tr>\n",
       "      <th>205</th>\n",
       "      <td>8096000060</td>\n",
       "      <td>655000.0</td>\n",
       "      <td>2</td>\n",
       "      <td>1.75</td>\n",
       "      <td>1450</td>\n",
       "      <td>15798</td>\n",
       "      <td>2.0</td>\n",
       "      <td>1.0</td>\n",
       "      <td>3</td>\n",
       "      <td>7</td>\n",
       "      <td>1915</td>\n",
       "    </tr>\n",
       "    <tr>\n",
       "      <th>221</th>\n",
       "      <td>2025069065</td>\n",
       "      <td>2400000.0</td>\n",
       "      <td>4</td>\n",
       "      <td>2.50</td>\n",
       "      <td>3650</td>\n",
       "      <td>8354</td>\n",
       "      <td>1.0</td>\n",
       "      <td>1.0</td>\n",
       "      <td>3</td>\n",
       "      <td>9</td>\n",
       "      <td>2000</td>\n",
       "    </tr>\n",
       "    <tr>\n",
       "      <th>238</th>\n",
       "      <td>2123039032</td>\n",
       "      <td>369900.0</td>\n",
       "      <td>1</td>\n",
       "      <td>0.75</td>\n",
       "      <td>760</td>\n",
       "      <td>10079</td>\n",
       "      <td>1.0</td>\n",
       "      <td>1.0</td>\n",
       "      <td>5</td>\n",
       "      <td>5</td>\n",
       "      <td>1936</td>\n",
       "    </tr>\n",
       "    <tr>\n",
       "      <th>268</th>\n",
       "      <td>3225069065</td>\n",
       "      <td>3080000.0</td>\n",
       "      <td>4</td>\n",
       "      <td>5.00</td>\n",
       "      <td>4550</td>\n",
       "      <td>18641</td>\n",
       "      <td>1.0</td>\n",
       "      <td>1.0</td>\n",
       "      <td>3</td>\n",
       "      <td>10</td>\n",
       "      <td>2002</td>\n",
       "    </tr>\n",
       "  </tbody>\n",
       "</table>\n",
       "</div>"
      ],
      "text/plain": [
       "             id      price  bedrooms  bathrooms  sqft_living  sqft_lot  \\\n",
       "45    822039084  1350000.0         3       2.50         2753     65005   \n",
       "205  8096000060   655000.0         2       1.75         1450     15798   \n",
       "221  2025069065  2400000.0         4       2.50         3650      8354   \n",
       "238  2123039032   369900.0         1       0.75          760     10079   \n",
       "268  3225069065  3080000.0         4       5.00         4550     18641   \n",
       "\n",
       "     floors  waterfront  condition  grade  yr_built  \n",
       "45      1.0         1.0          5      9      1953  \n",
       "205     2.0         1.0          3      7      1915  \n",
       "221     1.0         1.0          3      9      2000  \n",
       "238     1.0         1.0          5      5      1936  \n",
       "268     1.0         1.0          3     10      2002  "
      ]
     },
     "execution_count": 161,
     "metadata": {},
     "output_type": "execute_result"
    }
   ],
   "source": [
    "water_1.head()"
   ]
  },
  {
   "cell_type": "code",
   "execution_count": 162,
   "metadata": {
    "ExecuteTime": {
     "end_time": "2020-03-26T20:40:36.093426Z",
     "start_time": "2020-03-26T20:40:36.086102Z"
    }
   },
   "outputs": [],
   "source": [
    "water_0 = kc_house[kc_house[\"waterfront\"] == 0]"
   ]
  },
  {
   "cell_type": "code",
   "execution_count": 163,
   "metadata": {
    "ExecuteTime": {
     "end_time": "2020-03-26T20:40:36.308720Z",
     "start_time": "2020-03-26T20:40:36.289186Z"
    },
    "scrolled": true
   },
   "outputs": [
    {
     "data": {
      "text/html": [
       "<div>\n",
       "<style scoped>\n",
       "    .dataframe tbody tr th:only-of-type {\n",
       "        vertical-align: middle;\n",
       "    }\n",
       "\n",
       "    .dataframe tbody tr th {\n",
       "        vertical-align: top;\n",
       "    }\n",
       "\n",
       "    .dataframe thead th {\n",
       "        text-align: right;\n",
       "    }\n",
       "</style>\n",
       "<table border=\"1\" class=\"dataframe\">\n",
       "  <thead>\n",
       "    <tr style=\"text-align: right;\">\n",
       "      <th></th>\n",
       "      <th>id</th>\n",
       "      <th>price</th>\n",
       "      <th>bedrooms</th>\n",
       "      <th>bathrooms</th>\n",
       "      <th>sqft_living</th>\n",
       "      <th>sqft_lot</th>\n",
       "      <th>floors</th>\n",
       "      <th>waterfront</th>\n",
       "      <th>condition</th>\n",
       "      <th>grade</th>\n",
       "      <th>yr_built</th>\n",
       "    </tr>\n",
       "  </thead>\n",
       "  <tbody>\n",
       "    <tr>\n",
       "      <th>0</th>\n",
       "      <td>6414100192</td>\n",
       "      <td>538000.0</td>\n",
       "      <td>3</td>\n",
       "      <td>2.25</td>\n",
       "      <td>2570</td>\n",
       "      <td>7242</td>\n",
       "      <td>2.0</td>\n",
       "      <td>0.0</td>\n",
       "      <td>3</td>\n",
       "      <td>7</td>\n",
       "      <td>1951</td>\n",
       "    </tr>\n",
       "    <tr>\n",
       "      <th>1</th>\n",
       "      <td>5631500400</td>\n",
       "      <td>180000.0</td>\n",
       "      <td>2</td>\n",
       "      <td>1.00</td>\n",
       "      <td>770</td>\n",
       "      <td>10000</td>\n",
       "      <td>1.0</td>\n",
       "      <td>0.0</td>\n",
       "      <td>3</td>\n",
       "      <td>6</td>\n",
       "      <td>1933</td>\n",
       "    </tr>\n",
       "    <tr>\n",
       "      <th>2</th>\n",
       "      <td>2487200875</td>\n",
       "      <td>604000.0</td>\n",
       "      <td>4</td>\n",
       "      <td>3.00</td>\n",
       "      <td>1960</td>\n",
       "      <td>5000</td>\n",
       "      <td>1.0</td>\n",
       "      <td>0.0</td>\n",
       "      <td>5</td>\n",
       "      <td>7</td>\n",
       "      <td>1965</td>\n",
       "    </tr>\n",
       "    <tr>\n",
       "      <th>3</th>\n",
       "      <td>1954400510</td>\n",
       "      <td>510000.0</td>\n",
       "      <td>3</td>\n",
       "      <td>2.00</td>\n",
       "      <td>1680</td>\n",
       "      <td>8080</td>\n",
       "      <td>1.0</td>\n",
       "      <td>0.0</td>\n",
       "      <td>3</td>\n",
       "      <td>8</td>\n",
       "      <td>1987</td>\n",
       "    </tr>\n",
       "    <tr>\n",
       "      <th>4</th>\n",
       "      <td>7237550310</td>\n",
       "      <td>1230000.0</td>\n",
       "      <td>4</td>\n",
       "      <td>4.50</td>\n",
       "      <td>5420</td>\n",
       "      <td>101930</td>\n",
       "      <td>1.0</td>\n",
       "      <td>0.0</td>\n",
       "      <td>3</td>\n",
       "      <td>11</td>\n",
       "      <td>2001</td>\n",
       "    </tr>\n",
       "  </tbody>\n",
       "</table>\n",
       "</div>"
      ],
      "text/plain": [
       "           id      price  bedrooms  bathrooms  sqft_living  sqft_lot  floors  \\\n",
       "0  6414100192   538000.0         3       2.25         2570      7242     2.0   \n",
       "1  5631500400   180000.0         2       1.00          770     10000     1.0   \n",
       "2  2487200875   604000.0         4       3.00         1960      5000     1.0   \n",
       "3  1954400510   510000.0         3       2.00         1680      8080     1.0   \n",
       "4  7237550310  1230000.0         4       4.50         5420    101930     1.0   \n",
       "\n",
       "   waterfront  condition  grade  yr_built  \n",
       "0         0.0          3      7      1951  \n",
       "1         0.0          3      6      1933  \n",
       "2         0.0          5      7      1965  \n",
       "3         0.0          3      8      1987  \n",
       "4         0.0          3     11      2001  "
      ]
     },
     "execution_count": 163,
     "metadata": {},
     "output_type": "execute_result"
    }
   ],
   "source": [
    "water_0.head()"
   ]
  },
  {
   "cell_type": "code",
   "execution_count": 164,
   "metadata": {
    "ExecuteTime": {
     "end_time": "2020-03-26T20:40:37.006623Z",
     "start_time": "2020-03-26T20:40:36.474916Z"
    },
    "scrolled": false
   },
   "outputs": [
    {
     "name": "stderr",
     "output_type": "stream",
     "text": [
      "/opt/anaconda3/envs/learn-env/lib/python3.6/site-packages/scipy/stats/stats.py:1713: FutureWarning: Using a non-tuple sequence for multidimensional indexing is deprecated; use `arr[tuple(seq)]` instead of `arr[seq]`. In the future this will be interpreted as an array index, `arr[np.array(seq)]`, which will result either in an error or a different result.\n",
      "  return np.add.reduce(sorted[indexer] * weights, axis=axis) / sumval\n"
     ]
    },
    {
     "data": {
      "image/png": "[encoded data removed]",
      "text/plain": [
       "<Figure size 1152x864 with 1 Axes>"
      ]
     },
     "metadata": {
      "needs_background": "light"
     },
     "output_type": "display_data"
    }
   ],
   "source": [
    "plt.figure(figsize=(16,12))\n",
    "sns.distplot(water_1[\"price\"], label=\"waterfront\")\n",
    "sns.distplot(water_0[\"price\"], label=\"no waterfront\")\n",
    "plt.legend()\n",
    "plt.show()\n"
   ]
  },
  {
   "cell_type": "markdown",
   "metadata": {
    "ExecuteTime": {
     "end_time": "2020-03-26T20:26:45.422674Z",
     "start_time": "2020-03-26T20:26:45.417355Z"
    }
   },
   "source": [
    "- Answer: Is pretty clear from the visualisation above that the the houses with waterfront are more to the right:   this means that they have a positive impact on the price than the houses wihtout waterfront "
   ]
  },
  {
   "cell_type": "code",
   "execution_count": 70,
   "metadata": {
    "ExecuteTime": {
     "end_time": "2020-03-26T16:11:49.762180Z",
     "start_time": "2020-03-26T16:11:49.512484Z"
    }
   },
   "outputs": [
    {
     "name": "stderr",
     "output_type": "stream",
     "text": [
      "No handles with labels found to put in legend.\n"
     ]
    },
    {
     "data": {
      "image/png": "[encoded data removed]",
      "text/plain": [
       "<Figure size 504x504 with 1 Axes>"
      ]
     },
     "metadata": {
      "needs_background": "light"
     },
     "output_type": "display_data"
    }
   ],
   "source": [
    "plt.figure(figsize=(7,7))\n",
    "sns.boxplot(x=\"waterfront\", y=\"price\", data=kc_house)\n",
    "plt.legend()\n",
    "plt.show()\n",
    "\n"
   ]
  },
  {
   "cell_type": "markdown",
   "metadata": {},
   "source": [
    "## Z-Test"
   ]
  },
  {
   "cell_type": "markdown",
   "metadata": {
    "ExecuteTime": {
     "end_time": "2020-03-26T20:29:51.664531Z",
     "start_time": "2020-03-26T20:29:51.657118Z"
    }
   },
   "source": [
    "Let's use the z-test in order to verify if my assumption is correct"
   ]
  },
  {
   "cell_type": "code",
   "execution_count": 156,
   "metadata": {
    "ExecuteTime": {
     "end_time": "2020-03-26T20:31:26.481591Z",
     "start_time": "2020-03-26T20:31:26.477501Z"
    }
   },
   "outputs": [],
   "source": [
    "# h0= there is no difference between waterfront and no waterfront\n",
    "# h1= the mean price for waterfront in significantly grater than the mean price for no waterfront"
   ]
  },
  {
   "cell_type": "code",
   "execution_count": 157,
   "metadata": {
    "ExecuteTime": {
     "end_time": "2020-03-26T20:31:29.806069Z",
     "start_time": "2020-03-26T20:31:29.799872Z"
    }
   },
   "outputs": [
    {
     "name": "stdout",
     "output_type": "stream",
     "text": [
      "the p value is: 0.0\n",
      "reject null hypothesis\n"
     ]
    }
   ],
   "source": [
    "ztest ,pval = stests.ztest(x1=water_1[\"price\"], x2=water_0[\"price\"], alternative=\"larger\", value=0)\n",
    "\n",
    "print(\"the p value is:\", float(pval))\n",
    "if pval<0.05:\n",
    "    print(\"reject null hypothesis\")\n",
    "else:\n",
    "    print(\"accept null hypothesis\")"
   ]
  },
  {
   "cell_type": "markdown",
   "metadata": {
    "ExecuteTime": {
     "end_time": "2020-03-26T20:35:47.826051Z",
     "start_time": "2020-03-26T20:35:47.822826Z"
    }
   },
   "source": [
    "The result of the test is that the null hypothesis is rejected becouse the p value is 0, less than the α = 0.05  \n",
    "With a p value = 0 I can say that the waterfront as a significant impact on the price"
   ]
  },
  {
   "cell_type": "markdown",
   "metadata": {},
   "source": [
    "## 3- How does compare the houses built before 1975 and after 1975 upon the price?"
   ]
  },
  {
   "cell_type": "code",
   "execution_count": 165,
   "metadata": {
    "ExecuteTime": {
     "end_time": "2020-03-26T20:42:33.369795Z",
     "start_time": "2020-03-26T20:42:33.361064Z"
    }
   },
   "outputs": [
    {
     "data": {
      "text/plain": [
       "1975.0"
      ]
     },
     "execution_count": 165,
     "metadata": {},
     "output_type": "execute_result"
    }
   ],
   "source": [
    "kc_house[\"yr_built\"].median()"
   ]
  },
  {
   "cell_type": "markdown",
   "metadata": {
    "ExecuteTime": {
     "end_time": "2020-03-26T23:00:12.824129Z",
     "start_time": "2020-03-26T23:00:12.817878Z"
    }
   },
   "source": [
    "The average number of houses were built in 1975, from this data I can start my analysis"
   ]
  },
  {
   "cell_type": "code",
   "execution_count": 166,
   "metadata": {
    "ExecuteTime": {
     "end_time": "2020-03-26T20:42:35.044569Z",
     "start_time": "2020-03-26T20:42:35.035861Z"
    }
   },
   "outputs": [],
   "source": [
    "yr_built0 = kc_house[kc_house[\"yr_built\"] <= 1975]\n",
    "yr_built1 = kc_house[kc_house[\"yr_built\"] > 1975]\n"
   ]
  },
  {
   "cell_type": "code",
   "execution_count": 167,
   "metadata": {
    "ExecuteTime": {
     "end_time": "2020-03-26T20:42:44.454280Z",
     "start_time": "2020-03-26T20:42:43.755541Z"
    }
   },
   "outputs": [
    {
     "name": "stderr",
     "output_type": "stream",
     "text": [
      "/opt/anaconda3/envs/learn-env/lib/python3.6/site-packages/scipy/stats/stats.py:1713: FutureWarning: Using a non-tuple sequence for multidimensional indexing is deprecated; use `arr[tuple(seq)]` instead of `arr[seq]`. In the future this will be interpreted as an array index, `arr[np.array(seq)]`, which will result either in an error or a different result.\n",
      "  return np.add.reduce(sorted[indexer] * weights, axis=axis) / sumval\n"
     ]
    },
    {
     "data": {
      "image/png": "[encoded data removed]",
      "text/plain": [
       "<Figure size 1152x864 with 1 Axes>"
      ]
     },
     "metadata": {
      "needs_background": "light"
     },
     "output_type": "display_data"
    }
   ],
   "source": [
    "plt.figure(figsize=(16,12))\n",
    "sns.distplot(yr_built0[\"price\"], label=\"house built before than 1975\")\n",
    "sns.distplot(yr_built1[\"price\"], label=\"house built after than 1975\")\n",
    "plt.legend()\n",
    "plt.show()\n"
   ]
  },
  {
   "cell_type": "markdown",
   "metadata": {
    "ExecuteTime": {
     "end_time": "2020-03-26T16:11:50.433949Z",
     "start_time": "2020-03-26T16:11:50.429531Z"
    }
   },
   "source": [
    "Seems there the houses built after 1975 are sligtly more expensive but the difference is not much. This could be becouse due to the survival bias on the houses built before 1975 becouse the ones that are still in use are really likely to be the \n",
    "best ones before 1975. "
   ]
  },
  {
   "cell_type": "code",
   "execution_count": 169,
   "metadata": {
    "ExecuteTime": {
     "end_time": "2020-03-26T23:04:43.882321Z",
     "start_time": "2020-03-26T23:04:43.863014Z"
    },
    "scrolled": true
   },
   "outputs": [
    {
     "data": {
      "text/html": [
       "<div>\n",
       "<style scoped>\n",
       "    .dataframe tbody tr th:only-of-type {\n",
       "        vertical-align: middle;\n",
       "    }\n",
       "\n",
       "    .dataframe tbody tr th {\n",
       "        vertical-align: top;\n",
       "    }\n",
       "\n",
       "    .dataframe thead th {\n",
       "        text-align: right;\n",
       "    }\n",
       "</style>\n",
       "<table border=\"1\" class=\"dataframe\">\n",
       "  <thead>\n",
       "    <tr style=\"text-align: right;\">\n",
       "      <th></th>\n",
       "      <th>id</th>\n",
       "      <th>price</th>\n",
       "      <th>bedrooms</th>\n",
       "      <th>bathrooms</th>\n",
       "      <th>sqft_living</th>\n",
       "      <th>sqft_lot</th>\n",
       "      <th>floors</th>\n",
       "      <th>waterfront</th>\n",
       "      <th>condition</th>\n",
       "      <th>grade</th>\n",
       "      <th>yr_built</th>\n",
       "      <th>1975</th>\n",
       "    </tr>\n",
       "  </thead>\n",
       "  <tbody>\n",
       "    <tr>\n",
       "      <th>0</th>\n",
       "      <td>6414100192</td>\n",
       "      <td>538000.0</td>\n",
       "      <td>3</td>\n",
       "      <td>2.25</td>\n",
       "      <td>2570</td>\n",
       "      <td>7242</td>\n",
       "      <td>2.0</td>\n",
       "      <td>0.0</td>\n",
       "      <td>3</td>\n",
       "      <td>7</td>\n",
       "      <td>1951</td>\n",
       "      <td>True</td>\n",
       "    </tr>\n",
       "    <tr>\n",
       "      <th>1</th>\n",
       "      <td>5631500400</td>\n",
       "      <td>180000.0</td>\n",
       "      <td>2</td>\n",
       "      <td>1.00</td>\n",
       "      <td>770</td>\n",
       "      <td>10000</td>\n",
       "      <td>1.0</td>\n",
       "      <td>0.0</td>\n",
       "      <td>3</td>\n",
       "      <td>6</td>\n",
       "      <td>1933</td>\n",
       "      <td>True</td>\n",
       "    </tr>\n",
       "    <tr>\n",
       "      <th>2</th>\n",
       "      <td>2487200875</td>\n",
       "      <td>604000.0</td>\n",
       "      <td>4</td>\n",
       "      <td>3.00</td>\n",
       "      <td>1960</td>\n",
       "      <td>5000</td>\n",
       "      <td>1.0</td>\n",
       "      <td>0.0</td>\n",
       "      <td>5</td>\n",
       "      <td>7</td>\n",
       "      <td>1965</td>\n",
       "      <td>True</td>\n",
       "    </tr>\n",
       "    <tr>\n",
       "      <th>3</th>\n",
       "      <td>1954400510</td>\n",
       "      <td>510000.0</td>\n",
       "      <td>3</td>\n",
       "      <td>2.00</td>\n",
       "      <td>1680</td>\n",
       "      <td>8080</td>\n",
       "      <td>1.0</td>\n",
       "      <td>0.0</td>\n",
       "      <td>3</td>\n",
       "      <td>8</td>\n",
       "      <td>1987</td>\n",
       "      <td>False</td>\n",
       "    </tr>\n",
       "    <tr>\n",
       "      <th>4</th>\n",
       "      <td>7237550310</td>\n",
       "      <td>1230000.0</td>\n",
       "      <td>4</td>\n",
       "      <td>4.50</td>\n",
       "      <td>5420</td>\n",
       "      <td>101930</td>\n",
       "      <td>1.0</td>\n",
       "      <td>0.0</td>\n",
       "      <td>3</td>\n",
       "      <td>11</td>\n",
       "      <td>2001</td>\n",
       "      <td>False</td>\n",
       "    </tr>\n",
       "  </tbody>\n",
       "</table>\n",
       "</div>"
      ],
      "text/plain": [
       "           id      price  bedrooms  bathrooms  sqft_living  sqft_lot  floors  \\\n",
       "0  6414100192   538000.0         3       2.25         2570      7242     2.0   \n",
       "1  5631500400   180000.0         2       1.00          770     10000     1.0   \n",
       "2  2487200875   604000.0         4       3.00         1960      5000     1.0   \n",
       "3  1954400510   510000.0         3       2.00         1680      8080     1.0   \n",
       "4  7237550310  1230000.0         4       4.50         5420    101930     1.0   \n",
       "\n",
       "   waterfront  condition  grade  yr_built   1975  \n",
       "0         0.0          3      7      1951   True  \n",
       "1         0.0          3      6      1933   True  \n",
       "2         0.0          5      7      1965   True  \n",
       "3         0.0          3      8      1987  False  \n",
       "4         0.0          3     11      2001  False  "
      ]
     },
     "execution_count": 169,
     "metadata": {},
     "output_type": "execute_result"
    }
   ],
   "source": [
    "kc_house[\"1975\"] = kc_house[\"yr_built\"] <= 1975\n",
    "kc_house.head()"
   ]
  },
  {
   "cell_type": "code",
   "execution_count": 170,
   "metadata": {
    "ExecuteTime": {
     "end_time": "2020-03-26T23:04:44.422618Z",
     "start_time": "2020-03-26T23:04:44.094817Z"
    }
   },
   "outputs": [
    {
     "name": "stderr",
     "output_type": "stream",
     "text": [
      "No handles with labels found to put in legend.\n"
     ]
    },
    {
     "data": {
      "image/png": "[encoded data removed]",
      "text/plain": [
       "<Figure size 1080x1080 with 1 Axes>"
      ]
     },
     "metadata": {
      "needs_background": "light"
     },
     "output_type": "display_data"
    }
   ],
   "source": [
    "plt.figure(figsize=(15,15))\n",
    "sns.boxplot(\"1975\", \"price\", data=kc_house)\n",
    "plt.legend()\n",
    "plt.show()\n"
   ]
  },
  {
   "cell_type": "markdown",
   "metadata": {},
   "source": [
    "## Z - test"
   ]
  },
  {
   "cell_type": "markdown",
   "metadata": {},
   "source": [
    "Let's use the z-test in order to verify if my assumption is correct"
   ]
  },
  {
   "cell_type": "code",
   "execution_count": 171,
   "metadata": {
    "ExecuteTime": {
     "end_time": "2020-03-26T23:10:35.733438Z",
     "start_time": "2020-03-26T23:10:35.729276Z"
    }
   },
   "outputs": [],
   "source": [
    "# h0= there is no difference between the price of houses built before 1975 and after 1975\n",
    "# h1= the mean price for the houses built after 1975 in significantly grater than the mean price for the houses built before 1975"
   ]
  },
  {
   "cell_type": "code",
   "execution_count": 172,
   "metadata": {
    "ExecuteTime": {
     "end_time": "2020-03-26T23:10:36.212058Z",
     "start_time": "2020-03-26T23:10:36.204688Z"
    }
   },
   "outputs": [
    {
     "name": "stdout",
     "output_type": "stream",
     "text": [
      "the p value is: 3.323452709237758e-38\n",
      "reject null hypothesis\n"
     ]
    }
   ],
   "source": [
    "ztest ,pval = stests.ztest(x1=yr_built1[\"price\"], x2=yr_built0[\"price\"], alternative=\"larger\", value=0)\n",
    "\n",
    "print(\"the p value is:\", float(pval))\n",
    "if pval<0.05:\n",
    "    print(\"reject null hypothesis\")\n",
    "else:\n",
    "    print(\"accept null hypothesis\")"
   ]
  },
  {
   "cell_type": "markdown",
   "metadata": {
    "ExecuteTime": {
     "end_time": "2020-03-26T23:14:29.544532Z",
     "start_time": "2020-03-26T23:14:29.538194Z"
    }
   },
   "source": [
    "The result of the test is that the null hypothesis is rejected becouse the p value is 0.332^-38, less than the α = 0.05  \n",
    "With a p value = 0.332^-38 I can accept the alternative hp."
   ]
  },
  {
   "cell_type": "code",
   "execution_count": null,
   "metadata": {},
   "outputs": [],
   "source": []
  }
 ],
 "metadata": {
  "kernelspec": {
   "display_name": "Python [conda env:learn-env] *",
   "language": "python",
   "name": "conda-env-learn-env-py"
  },
  "language_info": {
   "codemirror_mode": {
    "name": "ipython",
    "version": 3
   },
   "file_extension": ".py",
   "mimetype": "text/x-python",
   "name": "python",
   "nbconvert_exporter": "python",
   "pygments_lexer": "ipython3",
   "version": "3.6.6"
  }
 },
 "nbformat": 4,
 "nbformat_minor": 2
}
